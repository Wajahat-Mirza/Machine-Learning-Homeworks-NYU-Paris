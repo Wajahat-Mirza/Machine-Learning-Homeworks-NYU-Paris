{
 "cells": [
  {
   "cell_type": "markdown",
   "metadata": {},
   "source": [
    "## Homework II: Logistic Regression, SVM and some computational drug design\n",
    "\n",
    "__Given date:__ Saturday March 7 \n",
    "\n",
    "__Due date:__ Tuesday March 31\n",
    "\n",
    "__Total__ : 30 pts + Bonus (One of the bonus question is on 3pts. For the other, it depends on what you can do)"
   ]
  },
  {
   "cell_type": "markdown",
   "metadata": {},
   "source": [
    "# __Student: Muhammad Wajahat Mirza__\n",
    "\n",
    "# **NetID: mwm356**"
   ]
  },
  {
   "cell_type": "markdown",
   "metadata": {},
   "source": [
    "<img src=\"computationalDrugDiscovery.png\" width=\"400\">"
   ]
  },
  {
   "cell_type": "markdown",
   "metadata": {},
   "source": [
    "### Exercise I.1. Logistic regression (10pts)\n",
    "\n",
    "Use the lines below to load the variables __HW2_ExI_X__ and __HW2_ExI_Y__. In this first exercise, you will learn a logistic regression classifier on this dataset. Recall that the logistig regression model takes the form\n",
    "\n",
    "$$p(t=1|\\mathbf{x}) = \\sigma(\\mathbf{\\beta}^T\\tilde{\\mathbf{x}})$$\n",
    "\n",
    "where $\\tilde{\\mathbf{x}} = [1, \\mathbf{x}] = [1, x_1, x_2, \\ldots, x_D]$. Consequently, we thus have \n",
    "\n",
    "$$p(t = 0|\\mathbf{x}) = 1 - \\sigma(\\mathbf{\\beta}^T\\tilde{\\mathbf{x}})$$\n",
    "\n",
    "we can then write the total probability that a point $\\mathbf{x}$ will be from class $c = \\left\\{0,1\\right\\}$ as \n",
    "\n",
    "$$p(t = c|\\mathbf{x}) = p(t = 1|\\mathbf{x})^{c} p(t = 0|\\mathbf{x})^{1-c} $$\n",
    "\n",
    "or equivalently\n",
    "\n",
    "$$p(t = c|\\mathbf{x}) = (\\sigma(\\mathbf{\\beta}^T\\tilde{\\mathbf{x}}))^{c} (1-\\sigma(\\mathbf{\\beta}^T\\tilde{\\mathbf{x}}))^{1-c}  = p^c (1-p)^{1-c}$$\n",
    "\n",
    "which is a binomial distribution with probability of success $\\sigma(\\mathbf{\\beta}^T\\tilde{\\mathbf{x}})$. If we assume that all the samples are independent, the probability of observing the dataset can read as the product\n",
    "\n",
    "$$p(\\left\\{\\mathbf{x}_i, t_i\\right\\}) = \\prod_{i=1}^N p(t = t(\\mathbf{x}_i)|\\mathbf{x}_i)\\quad  (*)$$\n",
    "\n",
    "We can then try to learn the parameters $\\mathbf{\\beta}$ that maximize this probability (i.e such that the probability $p(t = t_i |\\mathbf{x}_i)$ is high for every sample pair in the dataset. To do this, we take the negative logarithm of $(*)$ which gives \n",
    "\n",
    "$$-\\log \\prod_{i=1}^N p(t = t(\\mathbf{x}_i)|\\mathbf{x}_i) = -\\sum_{i=1}^N c_i \\log(\\sigma(\\mathbf{\\beta}^T\\tilde{\\mathbf{x}}_i)) - \\sum_{i=1}^N (1-c_i)\\log(1-\\sigma(\\mathbf{\\beta}^T\\tilde{\\mathbf{x}_i}))\\quad  (**)$$\n",
    "\n",
    "and find the $\\mathbf{\\beta}$ that minimizes this expression."
   ]
  },
  {
   "cell_type": "code",
   "execution_count": 1,
   "metadata": {},
   "outputs": [
    {
     "data": {
      "text/plain": [
       "<Figure size 640x480 with 1 Axes>"
      ]
     },
     "metadata": {},
     "output_type": "display_data"
    }
   ],
   "source": [
    "from sklearn.datasets import make_blobs\n",
    "import matplotlib.pyplot as plt\n",
    "import numpy as np\n",
    "\n",
    "\n",
    "X = np.load('Ex1_HW2_X.npy') \n",
    "Y = np.load('Ex1_HW2_t.npy') \n",
    "\n",
    "\n",
    "X_class1 = X[Y==0,:]\n",
    "X_class2 = X[Y==1,:]\n",
    "\n",
    "plt.scatter(X_class1[:, 0], X_class1[:, 1], marker='o', c='r',\n",
    "            s=35)\n",
    "plt.scatter(X_class2[:, 0], X_class2[:, 1], marker='o', c='b',\n",
    "            s=35)\n",
    "\n",
    "plt.show()\n"
   ]
  },
  {
   "cell_type": "markdown",
   "metadata": {
    "collapsed": true
   },
   "source": [
    "# __Question I.1.1 Logistic from scratch (7pts)__ \n",
    "Write a function that takes as inputs a set of training pairs $\\left\\{\\mathbf{x}_i, t_i\\right\\}$ such as those stored in the variables $\\texttt{HW2_ExI_X}$ and $\\texttt{HW2_ExI_Y}$, and return the logistic regression classifier by learning it through gradient descent from the minimization of the negative log likelihood function $(**)$. Apply your function to the dataset given above and plot the discriminant function on top of this dataset.\n"
   ]
  },
  {
   "cell_type": "markdown",
   "metadata": {},
   "source": [
    "# Solution\n",
    "\n",
    "# 1. Mathematical base\n",
    "\n",
    "**Our Goal is:**  $ 0  \\leq h_\\beta (x)  \\leq 1 $\n",
    " \n",
    "For that, we define our Sigmoid Function as: \n",
    "\n",
    "$$ h_{(\\beta)}(x) = \\sigma(\\mathbf{\\beta}^T\\tilde{\\mathbf{x}}) = \\frac{\\mathrm{1} }{\\mathrm{1} + e^{- \\beta^Tx}} $$\n",
    "\n",
    "Assign discrete value of $ 0 $  or $1$ to our dataset by using **Decision Boundary** through:\n",
    "\n",
    "$$ h_\\beta (x) \\geq 0.5 \\Rightarrow t = \\mathrm{1} $$\n",
    "$$ h_\\beta (x) < 0.5 \\Rightarrow t = \\mathrm{0} $$\n",
    "\n",
    "__Cost Function__\n",
    "\n",
    "$$ l_{(\\beta)} = -\\frac{1}{N}\\sum_{i=1}^N (t^{(i)}(\\log (h_\\beta (x^{(i)})) + ((1 - t^{(i)})(\\log(1 - h_\\beta (x^{(i)}))$$\n",
    "\n",
    "**Vectorized form**\n",
    "\n",
    "$$ h = \\sigma(X\\beta)  = \\frac{\\mathrm{1} }{\\mathrm{1} + e^{-X\\beta}} $$\n",
    "$$ l_{(\\beta)} = \\frac{1}{N} ((- t ^ T \\log(h)) - ((1-t)^Tlog(1-h)))$$\n",
    "\n",
    "__Gradient Descent__ \n",
    "\n",
    "$$ \\beta_{j} := \\beta_{j} - \\eta .\\frac{1}{N} \\sum_{i=1}^N(h_\\beta (x^{(i)}) - t^{(i)}).x_{j}^{(i)}) $$\n",
    "where $$ h_\\beta (x^{(i)}) = \\frac{\\mathrm{1} }{\\mathrm{1} + e^{- \\beta^Tx^{(i)}}} $$\n",
    "**Vectorized Form:** \n",
    "$$ \\beta_{j} := \\beta_{j} - \\eta .\\frac{1}{N}.X^T(\\sigma(X\\beta) - \\overrightarrow{t}) $$\n",
    "\n",
    "# 2. Programming"
   ]
  },
  {
   "cell_type": "code",
   "execution_count": 1,
   "metadata": {},
   "outputs": [],
   "source": [
    "# start by coding the sigmoid function. \n",
    "def sigmoid(X, beta):  \n",
    "    beta_x = np.dot(X, beta[1:]) + beta[0]\n",
    "    sigmoid  = np.true_divide(1, (1+np.exp(-beta_x)))\n",
    "    return sigmoid\n",
    "\n",
    "def Cost_function(Y,X_beta):\n",
    "    loss_beta = np.sum((-Y.dot(np.log(X_beta)) - ((1-Y).dot(np.log(1 - X_beta))))).mean()\n",
    "    return loss_beta\n",
    "\n",
    "def gradient_descent(X,Y,beta,eta,num_iter):\n",
    "    cost = []\n",
    "    for i in range(num_iter):\n",
    "        X_beta = sigmoid(X,beta)\n",
    "        error = X_beta - Y\n",
    "        gradient = X.T.dot(error)\n",
    "        beta[0] = beta[0] - eta * error.sum()\n",
    "        beta[1:] = beta[1:] - eta * gradient\n",
    "        cost.append(Cost_function(Y, X_beta))\n",
    "        ''' IF you want to check Cost, uncomment following lines'''\n",
    "#         if (i % 20 == 0):\n",
    "#             print(\"iter: {}  cost={}\".format(i, cost))\n",
    "#     print(\"This is COST: \", cost)\n",
    "    \n",
    "    return cost, beta"
   ]
  },
  {
   "cell_type": "code",
   "execution_count": 3,
   "metadata": {},
   "outputs": [],
   "source": [
    "def logistic_regression(X,num_iter):\n",
    "    m, N = X.shape\n",
    "    beta = np.zeros(1 + N)\n",
    "    eta = 0.01\n",
    "    cost, beta = gradient_descent(X, Y, beta, eta, num_iter)\n",
    "    \n",
    "    plt.plot(range(1, len(cost) + 1), cost)\n",
    "    plt.xlabel('Iterations')\n",
    "    plt.ylabel('Cost')\n",
    "    plt.title('Logistic Regression')\n",
    "    \n",
    "    print ('Logisitc Regression bias:', beta[0])\n",
    "    print ('Logisitc Regression coefficients :', beta[1:])\n",
    "    \n",
    "    return beta\n",
    "\n",
    "# def boundary_line(X,beta):\n",
    "#     decrete_0_1 = np.where(sigmoid(X,beta) >= 0.5, 1, 0)\n",
    "#     return decrete_0_1\n",
    "# boundary_line(X,beta)"
   ]
  },
  {
   "cell_type": "code",
   "execution_count": 4,
   "metadata": {},
   "outputs": [
    {
     "name": "stdout",
     "output_type": "stream",
     "text": [
      "(100,)\n",
      "(100,)\n",
      "(100,)\n",
      "(100,)\n",
      "(100,)\n",
      "(100,)\n",
      "(100,)\n",
      "(100,)\n",
      "(100,)\n",
      "(100,)\n",
      "(100,)\n",
      "(100,)\n",
      "(100,)\n",
      "(100,)\n",
      "(100,)\n",
      "(100,)\n",
      "(100,)\n",
      "(100,)\n",
      "(100,)\n",
      "(100,)\n",
      "(100,)\n",
      "(100,)\n",
      "(100,)\n",
      "(100,)\n",
      "(100,)\n",
      "(100,)\n",
      "(100,)\n",
      "(100,)\n",
      "(100,)\n",
      "(100,)\n",
      "(100,)\n",
      "(100,)\n",
      "(100,)\n",
      "(100,)\n",
      "(100,)\n",
      "(100,)\n",
      "(100,)\n",
      "(100,)\n",
      "(100,)\n",
      "(100,)\n",
      "(100,)\n",
      "(100,)\n",
      "(100,)\n",
      "(100,)\n",
      "(100,)\n",
      "(100,)\n",
      "(100,)\n",
      "(100,)\n",
      "(100,)\n",
      "(100,)\n",
      "(100,)\n",
      "(100,)\n",
      "(100,)\n",
      "(100,)\n",
      "(100,)\n",
      "(100,)\n",
      "(100,)\n",
      "(100,)\n",
      "(100,)\n",
      "(100,)\n",
      "(100,)\n",
      "(100,)\n",
      "(100,)\n",
      "(100,)\n",
      "(100,)\n",
      "(100,)\n",
      "(100,)\n",
      "(100,)\n",
      "(100,)\n",
      "(100,)\n",
      "(100,)\n",
      "(100,)\n",
      "(100,)\n",
      "(100,)\n",
      "(100,)\n",
      "(100,)\n",
      "(100,)\n",
      "(100,)\n",
      "(100,)\n",
      "(100,)\n",
      "(100,)\n",
      "(100,)\n",
      "(100,)\n",
      "(100,)\n",
      "(100,)\n",
      "(100,)\n",
      "(100,)\n",
      "(100,)\n",
      "(100,)\n",
      "(100,)\n",
      "(100,)\n",
      "(100,)\n",
      "(100,)\n",
      "(100,)\n",
      "(100,)\n",
      "(100,)\n",
      "(100,)\n",
      "(100,)\n",
      "(100,)\n",
      "(100,)\n",
      "(100,)\n",
      "(100,)\n",
      "(100,)\n",
      "(100,)\n",
      "(100,)\n",
      "(100,)\n",
      "(100,)\n",
      "(100,)\n",
      "(100,)\n",
      "(100,)\n",
      "(100,)\n",
      "(100,)\n",
      "(100,)\n",
      "(100,)\n",
      "(100,)\n",
      "(100,)\n",
      "(100,)\n",
      "(100,)\n",
      "(100,)\n",
      "(100,)\n",
      "(100,)\n",
      "(100,)\n",
      "(100,)\n",
      "(100,)\n",
      "(100,)\n",
      "(100,)\n",
      "(100,)\n",
      "(100,)\n",
      "(100,)\n",
      "(100,)\n",
      "(100,)\n",
      "(100,)\n",
      "(100,)\n",
      "(100,)\n",
      "(100,)\n",
      "(100,)\n",
      "(100,)\n",
      "(100,)\n",
      "(100,)\n",
      "(100,)\n",
      "(100,)\n",
      "(100,)\n",
      "(100,)\n",
      "(100,)\n",
      "(100,)\n",
      "(100,)\n",
      "(100,)\n",
      "(100,)\n",
      "(100,)\n",
      "(100,)\n",
      "(100,)\n",
      "(100,)\n",
      "(100,)\n",
      "(100,)\n",
      "(100,)\n",
      "(100,)\n",
      "(100,)\n",
      "(100,)\n",
      "(100,)\n",
      "(100,)\n",
      "Logisitc Regression bias: -0.08738914721806902\n",
      "Logisitc Regression coefficients : [ 0.61400393 -3.36849292]\n"
     ]
    },
    {
     "data": {
      "image/png": "[encoded data removed]",
      "text/plain": [
       "<Figure size 432x288 with 1 Axes>"
      ]
     },
     "metadata": {
      "needs_background": "light"
     },
     "output_type": "display_data"
    },
    {
     "data": {
      "image/png": "[encoded data removed]",
      "text/plain": [
       "<Figure size 432x288 with 1 Axes>"
      ]
     },
     "metadata": {
      "needs_background": "light"
     },
     "output_type": "display_data"
    }
   ],
   "source": [
    "# First way to plot using class lab code. My problem is with the prediction line\n",
    "def plot_boundary_line(X,Y,beta):\n",
    "    x1min = np.amin(X[:,0])\n",
    "    x1max = np.amax(X[:,0])\n",
    "\n",
    "    x2min = np.amin(X[:,1])\n",
    "    x2max = np.amax(X[:,1])\n",
    "\n",
    "    x1mesh = np.linspace(x1min, x1max, 100)\n",
    "    x2mesh = np.linspace(x2min, x2max, 100)\n",
    "\n",
    "\n",
    "    x1MeshMat, x2MeshMat = np.meshgrid(x1mesh.reshape(-1,1), x2mesh.reshape(-1,1))\n",
    "\n",
    "\n",
    "    x1MeshMat = x1MeshMat.flatten()\n",
    "    x2MeshMat = x2MeshMat.flatten()\n",
    "\n",
    "    X12 = np.vstack((x1MeshMat, x2MeshMat)).T\n",
    "\n",
    "    totalNumPointsGrid = len(x1MeshMat)\n",
    "\n",
    "    addon = np.ones((totalNumPointsGrid, 1))\n",
    "\n",
    "    pointsGrid = np.hstack((addon.reshape(-1,1), X12))\n",
    "\n",
    "    prediction = np.dot(pointsGrid, beta)\n",
    "\n",
    "    prediction[prediction<.5] = 0\n",
    "    prediction[prediction>.5] = 1\n",
    "\n",
    "    coordinatesX1 = np.reshape(x1MeshMat, (100,100))\n",
    "    coordinatesX2 = np.reshape(x2MeshMat, (100,100))\n",
    "    reshaped_prediction = np.reshape(prediction, (100,100))\n",
    "\n",
    "    fig, ax = plt.subplots(constrained_layout=True)\n",
    "    plt.scatter(X[:,0], X[:,1], c = Y)\n",
    "    ax.contourf(coordinatesX1, coordinatesX2, reshaped_prediction, alpha=0.1)\n",
    "    plt.show()\n",
    "\n",
    "beta = logistic_regression(X,160)\n",
    "plot_boundary_line(X,Y,beta)"
   ]
  },
  {
   "cell_type": "markdown",
   "metadata": {},
   "source": [
    "# [Alternative(Optional)] Solution to I.1 with STD skewed Data"
   ]
  },
  {
   "cell_type": "code",
   "execution_count": 29,
   "metadata": {},
   "outputs": [
    {
     "name": "stdout",
     "output_type": "stream",
     "text": [
      "Here, the mean of the Data is taken followed by taking STD of it.     This contraints the data which is why we get a slightly better result on boundary line than un-constraint work as shown above\n",
      "Logisitc Regression bias: -0.018848528115640768\n",
      "Logisitc Regression coefficients : [-0.00823991 -2.94587114]\n"
     ]
    },
    {
     "data": {
      "image/png": "[encoded data removed]",
      "text/plain": [
       "<Figure size 432x288 with 1 Axes>"
      ]
     },
     "metadata": {
      "needs_background": "light"
     },
     "output_type": "display_data"
    },
    {
     "data": {
      "image/png": "[encoded data removed]",
      "text/plain": [
       "<Figure size 432x288 with 1 Axes>"
      ]
     },
     "metadata": {
      "needs_background": "light"
     },
     "output_type": "display_data"
    }
   ],
   "source": [
    "from sklearn.datasets import make_blobs\n",
    "import matplotlib.pyplot as plt\n",
    "import numpy as np\n",
    "\n",
    "\n",
    "def STD_skewed_data(X):\n",
    "    X[:,0] = (X[:,0] - X[:,0].mean()) / X[:,0].std()\n",
    "    X[:,1] = (X[:,1] - X[:,1].mean()) / X[:,1].std()\n",
    "\n",
    "    print(\"Here, the mean of the Data is taken followed by taking STD of it. \\\n",
    "    This contraints the data which is why we get a slightly better result on boundary line than un-constraint work as shown above\")\n",
    "    beta = logistic_regression(X,20)\n",
    "    plot_boundary_line(X,Y,beta)\n",
    "STD_skewed_data(X)"
   ]
  },
  {
   "cell_type": "markdown",
   "metadata": {
    "collapsed": true
   },
   "source": [
    "# __Question I.1.2 Logistic vs OLS (3pts)__ \n",
    "Consider the dataset given below. On this dataset, __using the corresponding modules from scikit__, learn a linear regression classifier. Then learn a logistic classifier. How do the two approaches compare with each other? Display each each of the classifiers using 'meshgrid + contourf'"
   ]
  },
  {
   "cell_type": "code",
   "execution_count": 30,
   "metadata": {},
   "outputs": [
    {
     "name": "stdout",
     "output_type": "stream",
     "text": [
      "(32, 2)\n",
      "(14, 2)\n"
     ]
    },
    {
     "data": {
      "image/png": "[encoded data removed]",
      "text/plain": [
       "<Figure size 432x288 with 1 Axes>"
      ]
     },
     "metadata": {
      "needs_background": "light"
     },
     "output_type": "display_data"
    }
   ],
   "source": [
    "import matplotlib.pyplot as plt\n",
    "import numpy as np\n",
    "import scipy.io as sio\n",
    "\n",
    "from sklearn.datasets import make_classification\n",
    "\n",
    "data_class1 = sio.loadmat('XHW2_EX2_Class1.mat')['XHW2_EX2_Class1']\n",
    "data_class2 = sio.loadmat('XHW2_EX2_Class2.mat')['XHW2_EX2_Class2']\n",
    "\n",
    "print(data_class1.shape)\n",
    "print(data_class2.shape)\n",
    "plt.scatter(data_class1[:, 0], data_class1[:, 1], marker='o', c='r',\n",
    "            s=35)\n",
    "plt.scatter(data_class2[:, 0], data_class2[:, 1], marker='o', c='b',\n",
    "            s=35)\n",
    "\n",
    "\n",
    "plt.show()"
   ]
  },
  {
   "cell_type": "markdown",
   "metadata": {},
   "source": [
    "# Solution: Logistic VS OLS Classification Using Scikit-Learn\n",
    "\n",
    "# 1. For Logistic Regression Classifier\n",
    "\n",
    "1. Create a Function that does logistic regression using Scikit Learn \n",
    "2. It will output a C-SVC linear classification which is with regularized parameters. \n",
    "3. It will also output a Logistic Regression Classifier without regularization\n",
    "3. Write a function that displays the results \n",
    "\n",
    "# 2. For Linear Regression Classifier \n",
    "\n",
    "1. Write a Function to display Linear Regression Classification \n",
    "2. Call the Function for C-SVC Classification for reference "
   ]
  },
  {
   "cell_type": "code",
   "execution_count": 36,
   "metadata": {},
   "outputs": [],
   "source": [
    "import numpy as np\n",
    "from sklearn.datasets import make_classification\n",
    "from sklearn.linear_model import LogisticRegression\n",
    "from sklearn.linear_model import LinearRegression\n",
    "import scipy.io as sio\n",
    "from sklearn.svm import SVC\n",
    "\n",
    "def Regression_classifier_Scikit(data_class1, data_clas2):\n",
    "    Class1 = np.hstack((data_class1[:,0].reshape(-1,1),data_class1[:,1].reshape(-1,1)))\n",
    "    Class2 = np.hstack((data_class2[:,0].reshape(-1,1),data_class2[:,1].reshape(-1,1)))\n",
    "    data = np.vstack((Class1,Class2))\n",
    "    print(\"Data shape: \",data.shape)\n",
    "\n",
    "    target1 = np.ones((np.shape(data_class1[:,1])[0],1))\n",
    "    target2 = -np.ones((np.shape(data_class2[:,1])[0],1))\n",
    "    target = np.vstack((target1,target2))\n",
    "    print(\"Target shape: \",target.shape)\n",
    "\n",
    "    clf = SVC(kernel = 'linear',gamma = 5,max_iter = 500)\n",
    "    clf1 = clf.fit(data,target)\n",
    "\n",
    "    clf2 = LogisticRegression(random_state = 0,solver =\"lbfgs\",max_iter = 18)\n",
    "    clf2 = clf2.fit(data,target)\n",
    "    \n",
    "    clf3 = LinearRegression()\n",
    "    clf3 = clf3.fit(data,target)\n",
    "\n",
    "    return clf1, clf2,clf3, data"
   ]
  },
  {
   "cell_type": "code",
   "execution_count": 37,
   "metadata": {},
   "outputs": [],
   "source": [
    "def plot_classifer(clf1,clf2,clf3,data):\n",
    "    x1min = np.amin(data[:,0])\n",
    "    x1max = np.amax(data[:,0])\n",
    "    x2min = np.amin(data[:,1])\n",
    "    x2max = np.amax(data[:,1])\n",
    "\n",
    "    x1mesh = np.linspace(x1min, x1max, 100)\n",
    "    x2mesh = np.linspace(x2min, x2max, 100)\n",
    "\n",
    "    x1MeshMat, x2MeshMat = np.meshgrid(x1mesh, x2mesh)\n",
    "\n",
    "    x1MeshMat_vec = x1MeshMat.flatten()\n",
    "    x2MeshMat_vec = x2MeshMat.flatten()\n",
    "\n",
    "    Mesh_grid = np.vstack((x1MeshMat_vec, x2MeshMat_vec)).T\n",
    "\n",
    "    target1 = clf1.predict(Mesh_grid)\n",
    "    print(\"target SVC vector 1: \",target1)\n",
    "    target2 = clf2.predict(Mesh_grid)\n",
    "    print(\"target Logistic vector 2:\",target2.T)\n",
    "    \n",
    "    target3 = clf3.predict(Mesh_grid)\n",
    "    print(\"target OLS vector 2:\",target2.T)\n",
    "    \n",
    "    import warnings\n",
    "    warnings.filterwarnings(\"ignore\")\n",
    "    plt.contourf(x1MeshMat,x2MeshMat, np.reshape(target1, np.shape(x1MeshMat)),alpha = 0.1)\n",
    "    plt.scatter(data_class1[:, 0], data_class1[:, 1], marker='o', c='r',s=35)\n",
    "    plt.scatter(data_class2[:, 0], data_class2[:, 1], marker='o', c='b',s=35)\n",
    "    plt.show()\n",
    "    print(\"Above is classification with the C-SVC Regularization Parameter!\")\n",
    "    \n",
    "    plt.contourf(x1MeshMat,x2MeshMat, np.reshape(target2.T, np.shape(x1MeshMat)),alpha = 0.1)\n",
    "    plt.scatter(data_class1[:, 0], data_class1[:, 1], marker='o', c='r',s=35)\n",
    "    plt.scatter(data_class2[:, 0], data_class2[:, 1], marker='o', c='b',s=35)\n",
    "    plt.show()\n",
    "    print(\"Above is Logistic Classification!\")\n",
    "    \n",
    "    plt.contourf(x1MeshMat,x2MeshMat, np.reshape(target3.T, np.shape(x1MeshMat)),alpha = 0.1)\n",
    "    plt.scatter(data_class1[:, 0], data_class1[:, 1], marker='o', c='r',s=35)\n",
    "    plt.scatter(data_class2[:, 0], data_class2[:, 1], marker='o', c='b',s=35)\n",
    "    plt.show()\n",
    "    print(\"Above is Linear (OLS) Classification!\")"
   ]
  },
  {
   "cell_type": "code",
   "execution_count": 38,
   "metadata": {},
   "outputs": [
    {
     "name": "stdout",
     "output_type": "stream",
     "text": [
      "Data shape:  (46, 2)\n",
      "Target shape:  (46, 1)\n",
      "target SVC vector 1:  [-1. -1. -1. ...  1.  1.  1.]\n",
      "target Logistic vector 2: [-1. -1. -1. ...  1.  1.  1.]\n",
      "target OLS vector 2: [-1. -1. -1. ...  1.  1.  1.]\n"
     ]
    },
    {
     "data": {
      "image/png": "[encoded data removed]",
      "text/plain": [
       "<Figure size 432x288 with 1 Axes>"
      ]
     },
     "metadata": {
      "needs_background": "light"
     },
     "output_type": "display_data"
    },
    {
     "name": "stdout",
     "output_type": "stream",
     "text": [
      "Above is classification with the C-SVC Regularization Parameter!\n"
     ]
    },
    {
     "data": {
      "image/png": "[encoded data removed]",
      "text/plain": [
       "<Figure size 432x288 with 1 Axes>"
      ]
     },
     "metadata": {
      "needs_background": "light"
     },
     "output_type": "display_data"
    },
    {
     "name": "stdout",
     "output_type": "stream",
     "text": [
      "Above is Logistic Classification!\n"
     ]
    },
    {
     "data": {
      "image/png": "[encoded data removed]",
      "text/plain": [
       "<Figure size 432x288 with 1 Axes>"
      ]
     },
     "metadata": {
      "needs_background": "light"
     },
     "output_type": "display_data"
    },
    {
     "name": "stdout",
     "output_type": "stream",
     "text": [
      "Above is Linear (OLS) Classification!\n"
     ]
    }
   ],
   "source": [
    "'''Display Results'''\n",
    "clf1, clf2, clf3, data = Regression_classifier_Scikit(data_class1, data_class2)\n",
    "plot_classifer(clf1,clf2,clf3,data)\n"
   ]
  },
  {
   "cell_type": "markdown",
   "metadata": {},
   "source": [
    "## Exercise II: Maximal Margin classifier and non linearly separable data (10pts)"
   ]
  },
  {
   "cell_type": "markdown",
   "metadata": {
    "collapsed": true
   },
   "source": [
    "So far we have studied Maximal Margin classifier when the data was linearly separable. In this case, the plane will naturally position itself in between the two classes. The formulation in the linearly separable case is of the form\n",
    "\n",
    "$$\\max_{\\mathbf{w}, b_0}\\min_{i} \\frac{y(\\mathbf{x}^{(i)})t^{(i)}}{\\|\\mathbf{w}\\|} = \\max_{\\mathbf{w}, b_0}\\min_i \\frac{(\\mathbf{w}^T\\mathbf{x}^{(i)} + b_0)t^{(i)}}{\\|\\mathbf{w}\\|}$$\n",
    "\n",
    "This formulation is not very nice because the optimization variable appears at the denominator. Note that the formulation $(*)$ can be written as \n",
    "\n",
    "\\begin{align}\n",
    "\\max_{\\gamma, \\mathbf{w}, b_0} & \\quad \\frac{\\gamma}{\\|\\mathbf{w}\\|} \\\\\n",
    "\\text{subject to} &\\quad  t^{(i)}(\\mathbf{w}^T\\mathbf{x}^{(i)} + b_0) \\geq \\gamma \n",
    "\\end{align}\n",
    "\n",
    "Here we simply introduce the parameter $\\gamma$ to represent the margin (smallest distance between any point from the dataset and the plane). An important thing to notice when looking at $(**)$ is that any solution for $\\mathbf{w}, b_0, \\gamma$ can generate an other solution with the same objective by simply scaling it with a positive weight $\\alpha$. Indeed if $\\mathbf{w},b_0, \\gamma$ is an optimal solution to $(**)$, it is easy to check that $\\alpha \\mathbf{w}, \\alpha \\gamma, \\alpha b_0$ will be a valid solution as well. Since we only need one solution, we can choose to optimize over the set of solution such that $\\gamma = 1$. Concretely this means that for each 'line' of solution $(\\alpha \\gamma, \\alpha b_0, \\alpha \\mathbf{w})$, we only retain the $\\alpha$ corresponding to $\\alpha\\gamma = 1$. The problem then becomes\n",
    "\n",
    "\\begin{align}\n",
    "\\max_{\\mathbf{w}, b_0} & \\quad \\frac{1}{\\|\\mathbf{w}\\|} \\\\\n",
    "\\text{subject to} &\\quad  t^{(i)}(\\mathbf{w}^T\\mathbf{x}^{(i)} + b_0) \\geq 1.\n",
    "\\end{align}\n",
    "\n",
    "To get the final formulation, note that the maximum value for $1/\\|\\mathbf{w}\\|$ is achieved when $\\|\\mathbf{w}\\|$ is the smallest. We an thus solve the problem\n",
    "\n",
    "\\begin{align}\n",
    "\\min_{\\mathbf{w}, b_0} &\\quad  \\|\\mathbf{w}\\| \\\\\n",
    "\\text{subject to} &\\quad  t^{(i)}(\\mathbf{w}^T\\mathbf{x}^{(i)} + b_0) \\geq 1., \\quad\\quad (***) \n",
    "\\end{align}\n",
    "\n"
   ]
  },
  {
   "cell_type": "markdown",
   "metadata": {},
   "source": [
    "So far we have assumed that the dataset was linearly separable. In this case, all the points will satisfy $t^{(i)}(\\mathbf{w}^T\\mathbf{x}^{(i)} + b_0)\\geq 1$. Sometimes, however, we could be in a situation where the dataset is not linearly separable and there are points which will be misclassified so that $t^{(i)}(\\mathbf{w}^T\\mathbf{x}^{(i)} + b_0)$ might be negative. To account for such situation, we will consider slack variables $\\xi_i$ and use a more general formulation of the form\n",
    "\n",
    "\\begin{align}\n",
    "\\min_{\\mathbf{w}, b_0} &\\quad  \\|\\mathbf{w}\\| + C\\sum_{i} \\xi_i \\\\\n",
    "\\text{subject to} &\\quad  t^{(i)}(\\mathbf{w}^T\\mathbf{x}^{(i)} + b_0) \\geq 1 - \\xi_i., \\quad\\quad (***) \n",
    "\\end{align}\n",
    "\n",
    "It is in fact possible to write formulation $(***)$ as an unconstrained optimization problem. Recall that we decided to set the minimum margin to $1$. This in particular means that all the points that are correctly classified should satisfy $t^{(i)}(\\mathbf{w}^T\\mathbf{x}^{(i)} + b_0)\\geq 1$. The approach encoded in $(***)$ corresponds to penalazing those points for which $t^{(i)}(\\mathbf{w}^T\\mathbf{x}^{(i)} + b_0)<1$. As soon as we have a positive value for one of the variables \n",
    "\n",
    "\n",
    "# Question II.1 Hinge Loss (3pts)\n",
    "\n",
    "We consider the hinge loss $\\ell(x, y) = \\max(0, 1-x\\cdot y)$ for $x = t^{(i)}$ and $y = (\\mathbf{w}^T\\mathbf{x}^{(i)} + b_0)$. Note that if $t^{(i)}(\\mathbf{w}^T\\mathbf{x}^{(i)} + b_0)\\geq 0$ (meaning the pair $\\left\\{\\mathbf{x}^{(i)}\\right\\}$ is correctly classified), the output of the hinge function is $0$. On the other hand, if $t^{(i)}(\\mathbf{w}^T\\mathbf{x}^{(i)} + b_0)<0$ (which corresponds to a pair that is incorrectly classified, as can occur when the data is not linearly separable), then the cost is $1 - t^{(i)}(\\mathbf{w}^T\\mathbf{x}^{(i)} + b_0)$ (i.e. we can think of this cost as by how much we violate the constraint $t^{(i)}(\\mathbf{w}^T\\mathbf{x}^{(i)} + b_0)\\geq 1$).  From this, we can now write the objective as\n",
    "\n",
    "\\begin{align}\n",
    "\\min_{\\mathbf{w}, b_0} &\\quad  \\|\\mathbf{w}\\|^2 + C\\sum_{i} \\max(0, 1 - t^{(i)}(\\mathbf{w}^T\\mathbf{x}^{(i)} + b_0))\n",
    "\\end{align}\n",
    "\n",
    "Instead of weighting the constraints, we can weight the first term. This gives a similar formulation of the form\n",
    "\n",
    "\\begin{align}\n",
    "\\min_{\\mathbf{w}, b_0} &\\quad  \\frac{1}{N}\\sum_{i=1}^{N} \\left\\{\\frac{\\lambda}{2} \\|\\mathbf{w}\\|^2 + \\max(0, 1 - t^{(i)}(\\mathbf{w}^T\\mathbf{x}^{(i)} + b_0))\\right\\}\\quad (****)\n",
    "\\end{align}\n",
    "\n",
    "The PEGASOS algorithm finds the corresponding Soft Margin classifier by applying batch gradient descent to this last objective. \n",
    "\n",
    "What is the gradient of the Hinge loss?\n"
   ]
  },
  {
   "cell_type": "markdown",
   "metadata": {},
   "source": [
    "# Solution: \n",
    "**Hinge Loss**\n",
    "\n",
    "__Mathematical Base__\n",
    "$$\n",
    "\\ell(x, y) = \\max(0, 1-x\\cdot y)\n",
    "$$\n",
    "for $x = t^{(i)}$ and $y = (\\mathbf{w}^T\\mathbf{x}^{(i)} + b_0)$. Opening up yields:\n",
    "$$\n",
    "\\ell(x, y) = \\max(0, 1-t^{(i)}\\cdot (\\mathbf{w}^T\\mathbf{x}^{(i)} + b_0))\n",
    "$$\n",
    "\n",
    "**Gradient of Hinge Loss yields:**\n",
    "$$\n",
    "∂l(x,y)= \n",
    "\\begin{cases}\n",
    "0 & t^{(i)}(\\mathbf{w}^T\\mathbf{x}^{(i)} + b_0) \\geq 1\\\\\n",
    "-t^{(i)}x^{(i)} & t^{(i)}(\\mathbf{w}^T\\mathbf{x}^{(i)} + b_0) < 1\\\\\n",
    "\\end{cases}\n",
    "$$\n",
    "\n",
    "As stated in question, objective function along with regulariation term is:\n",
    "\\begin{align}\n",
    "\\min_{\\mathbf{w}, b_0} &\\quad  \\frac{1}{N}\\sum_{i=1}^{N} \\left\\{\\frac{\\lambda}{2} \\|\\mathbf{w}\\|^2 + \\max(0, 1 - t^{(i)}(\\mathbf{w}^T\\mathbf{x}^{(i)} + b_0))\\right\\}\\quad \n",
    "\\end{align}\n",
    "\n",
    "Gradient of Objective Function:\n",
    "$$\n",
    "∂ \\text{obj func}= \n",
    "\\begin{cases}\n",
    "\\lambda w & t^{(i)}(\\mathbf{w}^T\\mathbf{x}^{(i)} + b_0) \\geq 1\\\\\n",
    "\\lambda w -t^{(i)}x^{(i)} & t^{(i)}(\\mathbf{w}^T\\mathbf{x}^{(i)} + b_0) < 1\\\\\n",
    "\\end{cases}\n",
    "$$\n",
    "\n",
    "\n",
    "## For this problem, Function \" HingeLoss_Gradient \" will be used\n"
   ]
  },
  {
   "cell_type": "code",
   "execution_count": 39,
   "metadata": {},
   "outputs": [],
   "source": [
    "def hingLoss_nonVectorized(X, t, w, b):\n",
    "    '''Answer the question above by '''\n",
    "    ''' Non-Vectorized Form Implementation of HingeLosee'''\n",
    "    num_examples = X.shape[0]\n",
    "    hingeLoss = 0.0\n",
    "    for example in range(num_examples):\n",
    "        x_i = X[example,:]\n",
    "        t_i = t[example]\n",
    "        hingeLoss += max(0,1 - t_i * (np.dot(w,x_i) + b) ) \n",
    "    print(hingeLoss)\n",
    "    return hingeLoss\n",
    "\n",
    "def hingLoss_vectorized(X, t, w, b):\n",
    "    '''Vectorized Form Implementation of HingeLoss '''\n",
    "    ## vectorized form\n",
    "    y_yhat = t * (np.dot(X,w) + b)\n",
    "    loss_per_example = np.maximum(0, 1 - y_yhat)\n",
    "    hingeLoss = np.sum(loss_per_example)\n",
    "    \n",
    "    print(hingeLoss)\n",
    "    return hingeLoss\n",
    "\n",
    "def gradient_regularized_obj_func_using_hingLoss(X_i, t_i, w, b0, lambda0):\n",
    "    ''' Calculates the Gradient of the HingeLoss'''\n",
    "    gradient = lambda0 * w\n",
    "    y_yhat = t_i * (np.dot(w.T,X_i) + b0)\n",
    "    if y_yhat < 1:\n",
    "        gradient -= X_i * t_i\n",
    "    print(\"Grad: \",gradient)\n",
    "    return gradient\n",
    "\n",
    "''' For this Question, HingeLoss_Gradient will be used: Dual-combined Code'''\n",
    "def hingeLoss_Gradient(X,t,w):\n",
    "    cost = np.dot(t,w)\n",
    "    t = np.reshape(t,(len(t),1))\n",
    "    if cost < 1: \n",
    "        grad = np.dot(np.transpose(X),t)\n",
    "        print(\"grad: \",grad)\n",
    "        return grad\n",
    "    else: \n",
    "        return 0"
   ]
  },
  {
   "cell_type": "markdown",
   "metadata": {},
   "source": [
    "# Question II.2 Maximum Margin Classifier from scratch (7pts)\n",
    "\n",
    "Using your answer to question II.2.1 above, implement the PEGASOS algorithm. Use a simple batch gradient descent approach with a sufficiently small learning rate (let us say $\\eta = 1e-4$). Update the lambda as $1/t$ where $t$ is the step counter. "
   ]
  },
  {
   "cell_type": "markdown",
   "metadata": {},
   "source": [
    "# Mathematical Base for Pegasos\n",
    "The update step for $w$ in GD is as follows:\n",
    "$$\n",
    "w = w - \\eta \\partial J(w)\n",
    "$$\n",
    "\n",
    "There are two solutions to $\\partial J(w)$ depending upon the size of $t^{(i)}(\\mathbf{w}^T\\mathbf{x}^{(i)} + b_0)$. \n",
    "\n",
    "If $t^{(i)}(\\mathbf{w}^T\\mathbf{x}^{(i)} + b_0) \\geq 1$,\n",
    "\n",
    "$$\n",
    "w = w - \\eta \\lambda w =  (1-\\eta \\lambda)w\n",
    "$$\n",
    "\n",
    "If $t^{(i)}(\\mathbf{w}^T\\mathbf{x}^{(i)} + b_0) < 1$,\n",
    "\n",
    "$$\n",
    "w = w - \\eta (\\lambda w - t^{(i)}x^{(i)}) \n",
    "$$\n",
    "$$\n",
    "w = w - \\eta \\lambda w + \\eta t^{(i)}x^{(i)}\n",
    "$$\n",
    "$$\n",
    "w = (1 - \\eta \\lambda) w + \\eta t^{(i)}x^{(i)}\n",
    "$$\n",
    "\n",
    "## For this Question, Func \" approximatePEGASOS \"  is used"
   ]
  },
  {
   "cell_type": "code",
   "execution_count": 40,
   "metadata": {},
   "outputs": [],
   "source": [
    "def approximatePEGASOS(X, t, lambda0, eta,max_iter):\n",
    "        '''The function takes as input a set of sample pairs {x^{(i)}, t_^{(i)}} as well as an initial value for b0 \n",
    "    and a value for the learning rate eta. It should return the weight vector w and the bias b0 \n",
    "    for the Max Margin Classifier'''\n",
    "        \n",
    "        weight = np.zeros((len(X[0])+1,1))\n",
    "      \n",
    "        X = np.hstack((X,np.ones((len(X),1))))\n",
    "        for i in range(max_iter):\n",
    "            y = np.dot(X,weight)\n",
    "            returned_grad = hingeLoss_Gradient(X,t,y)\n",
    "            updated_grad = lambda0*weight - returned_grad\n",
    "            weight = weight - eta*updated_grad\n",
    "        print(\"weight: \",weight)\n",
    "        return weight\n",
    "\n",
    "''' Following coding is done from the PEGASOS Original Algorithm'''\n",
    "def Approximate_PEGASOS(X, t, lambda0, eta, max_epoch):\n",
    "\n",
    "    w = np.zeros((X.shape[0]))\n",
    "    b0 = 0\n",
    "    epoch = 1\n",
    "    #eta = np.exp(-4)\n",
    "    num_instances, num_features = X.shape[0], X.shape[1]\n",
    "    while(epoch <= max_epoch):\n",
    "        randomly_shuffled = np.random.permutation(num_instances)\n",
    "        for r_instance in randomly_shuffled:\n",
    "            gradient_single_point =  gradient_regularized_obj_func_using_hingLoss(X[r_instance], t[r_instance], w[r_instance], b0, lambda0)\n",
    "            print(\"eta\", eta * gradient_single_point)\n",
    "            w = w - eta * gradient_single_point\n",
    "        epoch += 1\n",
    "       \n",
    "#In case of following Pegosos line by line\n",
    "#             y_yhat = t[r_instance] * (np.dot(X[r_instance],w) + b0)\n",
    "#             if y_yhat < 1:\n",
    "#                 w = (1 - eta*lambda0) * w + (eta * t[r_instance] * X[r_instance])\n",
    "#             else:\n",
    "#                 w = (1 - eta*lambda0) * w\n",
    "    return w, b0"
   ]
  },
  {
   "cell_type": "markdown",
   "metadata": {},
   "source": [
    "## Apply the algorithm to the dataset below"
   ]
  },
  {
   "cell_type": "code",
   "execution_count": 41,
   "metadata": {},
   "outputs": [
    {
     "name": "stdout",
     "output_type": "stream",
     "text": [
      "(150, 2)\n",
      "(150,)\n"
     ]
    },
    {
     "data": {
      "image/png": "[encoded data removed]",
      "text/plain": [
       "<Figure size 432x288 with 1 Axes>"
      ]
     },
     "metadata": {
      "needs_background": "light"
     },
     "output_type": "display_data"
    }
   ],
   "source": [
    "from sklearn.datasets import make_blobs\n",
    "import matplotlib.pyplot as plt\n",
    "import numpy as np\n",
    "\n",
    "X = np.load('Ex2_HW2_X.npy') \n",
    "Y = np.load('Ex2_HW2_t.npy') \n",
    "\n",
    "print(X.shape)\n",
    "print(Y.shape)\n",
    "XEx2_Class1 = X[Y==0,:]\n",
    "XEx2_Class2 = X[Y==1,:]\n",
    "\n",
    "plt.scatter(XEx2_Class1[:, 0], XEx2_Class1[:, 1], marker='o', c='r',\n",
    "            s=35)\n",
    "plt.scatter(XEx2_Class2[:, 0], XEx2_Class2[:, 1], marker='o', c='b',\n",
    "            s=35)\n",
    "\n",
    "plt.show()\n"
   ]
  },
  {
   "cell_type": "markdown",
   "metadata": {},
   "source": [
    "### Following is the Display Function for PEGASOS to display classification or Boundary line"
   ]
  },
  {
   "cell_type": "code",
   "execution_count": 42,
   "metadata": {},
   "outputs": [],
   "source": [
    "def display_pegasos(X,Y,beta):\n",
    "    x1min = np.amin(X[:,0])\n",
    "    x1max = np.amax(X[:,0])\n",
    "    x2min = np.amin(X[:,1])\n",
    "    x2max = np.amax(X[:,1])\n",
    "\n",
    "    x1mesh = np.linspace(x1min, x1max, 100)\n",
    "    x2mesh = np.linspace(x2min, x2max, 100)\n",
    "\n",
    "    x1MeshMat, x2MeshMat = np.meshgrid(x1mesh.reshape(-1,1), x2mesh.reshape(-1,1))\n",
    "    x1MeshMat = x1MeshMat.flatten()\n",
    "    x2MeshMat = x2MeshMat.flatten()\n",
    "\n",
    "    X12 = np.vstack((x1MeshMat, x2MeshMat)).T\n",
    "    totalNumPointsGrid = len(x1MeshMat)\n",
    "    addon = np.ones((totalNumPointsGrid, 1))\n",
    "    pointsGrid = np.hstack((addon.reshape(-1,1), X12))\n",
    "    prediction = np.dot(pointsGrid, beta)\n",
    "\n",
    "    prediction[prediction<.5] = 0\n",
    "    prediction[prediction>.5] = 1\n",
    "\n",
    "    coordinatesX1 = np.reshape(x1MeshMat, (100,100))\n",
    "    coordinatesX2 = np.reshape(x2MeshMat, (100,100))\n",
    "    reshaped_prediction = np.reshape(prediction, (100,100))\n",
    "\n",
    "    fig, ax = plt.subplots(constrained_layout=True)\n",
    "    plt.scatter(X[:,0], X[:,1], c = Y)\n",
    "    ax.contourf(coordinatesX1, coordinatesX2, reshaped_prediction.T, alpha=0.1)\n",
    "    plt.show()"
   ]
  },
  {
   "cell_type": "markdown",
   "metadata": {},
   "source": [
    "### Heads up: If you face Shape error of (10000,3) and (4,1), re-run the cells as sometimes they carry information from other cells"
   ]
  },
  {
   "cell_type": "code",
   "execution_count": 43,
   "metadata": {},
   "outputs": [
    {
     "name": "stdout",
     "output_type": "stream",
     "text": [
      "grad:  [[75.79905172]\n",
      " [ 6.71841705]\n",
      " [75.        ]]\n",
      "weight:  [[0.27898863]\n",
      " [0.02472804]\n",
      " [0.27604762]]\n"
     ]
    },
    {
     "data": {
      "image/png": "[encoded data removed]",
      "text/plain": [
       "<Figure size 432x288 with 1 Axes>"
      ]
     },
     "metadata": {
      "needs_background": "light"
     },
     "output_type": "display_data"
    }
   ],
   "source": [
    "weight = approximatePEGASOS(X,Y,0.1, 0.01,1000)\n",
    "X = np.hstack((X,np.ones((len(X),1))))\n",
    "display_pegasos(X,Y,weight)"
   ]
  },
  {
   "cell_type": "markdown",
   "metadata": {},
   "source": [
    "# Bonus II.3. dynamic learning rate. (3pts) \n",
    "The exact PEGASOS algorithm updates the learning rate dynamically as $\\eta_t = 1/{(\\lambda \\cdot  t)}$ for some particular choice of $\\lambda$ and where $t$ denotes the step counter. Modify the approximate version of the PEGASOS algorithm that you derived in question II.2.2 to make it work with such a dynamical learning rate. \n",
    "\n",
    "# Solution\n",
    "\n",
    "Just as Approximate Pegasos Function, it will be same here except we will use dynamic learning rate defined as: \n",
    "$$ \\eta_t = 1/{(\\lambda \\cdot  t)} $$"
   ]
  },
  {
   "cell_type": "code",
   "execution_count": 47,
   "metadata": {},
   "outputs": [],
   "source": [
    "def dynamic_approximatePEGASOS(X, t, lambda0,max_iter):\n",
    "\n",
    "        weight = np.zeros((len(X[0])+1,1))\n",
    "        X = np.hstack((X,np.ones((len(X),1))))\n",
    "        for i in range(1,max_iter,1):\n",
    "            ''' Dynamic Eta Value'''\n",
    "            eta = np.true_divide(1,(lambda0*i))\n",
    "            \n",
    "            y = np.dot(X,weight)\n",
    "            returned_grad = hingeLoss_Gradient(X,t,y)\n",
    "            updated_grad = lambda0*weight - returned_grad\n",
    "            weight = weight - eta*updated_grad\n",
    "        print(\"weight: \",weight)\n",
    "        return weight"
   ]
  },
  {
   "cell_type": "code",
   "execution_count": 48,
   "metadata": {},
   "outputs": [],
   "source": [
    "X = np.load('Ex2_HW2_X.npy') "
   ]
  },
  {
   "cell_type": "code",
   "execution_count": 49,
   "metadata": {},
   "outputs": [
    {
     "name": "stdout",
     "output_type": "stream",
     "text": [
      "grad:  [[75.79905172]\n",
      " [ 6.71841705]\n",
      " [75.        ]]\n",
      "weight:  [[0.47421829]\n",
      " [0.04203214]\n",
      " [0.46921922]]\n"
     ]
    },
    {
     "data": {
      "image/png": "[encoded data removed]",
      "text/plain": [
       "<Figure size 432x288 with 1 Axes>"
      ]
     },
     "metadata": {
      "needs_background": "light"
     },
     "output_type": "display_data"
    }
   ],
   "source": [
    "weight = dynamic_approximatePEGASOS(X,Y,0.16,1000)\n",
    "X = np.hstack((X,np.ones((len(X),1))))\n",
    "display_pegasos(X,Y,weight)"
   ]
  },
  {
   "cell_type": "markdown",
   "metadata": {
    "collapsed": true
   },
   "source": [
    "# Exercise III: Computational drug design: Part I, Training on Thrombin (10pts)\n",
    "\n",
    "With the recent spreading of the COVID-19 \"Corona\" Virus. Many initiatives relying on Machine Learning, have been taken to find new drugs that would be able to prevent the virus from infecting host cells. The Human Angiotensin-Converting Enzyme 2 (ACE2) has been proved by many studies to be the specific receptor for the Spike RBD of SARS-CoV. A common approach (followed for example for researchers at Oak Ridge National Laboratory) is to design compounds (such as the one shown in gray in the figure above) that would be able to bind to the SARS-CoV-2 spike protein (shown in cyan), thus making the virus unable to dock to the human ACE2 receptors (shown in purple in the figure below). \n",
    "\n",
    "<img src=\"corona.png\" width=\"400\">\n",
    "\n",
    "\n",
    "Source: [Physics.org](https://phys.org/news/2020-03-early-drug-compounds-supercomputing-combat.html)\n"
   ]
  },
  {
   "cell_type": "markdown",
   "metadata": {
    "collapsed": true
   },
   "source": [
    "We do not have enough data on the COVID-19 yet so we are going to train on an older computational drug design dataset from NIPS 2003. The general idea is the same. A Drug is a small organic molecule that can achieve its desired activity by binding to a target site on a receptor. The first step in the discovery of a new drug is usually to identify and isolate the receptor to which it should bind, followed by testing many small molecules for their ability to bind to the target site (see the [UCI ML Repo](https://archive.ics.uci.edu/ml/datasets/Dorothea) for more details). For this particular dataset, we are interested in checking which compounds can or cannot bind to thrombin. "
   ]
  },
  {
   "cell_type": "markdown",
   "metadata": {},
   "source": [
    "# Question III.1 (4pts)\n",
    "Start by downloading the DOROTHEA dataset on the [UCI ML website ](https://archive.ics.uci.edu/ml/datasets/Dorothea). Once you have downloaded the data, as we did for face recognition, use the PCA module from scikit-learn to reduce the dimension of your feature vectors from their initial size (100000) to about 100. Split the data into a training and test part using the train_test_split module from scikit learn  "
   ]
  },
  {
   "cell_type": "markdown",
   "metadata": {},
   "source": [
    "# Solution \n",
    " 1. Create a Function to Read Data and Split the lines \n",
    " \n",
    " 2. Create another Function to split the data into Test and Train using PCA"
   ]
  },
  {
   "cell_type": "code",
   "execution_count": 521,
   "metadata": {},
   "outputs": [],
   "source": [
    "import numpy as np\n",
    "from sklearn.decomposition import PCA\n",
    "from sklearn.model_selection import train_test_split\n",
    "\n",
    "def reading_data():\n",
    "    label = open('dorothea_train.labels', \"r\")\n",
    "    label = label.read()\n",
    "    label = label.split()\n",
    "    label = [int(i) for i in label]\n",
    "    targets = np.array(label)\n",
    "    \n",
    "    f = open('dorothea_train.data', \"r\")\n",
    "    line_read = f.readline()\n",
    "    line_read = map(int, line_read.split())\n",
    "\n",
    "    maxNumData = 800\n",
    "    tmp = np.zeros((maxNumData, 100000))\n",
    "    for i in range(maxNumData):\n",
    "        line = f.readline()\n",
    "        line = map(int, line.split())\n",
    "        for j in line: \n",
    "            tmp[i][j-1] = 1\n",
    "    print(\"Shape of tmp: \",tmp.shape)\n",
    "\n",
    "    return tmp,targets\n",
    "\n",
    "# computing PCA and Use the PCA module to reduce compress the feature vectors\n",
    "def compute_PCA(tmp, targets):\n",
    "    pca = PCA(n_components=100)\n",
    "    pca.fit(tmp)\n",
    "    tmp_transformed = pca.transform(tmp)\n",
    "    print(\"Tmp Transform Shape: \",tmp_transformed.shape)\n",
    "    X_train, X_test,Y_train,Y_test = train_test_split(tmp_transformed,targets,test_size =0.01)\n",
    "\n",
    "    return X_train, X_test, Y_train, Y_test\n"
   ]
  },
  {
   "cell_type": "code",
   "execution_count": 522,
   "metadata": {},
   "outputs": [
    {
     "name": "stdout",
     "output_type": "stream",
     "text": [
      "Shape of tmp:  (800, 100000)\n",
      "Tmp Transform Shape:  (800, 100)\n"
     ]
    }
   ],
   "source": [
    "''' Print out some of the Values of dataset'''\n",
    "tmp, targets = reading_data()\n",
    "X_train, X_test,Y_train,Y_test = compute_PCA(tmp, targets)"
   ]
  },
  {
   "cell_type": "markdown",
   "metadata": {
    "collapsed": true
   },
   "source": [
    " # Question III.2 (6pts)\n",
    "\n",
    "Once you have learned the compressed representation for your samples, learn the following two classifiers\n",
    "\n",
    "- SVC with RBF kernel (Combine the SVC with GridSearchCVto determine the optimal values for $C$ (how much you penalize misclassification) and $\\gamma$ (width of kernel)). To start you can take your grid to be defined as below\n",
    "\n",
    "param_grid = {'C': [1e2, 5e2, 1e3, 1e4, 5e4],\n",
    "              'gamma': [0.0005, 0.001, 0.005, 0.01, 0.1], }\n",
    "\n",
    "Keep in mind that larger $\\gamma$ means smaller kernel. I.e. $K(x, y) = exp(-gamma ||x-y||^2)$. $C$ is defined as in exercise II. \n",
    "\n",
    "- Logistic regression classifier "
   ]
  },
  {
   "cell_type": "markdown",
   "metadata": {},
   "source": [
    "# Solution\n",
    "\n",
    "1. Create a Function that carries Grid Search using Scikit SCV \n",
    "\n",
    "2. Create another Function that does Grid Search using Scikit Logisitc Regression \n",
    "\n",
    "3. Print out the fit model, the Best Estimate, and the Score"
   ]
  },
  {
   "cell_type": "code",
   "execution_count": 523,
   "metadata": {},
   "outputs": [
    {
     "name": "stdout",
     "output_type": "stream",
     "text": [
      "first clf:  GridSearchCV(cv=None, error_score=nan,\n",
      "             estimator=SVC(C=1.0, break_ties=False, cache_size=200,\n",
      "                           class_weight='balanced', coef0=0.0,\n",
      "                           decision_function_shape='ovr', degree=3,\n",
      "                           gamma='scale', kernel='rbf', max_iter=-1,\n",
      "                           probability=False, random_state=None, shrinking=True,\n",
      "                           tol=0.001, verbose=False),\n",
      "             iid='deprecated', n_jobs=None,\n",
      "             param_grid={'C': [100.0, 500.0, 1000.0, 10000.0, 50000.0],\n",
      "                         'gamma': [0.0005, 0.001, 0.005, 0.01, 0.1]},\n",
      "             pre_dispatch='2*n_jobs', refit=True, return_train_score=False,\n",
      "             scoring=None, verbose=0)\n",
      "***************************************************************************************\n",
      "Grid Search SVC Best Estimator:  SVC(C=100.0, break_ties=False, cache_size=200, class_weight='balanced',\n",
      "    coef0=0.0, decision_function_shape='ovr', degree=3, gamma=0.1, kernel='rbf',\n",
      "    max_iter=-1, probability=False, random_state=None, shrinking=True,\n",
      "    tol=0.001, verbose=False)\n",
      "***************************************************************************************\n",
      "Grid Search SVC Score:  1.0 ( 100.0 %)\n",
      "***************************************************************************************\n",
      "first clf:  GridSearchCV(cv=None, error_score=nan,\n",
      "             estimator=LogisticRegression(C=1.0, class_weight=None, dual=False,\n",
      "                                          fit_intercept=True,\n",
      "                                          intercept_scaling=1, l1_ratio=None,\n",
      "                                          max_iter=100, multi_class='auto',\n",
      "                                          n_jobs=None, penalty='l2',\n",
      "                                          random_state=0, solver='lbfgs',\n",
      "                                          tol=0.0001, verbose=0,\n",
      "                                          warm_start=False),\n",
      "             iid='deprecated', n_jobs=None,\n",
      "             param_grid={'C': [100.0, 500.0, 1000.0, 10000.0, 50000.0]},\n",
      "             pre_dispatch='2*n_jobs', refit=True, return_train_score=False,\n",
      "             scoring=None, verbose=0)\n",
      "***************************************************************************************\n",
      "Grid Search Logistic Regression Best Estimator:  LogisticRegression(C=100.0, class_weight=None, dual=False, fit_intercept=True,\n",
      "                   intercept_scaling=1, l1_ratio=None, max_iter=100,\n",
      "                   multi_class='auto', n_jobs=None, penalty='l2',\n",
      "                   random_state=0, solver='lbfgs', tol=0.0001, verbose=0,\n",
      "                   warm_start=False)\n",
      "***************************************************************************************\n",
      "Grid Search Logistic Regression Score:  0.875 ( 87.5 %)\n",
      "***************************************************************************************\n"
     ]
    }
   ],
   "source": [
    "from sklearn.model_selection import GridSearchCV\n",
    "from sklearn.decomposition import PCA\n",
    "from sklearn.linear_model import LogisticRegression\n",
    "from sklearn.svm import SVC\n",
    "\n",
    "import warnings\n",
    "\n",
    "param_grid_SVC = {'C': [1e2, 5e2, 1e3, 1e4, 5e4], 'gamma': [0.0005, 0.001, 0.005, 0.01, 0.1], }\n",
    "def Grid_search_SCV(param_grid_SVC):\n",
    "    \n",
    "    clf = GridSearchCV(SVC(kernel = \"rbf\", class_weight = 'balanced'), param_grid_SVC)\n",
    "    print(\"first clf: \",clf)\n",
    "    best_model = clf.fit(X_train, Y_train)\n",
    "    print(\"***************************************************************************************\")\n",
    "    print(\"Grid Search SVC Best Estimator: \",best_model.best_estimator_)\n",
    "    print(\"***************************************************************************************\")\n",
    "    print(\"Grid Search SVC Score: \",clf.score(X_test, Y_test), \"(\",(clf.score(X_test, Y_test))*100,\"%)\")\n",
    "    print(\"***************************************************************************************\")\n",
    "\n",
    "    return\n",
    "\n",
    "param_grid_log = {'C': [1e2, 5e2, 1e3, 1e4, 5e4] }\n",
    "def Grid_Search_logistic_Reg(param_grid_log):\n",
    "    clf = GridSearchCV(LogisticRegression(random_state = 0), param_grid_log)\n",
    "    print(\"first clf: \",clf)\n",
    "    print(\"***************************************************************************************\")\n",
    "    clf = clf.fit(X_train, Y_train)\n",
    "    warnings.filterwarnings(\"ignore\")\n",
    "    print(\"Grid Search Logistic Regression Best Estimator: \",clf.best_estimator_)\n",
    "    print(\"***************************************************************************************\")\n",
    "    print(\"Grid Search Logistic Regression Score: \",clf.score(X_test, Y_test),\"(\",(clf.score(X_test, Y_test))*100,\"%)\")\n",
    "    print(\"***************************************************************************************\")\n",
    "    \n",
    "    return \n",
    "Grid_search_SCV(param_grid_SVC)\n",
    "Grid_Search_logistic_Reg(param_grid_log)"
   ]
  },
  {
   "cell_type": "markdown",
   "metadata": {},
   "source": [
    "### Bonus : Computational drug design. Part II: Tackling COVID-19\n",
    "\n",
    "Now that you understand the basic idea behind computational drug design, we are ready to try to tackle the real challenge. A couple of days ago, Sage Health started a competition which was aimed at developing new drugs to fight corona virus. The competition, which was [advertised through youtube](https://www.youtube.com/watch?v=1LJgkovowgA), is now closed. However it would be interesting to see whether anybody could make additional discoveries from the data. Check the competition video and try to implement some of the step, using the data from the github pages of the winners (see here for the main [SageHealth webpage](https://www.sage-health.org/) and [https://www.sage-health.org/coronavirus/](here for the links to each of the winners github pages)) \n",
    "\n",
    "Points for this question depends on how far you can go. "
   ]
  }
 ],
 "metadata": {
  "kernelspec": {
   "display_name": "Python 3",
   "language": "python",
   "name": "python3"
  },
  "language_info": {
   "codemirror_mode": {
    "name": "ipython",
    "version": 3
   },
   "file_extension": ".py",
   "mimetype": "text/x-python",
   "name": "python",
   "nbconvert_exporter": "python",
   "pygments_lexer": "ipython3",
   "version": "3.7.4"
  }
 },
 "nbformat": 4,
 "nbformat_minor": 2
}
