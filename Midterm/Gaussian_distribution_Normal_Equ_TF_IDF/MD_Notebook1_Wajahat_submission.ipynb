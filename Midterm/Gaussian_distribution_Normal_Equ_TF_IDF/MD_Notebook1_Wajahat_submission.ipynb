{
 "cells": [
  {
   "cell_type": "markdown",
   "metadata": {
    "collapsed": true
   },
   "source": [
    "# MidTerm Assignment: notebook 1: Revision"
   ]
  },
  {
   "cell_type": "markdown",
   "metadata": {},
   "source": [
    "# Muhammad Wajahat Mirza\n",
    "\n",
    "## Net ID: mwm356"
   ]
  },
  {
   "cell_type": "markdown",
   "metadata": {},
   "source": [
    "#### Total : 10 pts "
   ]
  },
  {
   "cell_type": "markdown",
   "metadata": {
    "collapsed": true
   },
   "source": [
    "# Question 1.1. Statistical learning: Maximum likelihood (Total 5pts)\n",
    "\n",
    "This exercise contains a pen and paper part and a coding part. You should submit the pen and paper either in lateX or take a picture of your written solution and join it to the Assignment folder. \n",
    "\n",
    "We consider the dataset given below. This dataset was generated from a Gaussian distribution with a given mean $\\mathbf{\\mu} = (\\mu_1, \\mu_2)$ and covariance matrix $\\mathbf{\\Sigma} = \\left[\\begin{array}{cc}\n",
    "\\sigma_1^2 & 0 \\\\\n",
    "0 & \\sigma_2^2\n",
    "\\end{array}\\right]$. We would like to recover the mean and variance from the data. In order to do this, use the following steps:\n",
    "\n",
    "1. Write the general expression for the probability (multivariate (2D) Gaussian with diagonal covariance matrix) to observe a single sample \n",
    "2. We will assume that the samples are independent and identically distributed so that the probability of observing the whole dataset is the product of the probabilties of observing each one of the samples $\\left\\{\\mathbf{x}^{(i)} = (x_1^{(i)}, x_2^{(i)})\\right\\}_{i=1}^N$. Write down this probability\n",
    "3. Take the negative logarithm of this probability\n",
    "4. Once you have taken the logarithm, find the expression for $\\mu_1, \\mu_2$, $\\sigma_1$ and $\\sigma_2$ by maximizing the probability. "
   ]
  },
  {
   "cell_type": "markdown",
   "metadata": {},
   "source": [
    "## I.1.1Solution: Mathematical Base\n",
    "#### Solution Guide:  <p><font color='red'><b>Equations in a Box are answers to questions asked above. Rest is the way to get them</b></font></p>\n",
    "#### Univariate Gaussian Distribution \n",
    "\n",
    "1. Recall 1-dimensional Gaussian with mean paramete $ \\mu $ \n",
    "\n",
    "\n",
    "$$ p(x|\\mu) = \\frac{1}{\\sqrt{2\\pi}} exp \\left[-\\frac{1}{2}(x - \\mu)^2\\right] $$\n",
    "\n",
    "\n",
    "\n",
    "2. This can also have variance parameter $\\sigma^2$ that widens or narrows the Gaussian distribution\n",
    "\n",
    "\n",
    "$$ p(x|\\mu, \\sigma) = \\frac{1}{\\sqrt{2\\pi\\sigma^2}} exp \\left[-\\frac{1}{2\\sigma^2}(x - \\mu)^2\\right] $$"
   ]
  },
  {
   "cell_type": "markdown",
   "metadata": {},
   "source": [
    "#### Multivariate Gaussian Distribution \n",
    "3. This Gaussian can be extended to __Multivariate Gaussian__ with co-variance matrix $\\sum$\n",
    "                \n",
    "               \n",
    "$$  X = { ( \\overrightarrow{\\text{x}}_1,\\overrightarrow{\\text{x}}_2, \\dots, \\overrightarrow{\\text{x}}_{D-1},\\overrightarrow{\\text{x}}_D)}    $$\n",
    "\n",
    "$$ Moment-Parameterization: \\mu = {\\mathbb{E}}{(X)} =  (\\mu_1, \\mu_2,\\dots,\\mu_{D-1}, \\mu_D )$$\n",
    "\n",
    "$$ \\sigma^2 =  {\\mathbb{E}} \\left[X - {\\mathbb{E}}(X) \\right]^2 = {\\mathbb{E}}\\left[X - \\mu \\right]^2 $$\n",
    "$$ \\Sigma = Cov(X) = {\\mathbb{E}} \\left[\\overrightarrow{\\text{x}} - \\overrightarrow{\\mu} \\right] \\left[\\overrightarrow{\\text{x}} - \\overrightarrow{\\mu} \\right]^T $$\n",
    "$$ Mahalanobis-distance: \\triangle^2 = \\left[\\overrightarrow{\\text{x}} - \\overrightarrow{\\mu} \\right]^T \\Sigma^{-1} \\left[\\overrightarrow{\\text{x}} - \\overrightarrow{\\mu}\\right] $$\n",
    "\n",
    "\n",
    "By Using: $ X, \\mu, \\sigma^2, \\Sigma $ i.e. equations 3 to 6, we get: \n",
    "                \n",
    "$$ \\boxed {p(\\overrightarrow{\\text{x}}|\\overrightarrow{\\mu}, \\Sigma\t) = \\frac{1}{{2\\pi}^{\\frac{D}{2}}\\sqrt\n",
    "{|\\Sigma|}} exp \\left[-\\frac{1}{2}(\\overrightarrow{\\text{x}} - \\overrightarrow{\\mu})^T \\Sigma^{-1} (\\overrightarrow{\\text{x}} - \\overrightarrow{\\mu}) \\right]} $$\n",
    "\n",
    "where \n",
    "\n",
    "$$\n",
    " \\overrightarrow{\\text{x}} \\in \\mathbb{R}^{D}  , \\overrightarrow{\\mu} \\in \\mathbb{R}^{D} , \\Sigma \\in \\mathbb{R}^{{D}\\times{D}}\n",
    "$$\n"
   ]
  },
  {
   "cell_type": "markdown",
   "metadata": {},
   "source": [
    "#### Diagonal Covariance Probability\n",
    "4. Diagonal Covariance: Dimensions of x are independent product of multiple 1-D Gaussians\n",
    "\n",
    "$$ \\boxed {p(\\overrightarrow{\\text{x}}|\\overrightarrow{\\mu}, \\Sigma\t) = \\prod_{d=1}^D \\frac{1}{\\sqrt{2\\pi}\\overrightarrow{\\sigma}(d)} exp \\left[ - \\frac{(\\overrightarrow{\\text{x}}(d) - \\overrightarrow{\\mu} (d))^2}{2\\overrightarrow{\\sigma}(d)^2} \\right]} $$\n",
    "\n",
    "where \n",
    "\n",
    "$$ \\Sigma =\n",
    "\\begin{bmatrix}\n",
    "\\overrightarrow{\\mu}(1)^2 & 0 & 0 & 0\\\\\n",
    "0 & \\overrightarrow{\\mu}(2)^2 & 0 & 0\\\\\n",
    "0 & 0& \\overrightarrow{\\mu}(3)^2 & 0\\\\\n",
    "0 & 0& \\ddots &0 \\\\\n",
    "0 & 0& 0 & \\overrightarrow{\\mu}(D)^2 \\\\\n",
    "\\end{bmatrix}$$ \n",
    "\n"
   ]
  },
  {
   "cell_type": "markdown",
   "metadata": {},
   "source": [
    "\n",
    "####  Maximum Likelihood\n",
    "\n",
    "5. To recover mean and variance, we COULD use standard Maximum Likelihood where probability of given data is maximized \n",
    "\n",
    "\n",
    "$$  X = { ( \\overrightarrow{\\text{x}}_1,\\overrightarrow{\\text{x}}_2, \\dots, \\overrightarrow{\\text{x}}_{N-1},\\overrightarrow{\\text{x}}_N)}    $$\n",
    "\n",
    "Let $\\theta$ represent the parameters $(\\mu, \\sigma)$ of the two distributions. Then the probability of observing the data with parameter$\\theta$ is called the likelihood.\n",
    "\n",
    "$$ p(X|\\theta) = p{ ( \\overrightarrow{\\text{x}}_1,\\overrightarrow{\\text{x}}_2, \\dots,\\overrightarrow{\\text{x}}_N | \\theta)}   $$\n",
    "\n",
    "                    FOR independent Gaussian  samples\n",
    "$$ \\boxed {p(X) = \\prod_{i=1}^N p(\\overrightarrow{\\text{x}}_i | \\overrightarrow{\\mu}_i, \\Sigma_i)} $$ \n",
    "                   \n",
    "                    FOR identically Distributed\n",
    "\n",
    "$$ \\boxed{p(X) = \\prod_{i=1}^N p(\\overrightarrow{\\text{x}}_i | \\overrightarrow{\\mu}, \\Sigma) }$$ "
   ]
  },
  {
   "cell_type": "markdown",
   "metadata": {},
   "source": [
    "\n",
    "#### Negative Log-Maximum Likelihood\n",
    "\n",
    "6. HOWEVER, rather than simple maximum likelihood, we use maximum of log-likelihood by taking log\n",
    "\n",
    "$$\n",
    "\\boxed{\\sum_{i=1}^N \\log{\\mathsf{p}}(\\overrightarrow{\\text{x}}_i | \\overrightarrow{\\mu}, \\Sigma) = -\\sum_{i=1}^N \\log \\frac{1}{{2\\pi}^{\\frac{D}{2}}\\sqrt\n",
    "{|\\Sigma|}} exp \\left[-\\frac{1}{2}(\\overrightarrow{\\text{x}} - \\overrightarrow{\\mu})^T \\Sigma^{-1} (\\overrightarrow{\\text{x}} - \\overrightarrow{\\mu}) \\right]}\n",
    "$$\n",
    "\n"
   ]
  },
  {
   "cell_type": "markdown",
   "metadata": {},
   "source": [
    "#### Finding vector $\\overrightarrow{\\mu}$ ($\\mu_1, \\mu_2$)  by maximizing their probabilties:\n",
    "\n",
    "7. __Max over $\\mu$__\n",
    "$$\n",
    "\\underset{\\mu}{\\mathrm{argmax}} = \\frac{\\partial}{\\partial \\mu}  \\left[-\\sum_{i=1}^N \\log \\frac{1}{{2\\pi}^{\\frac{D}{2}}\\sqrt\n",
    "{|\\Sigma|}} exp \\left[-\\frac{1}{2}(\\overrightarrow{\\text{x}} - \\overrightarrow{\\mu})^T \\Sigma^{-1} (\\overrightarrow{\\text{x}} - \\overrightarrow{\\mu}) \\right]\\right] = 0\n",
    "$$\n",
    "\n",
    "$$ \n",
    "\\therefore \\frac{\\partial}{\\partial \\mu} \\left[\\sum_{i=1}^N -\\frac{D}{2}\\log {2} \\pi - \\frac{1}{2}\\log|\\Sigma| -\\frac{1}{2}(\\overrightarrow{\\text{x}} - \\overrightarrow{\\mu})^T \\Sigma^{-1} (\\overrightarrow{\\text{x}} - \\overrightarrow{\\mu}) \\right] \n",
    "$$\n",
    "\n",
    "$$ \n",
    "\\frac{\\partial \\overrightarrow{\\text{x}}^T\\overrightarrow{\\text{x}} }{\\partial \\overrightarrow{\\text{x}}} = 2 \\overrightarrow{\\text{x}}^T \\Longrightarrow  \\frac{\\partial}{\\partial \\mu} (\\overrightarrow{\\text{x}} - \\overrightarrow{\\mu})^T (\\overrightarrow{\\text{x}} - \\overrightarrow{\\mu}) = {2} (\\overrightarrow{\\text{x}} - \\overrightarrow{\\mu})^T \n",
    "$$\n",
    "\n",
    "$$\n",
    "\\sum_{i=1}^N {\\frac{1}{2}} \\times {2} (\\overrightarrow{\\text{x}} - \\overrightarrow{\\mu})^T \\Sigma^{-1} = \\overrightarrow{\\text{0}}\n",
    "$$\n",
    "\n",
    "                                        Hence\n",
    "$$\n",
    "\\therefore \\boxed {\\overrightarrow{\\mu} = \\frac{1}{N}\\sum_{i=1}^N \\overrightarrow{\\text{x}_i}}\n",
    "$$\n"
   ]
  },
  {
   "cell_type": "markdown",
   "metadata": {},
   "source": [
    "#### Finding vector $\\overrightarrow{\\Sigma}$ ($\\sigma_1, \\sigma_2$) matrix by maximizing their probabilties $\\mathbf{\\Sigma} = \\left[\\begin{array}{cc}\n",
    "\\sigma_1^2 & 0 \\\\\n",
    "0 & \\sigma_2^2\n",
    "\\end{array}\\right]$\n",
    "\n",
    "\n",
    "8. __Max over $\\Sigma^{-1}$__ by using Trace properties. Rewrite log-likelihood using __\"Trace Trick\"__ and Let $l$ be:\n",
    "\n",
    "$$\n",
    "l = \\sum_{i=1}^N -\\frac{D}{2}\\log {2} \\pi - \\frac{1}{2}\\log|\\Sigma| -\\frac{1}{2}(\\overrightarrow{\\text{x}} - \\overrightarrow{\\mu})^T \\Sigma^{-1} (\\overrightarrow{\\text{x}} - \\overrightarrow{\\mu}) \n",
    "$$\n",
    "\n",
    "$$\n",
    "\\therefore  -\\frac{ND}{2}\\log {2} \\pi + \\frac{N}{2}\\log|\\Sigma^{-1}| -\\frac{1}{2}\\sum_{i=1}^N \\mathrm{Tr} \\left[(\\overrightarrow{\\text{x}} - \\overrightarrow{\\mu})^T \\Sigma^{-1} (\\overrightarrow{\\text{x}} - \\overrightarrow{\\mu}) \\right] \n",
    "$$\n",
    "\n",
    "$$\n",
    "\\therefore  -\\frac{ND}{2}\\log {2} \\pi + \\frac{N}{2}\\log|\\Sigma^{-1}| -\\frac{1}{2}\\sum_{i=1}^N \\mathrm{Tr} \\left[(\\overrightarrow{\\text{x}} - \\overrightarrow{\\mu})^T (\\overrightarrow{\\text{x}} - \\overrightarrow{\\mu})\\Sigma^{-1} \\right] \n",
    "$$\n",
    "\n",
    "Let $$ A = \\Sigma^{-1}$$ \n",
    "$$\n",
    "\\therefore  -\\frac{ND}{2}\\log {2} \\pi + \\frac{N}{2}\\log|A| -\\frac{1}{2}\\sum_{i=1}^N \\mathrm{Tr} \\left[(\\overrightarrow{\\text{x}} - \\overrightarrow{\\mu})^T (\\overrightarrow{\\text{x}} - \\overrightarrow{\\mu})A \\right] \n",
    "$$\n",
    "\n",
    "Since $\\frac {\\partial \\log{|A|}}{\\partial {A}} = (A^{-1})^T ; \\frac{\\partial \\mathrm{Tr} (AB)}{\\partial {A}} = B^T $\n",
    "\n",
    "$$\n",
    "\\frac {\\partial {l}}{\\partial {A}} = -0 + \\frac{N}{2}(A^{-1})^T - \\frac{1}{2}\\sum_{i=1}^N \\left[(\\overrightarrow{\\text{x}} - \\overrightarrow{\\mu})(\\overrightarrow{\\text{x}} - \\overrightarrow{\\mu})^T\\right]^T\n",
    "$$\n",
    "\n",
    "$$\n",
    "\\frac{N}{2}\\Sigma - \\frac{1}{2}\\sum_{i=1}^N (\\overrightarrow{\\text{x}} - \\overrightarrow{\\mu})(\\overrightarrow{\\text{x}} - \\overrightarrow{\\mu})^T\n",
    "$$\n",
    "\n",
    "$$\n",
    "\\therefore \\frac {\\partial {l}}{\\partial {A}} = 0 \\Longrightarrow \\boxed {\\Sigma = \\frac{1}{N}(\\overrightarrow{\\text{x}} - \\overrightarrow{\\mu})(\\overrightarrow{\\text{x}} - \\overrightarrow{\\mu})^T}\n",
    "$$"
   ]
  },
  {
   "cell_type": "markdown",
   "metadata": {},
   "source": [
    "## I.1.2 Programming\n",
    "#### Code on following dataset to display gaussian distribution using log-maximum likelihood\n",
    "###### Import Respective Libraries"
   ]
  },
  {
   "cell_type": "code",
   "execution_count": 902,
   "metadata": {
    "ExecuteTime": {
     "end_time": "2020-04-22T02:32:26.749628Z",
     "start_time": "2020-04-22T02:32:26.746365Z"
    }
   },
   "outputs": [],
   "source": [
    "import numpy as np\n",
    "import matplotlib.pyplot as plt\n",
    "from scipy.io import loadmat\n",
    "import matplotlib.pyplot as plt\n",
    "from matplotlib import cm\n",
    "from scipy.stats import multivariate_normal"
   ]
  },
  {
   "cell_type": "markdown",
   "metadata": {},
   "source": [
    "###### Load Data"
   ]
  },
  {
   "cell_type": "code",
   "execution_count": 903,
   "metadata": {
    "ExecuteTime": {
     "end_time": "2020-04-22T02:32:28.615020Z",
     "start_time": "2020-04-22T02:32:28.393272Z"
    }
   },
   "outputs": [
    {
     "data": {
      "image/png": "[encoded data removed]",
      "text/plain": [
       "<Figure size 432x288 with 1 Axes>"
      ]
     },
     "metadata": {},
     "output_type": "display_data"
    }
   ],
   "source": [
    "X = loadmat('dataNotebook1_Ex1.mat')['X']\n",
    "\n",
    "plt.scatter(X[:,0], X[:,1])\n",
    "plt.show()"
   ]
  },
  {
   "cell_type": "markdown",
   "metadata": {},
   "source": [
    "#### 5. Once you have you estimates for the parameters of the Gaussian distribution, plot the level lines of that distribution on top of the points by using the lines below. "
   ]
  },
  {
   "cell_type": "markdown",
   "metadata": {},
   "source": [
    "### Solution\n",
    "### Please note that my solution to above question also includes outliers into the Gaussian distribution. \n",
    "##### Compute $\\overrightarrow{\\mu}, \\sigma^2$ and use them for Scipy function multivariate_normal.pdf( )\n",
    "$$\n",
    "\\boxed {\\overrightarrow{\\mu} = \\frac{1}{N}\\sum_{i=1}^N \\overrightarrow{\\text{x}_i}}\n",
    "$$"
   ]
  },
  {
   "cell_type": "code",
   "execution_count": 904,
   "metadata": {
    "ExecuteTime": {
     "end_time": "2020-04-22T02:32:31.899253Z",
     "start_time": "2020-04-22T02:32:31.895662Z"
    }
   },
   "outputs": [],
   "source": [
    "def compute_mu_scipy(X):\n",
    "    \n",
    "    N = len(X)\n",
    "    mu = (1/N)*np.sum(X)\n",
    "    \n",
    "    return mu"
   ]
  },
  {
   "cell_type": "code",
   "execution_count": 905,
   "metadata": {
    "ExecuteTime": {
     "end_time": "2020-04-22T02:32:34.192584Z",
     "start_time": "2020-04-22T02:32:34.184763Z"
    }
   },
   "outputs": [],
   "source": [
    "def multivariate_normal_pdf_scipy(X):\n",
    "    x1 = np.linspace(0, 1.85, 100)\n",
    "    x2 = np.linspace(0.25, 2.5, 100)\n",
    "\n",
    "    xx1, xx2 = np.meshgrid(x1, x2)\n",
    "\n",
    "    from scipy.stats import multivariate_normal\n",
    "\n",
    "    xmesh = np.vstack((xx1.flatten(), xx2.flatten())).T\n",
    "\n",
    "    mu1 = compute_mu_scipy(X[:,0])\n",
    "    mu2 = compute_mu_scipy(X[:,1])\n",
    "    print(\"mu1 is: {} \\nmu2 is: {}\".format(mu1, mu2))\n",
    "\n",
    "    sigma1 = np.std(X[:,0])\n",
    "    sigma2 = np.std(X[:,1])\n",
    "    \n",
    "    sigma = np.zeros((2,2))\n",
    "    sigma[0,0] = sigma1**2\n",
    "    sigma[1,1] = sigma2**2\n",
    "    \n",
    "    print(\"Sigma1 is: {} \\nSigma2 is: {} \\nSigma Vector is: \\n{}\".format(sigma1, sigma2, sigma))\n",
    "\n",
    "    y = multivariate_normal.pdf(xmesh, mean=[mu1,mu2], cov=sigma)\n",
    "    print(\"Returned Y is: \",y)\n",
    "    return x1,x2,xx1, xx2, y \n"
   ]
  },
  {
   "cell_type": "code",
   "execution_count": 906,
   "metadata": {
    "ExecuteTime": {
     "end_time": "2020-04-22T02:32:37.393683Z",
     "start_time": "2020-04-22T02:32:37.050143Z"
    }
   },
   "outputs": [
    {
     "name": "stdout",
     "output_type": "stream",
     "text": [
      "mu1 is: 0.9196903048948579 \n",
      "mu2 is: 1.0402703261447646\n",
      "Sigma1 is: 0.30398425815578267 \n",
      "Sigma2 is: 0.3202124191447788 \n",
      "Sigma Vector is: \n",
      "[[0.09240643 0.        ]\n",
      " [0.         0.10253599]]\n",
      "Returned Y is:  [8.00385717e-04 9.62167394e-04 1.15228727e-03 ... 6.71898822e-07\n",
      " 5.59836359e-07 4.64704787e-07]\n"
     ]
    },
    {
     "name": "stderr",
     "output_type": "stream",
     "text": [
      "/Users/mirza/opt/anaconda3/lib/python3.7/site-packages/ipykernel_launcher.py:5: UserWarning: The following kwargs were not used by contour: 'zdir', 'offset'\n",
      "  \"\"\"\n"
     ]
    },
    {
     "data": {
      "image/png": "[encoded data removed]",
      "text/plain": [
       "<Figure size 432x288 with 1 Axes>"
      ]
     },
     "metadata": {},
     "output_type": "display_data"
    }
   ],
   "source": [
    "def plot_scipy_MND(X):\n",
    "    \n",
    "    x1,x2,xx1, xx2, y = multivariate_normal_pdf_scipy(X)\n",
    "    plt.scatter(X[:,0], X[:,1])\n",
    "    plt.contourf(xx1, xx2, np.reshape(y, (100, 100)), zdir='z', offset=-0.15, cmap=cm.viridis, alpha=0.5)\n",
    "    plt.show()\n",
    "plot_scipy_MND(X)"
   ]
  },
  {
   "cell_type": "markdown",
   "metadata": {
    "ExecuteTime": {
     "end_time": "2020-04-20T22:10:27.722377Z",
     "start_time": "2020-04-20T22:10:27.718283Z"
    }
   },
   "source": [
    "##### From Professor: Solution should look like this"
   ]
  },
  {
   "cell_type": "code",
   "execution_count": 925,
   "metadata": {
    "ExecuteTime": {
     "end_time": "2020-04-22T22:57:59.049265Z",
     "start_time": "2020-04-22T22:57:59.041505Z"
    }
   },
   "outputs": [
    {
     "data": {
      "image/png": "[encoded data removed]",
      "text/plain": [
       "<IPython.core.display.Image object>"
      ]
     },
     "execution_count": 925,
     "metadata": {},
     "output_type": "execute_result"
    }
   ],
   "source": [
    "from IPython.display import Image\n",
    "#<img src=\"solution_gaussian.png\" width=\"400\" />\n",
    "Image('solution_gaussian.png')"
   ]
  },
  {
   "cell_type": "markdown",
   "metadata": {},
   "source": [
    "### Optional Additional Work for Q 1.1 without using Scipy Library\n",
    "\n",
    "##### Extra Optional Work: Compute $\\overrightarrow{\\mu}$\n",
    "$$\n",
    "\\boxed {\\overrightarrow{\\mu} = \\frac{1}{N}\\sum_{i=1}^N \\overrightarrow{\\text{x}_i}}\n",
    "$$"
   ]
  },
  {
   "cell_type": "code",
   "execution_count": 907,
   "metadata": {
    "ExecuteTime": {
     "end_time": "2020-04-22T02:32:41.140794Z",
     "start_time": "2020-04-22T02:32:41.136889Z"
    }
   },
   "outputs": [],
   "source": [
    "def compute_mu(X):\n",
    "    \n",
    "    N = len(X)\n",
    "    mu = (1/N)*np.sum(X)\n",
    "#     mu = mu.reshape(-1,1)\n",
    "     \n",
    "    return mu, N"
   ]
  },
  {
   "cell_type": "markdown",
   "metadata": {},
   "source": [
    "##### Extra Optional Work: Compute $\\Sigma$\n",
    "$$\\boxed {\\Sigma = \\frac{1}{N}(\\overrightarrow{\\text{x}} - \\overrightarrow{\\mu})(\\overrightarrow{\\text{x}} - \\overrightarrow{\\mu})^T}\n",
    "$$"
   ]
  },
  {
   "cell_type": "code",
   "execution_count": 908,
   "metadata": {
    "ExecuteTime": {
     "end_time": "2020-04-22T02:32:42.942677Z",
     "start_time": "2020-04-22T02:32:42.936267Z"
    }
   },
   "outputs": [],
   "source": [
    "def compute_sigma(X): \n",
    "    \n",
    "    mu, N = compute_mu(X)\n",
    "    sigma = (1/N)*(X - mu)*(X-mu).T   \n",
    "    \n",
    "    return sigma"
   ]
  },
  {
   "cell_type": "markdown",
   "metadata": {},
   "source": [
    "##### Extra Optional Work: Multivariate Gaussian Distribution\n",
    "$$ \\boxed {p(\\overrightarrow{\\text{x}}|\\overrightarrow{\\mu}, \\Sigma\t) = \\frac{1}{\\sqrt{{2\\pi}^D\n",
    "|\\Sigma|}} exp \\left[-\\frac{1}{2}(\\overrightarrow{\\text{x}} - \\overrightarrow{\\mu})^T \\Sigma^{-1} (\\overrightarrow{\\text{x}} - \\overrightarrow{\\mu}) \\right]} $$"
   ]
  },
  {
   "cell_type": "code",
   "execution_count": 909,
   "metadata": {
    "ExecuteTime": {
     "end_time": "2020-04-22T02:32:45.894118Z",
     "start_time": "2020-04-22T02:32:45.885175Z"
    }
   },
   "outputs": [],
   "source": [
    "def multivariate_normal_pdf(X): \n",
    "    \n",
    "    X = X.reshape(-1,1)\n",
    "    mu, N = compute_mu(X)\n",
    "\n",
    "    sigma = compute_sigma(X)\n",
    "    sigma_determinant = np.linalg.det(sigma)\n",
    "\n",
    "    sigma_inverse = np.linalg.pinv(sigma)\n",
    "    \n",
    "    mu = mu.reshape(-1,1)\n",
    "    instances, columns = sigma.shape\n",
    "    \n",
    "\n",
    "#     first_denominator = (2 * np.pi)**(np.true_divide(instances,2)) * np.sqrt(sigma_determinant)\n",
    "    first_denominator = np.sqrt(((2 * np.pi)**(instances))*sigma_determinant)\n",
    "    exponential_nominator = -(1/2) * (X - mu).T * sigma_inverse * (X - mu)\n",
    "    result = (np.true_divide(1, first_denominator)) * np.exp(exponential_nominator)\n",
    "    \n",
    "    return result, sigma"
   ]
  },
  {
   "cell_type": "code",
   "execution_count": 910,
   "metadata": {
    "ExecuteTime": {
     "end_time": "2020-04-22T02:32:47.614864Z",
     "start_time": "2020-04-22T02:32:47.597501Z"
    }
   },
   "outputs": [],
   "source": [
    "def solve_for_results():\n",
    "    \n",
    "    value = 100\n",
    "    X = np.linspace(0, 1.85, value)\n",
    "    Y = np.linspace(0.25, 2.5, value)\n",
    "\n",
    "    XX, YY = np.meshgrid(X, Y)\n",
    "    \n",
    "    data = [X, Y]\n",
    "    Z = []\n",
    "    for i in data:\n",
    "        z, sigma = np.array(multivariate_normal_pdf(i))\n",
    "        Z.append(z)\n",
    "                 \n",
    "    return X,Y,Z,sigma\n",
    "\n",
    "def plot_results():\n",
    "    \n",
    "    X, Y, Z = solve_for_results()\n",
    "    \n",
    "    fig = plt.figure(figsize = (10,10))\n",
    "    ax = fig.gca(projection='3d')\n",
    "    ax.plot_surface(X, Y, Z, rstride=1, cstride=1, linewidth=1, antialiased=True,\n",
    "                    cmap=cm.viridis)\n",
    "\n",
    "    cset = ax.contourf(X, Y, Z, zdir='z', offset=-0.15, cmap=cm.viridis)\n",
    "\n",
    "    # Adjust the limits, ticks and view angle\n",
    "    ax.set_zlim(-0.15,0.5)\n",
    "    ax.set_zticks(np.linspace(0,0.2,5))\n",
    "    ax.view_init(20, 25)\n",
    "    ax.set_xlabel('X')\n",
    "    ax.set_ylabel('Y')\n",
    "    ax.set_title('Multivariate Gaussian Sigma = {}'.format(Sigma))\n",
    "\n",
    "    plt.show()\n",
    "# solve_for_results()"
   ]
  },
  {
   "cell_type": "markdown",
   "metadata": {
    "collapsed": true
   },
   "source": [
    "## 1.2. We consider the following linear regression problem. (Total 5pts)"
   ]
  },
  {
   "cell_type": "code",
   "execution_count": 911,
   "metadata": {
    "ExecuteTime": {
     "end_time": "2020-04-22T02:32:50.234366Z",
     "start_time": "2020-04-22T02:32:49.922868Z"
    }
   },
   "outputs": [
    {
     "data": {
      "image/png": "[encoded data removed]",
      "text/plain": [
       "<Figure size 432x288 with 1 Axes>"
      ]
     },
     "metadata": {},
     "output_type": "display_data"
    }
   ],
   "source": [
    "import numpy as np\n",
    "import matplotlib.pyplot as plt\n",
    "from scipy.io import loadmat\n",
    "\n",
    "X_original = loadmat('MidTermAssignment_dataEx2.mat')['MidTermAssignment_dataEx2']\n",
    "\n",
    "plt.scatter(X_original[:,0], X_original[:,1])\n",
    "plt.show()"
   ]
  },
  {
   "cell_type": "markdown",
   "metadata": {},
   "source": [
    "## Questions 1.2/2.1/2.2 \n",
    "### Solve the $\\ell_2$ regularized linear regression problem __through the normal equations__ (be careful that you have to take the $\\ell_2$regularization into account). Then double-check your solution by comparing it with the regression function from scikit learn. Plot the result below."
   ]
  },
  {
   "cell_type": "markdown",
   "metadata": {},
   "source": [
    "## Solution\n",
    "### Mathematical Base"
   ]
  },
  {
   "cell_type": "markdown",
   "metadata": {},
   "source": [
    "1. Loss Function Equation\n",
    "$$\n",
    "l(\\beta) = \\sum_{i=1}^N(t^{(i)} - X\\overrightarrow{\\beta})^2\n",
    "$$\n",
    "\n",
    "                        Vectorized Form\n",
    "$$\n",
    "\\sum_{i=1}^N (V_i)^2 = \\overrightarrow{\\text{v}}^T\\overrightarrow{\\text{v}} \\Longrightarrow l(\\beta) =(t^{(i)} - X\\overrightarrow{\\beta})^T(t^{(i)} - X\\overrightarrow{\\beta})\n",
    "$$\n",
    "2. Normal Equation: After taking derivative of Loss func i.e. $l(\\beta)$, Vectorized Normal Equ is\n",
    "$$\n",
    "\\overrightarrow{\\beta} = (X^TX)^{-1}X^T\\overrightarrow{\\text{t}}\n",
    "$$\n",
    "\n",
    "3. Ridge Regularized Normal Equation: \n",
    "$$\n",
    "\\overrightarrow{\\beta} = \\left[(X^TX + \\lambda I)^{-1}X^T\\overrightarrow{\\text{t}}\\right]\n",
    "$$"
   ]
  },
  {
   "cell_type": "markdown",
   "metadata": {},
   "source": [
    "### Loading Data"
   ]
  },
  {
   "cell_type": "code",
   "execution_count": 912,
   "metadata": {
    "ExecuteTime": {
     "end_time": "2020-04-22T02:32:53.477820Z",
     "start_time": "2020-04-22T02:32:53.472254Z"
    }
   },
   "outputs": [
    {
     "name": "stdout",
     "output_type": "stream",
     "text": [
      "Shape of X: (20, 2) \n",
      "Shape of target: (20, 1)\n"
     ]
    }
   ],
   "source": [
    "X = np.vstack(X_original[:,0])\n",
    "ones = np.vstack(np.ones(X.shape))\n",
    "X = np.hstack((ones,X))\n",
    "target = np.vstack(X_original[:,1])\n",
    "print(\"Shape of X: {} \\nShape of target: {}\".format(X.shape, target.shape))\n"
   ]
  },
  {
   "cell_type": "code",
   "execution_count": 913,
   "metadata": {
    "ExecuteTime": {
     "end_time": "2020-04-22T02:32:57.509843Z",
     "start_time": "2020-04-22T02:32:57.504791Z"
    }
   },
   "outputs": [],
   "source": [
    "def prediction(X, beta):\n",
    "    result = np.dot(X, beta)\n",
    "    return result\n"
   ]
  },
  {
   "cell_type": "markdown",
   "metadata": {},
   "source": [
    "### Non-Regularized Normal Equation"
   ]
  },
  {
   "cell_type": "code",
   "execution_count": 914,
   "metadata": {
    "ExecuteTime": {
     "end_time": "2020-04-22T02:33:00.981347Z",
     "start_time": "2020-04-22T02:33:00.732940Z"
    }
   },
   "outputs": [
    {
     "name": "stdout",
     "output_type": "stream",
     "text": [
      "Our Non-regularized beta is: \n",
      "[[1.2375465 ]\n",
      " [2.00737626]]\n",
      "Shape of returned predict array (20, 1)\n",
      "Non-Regularized Normal Equation yields following Regression\n"
     ]
    },
    {
     "data": {
      "image/png": "[encoded data removed]",
      "text/plain": [
       "<Figure size 432x288 with 1 Axes>"
      ]
     },
     "metadata": {},
     "output_type": "display_data"
    }
   ],
   "source": [
    "def Vectorized_closed_form(X, target):\n",
    "    \n",
    "    target = np.mat(target)\n",
    "    left_matrix = np.linalg.inv(np.dot(X.T, X))\n",
    "    right_matrix = np.dot(X.T, target)\n",
    "    beta = np.dot(left_matrix,right_matrix)\n",
    "    print(\"Our Non-regularized beta is: \\n{}\".format(beta))\n",
    "    \n",
    "    return beta\n",
    "\n",
    "beta_1 = Vectorized_closed_form(XX, target)\n",
    "print(\"Shape of returned predict array\",prediction(X, beta_2).shape)\n",
    "print(\"Non-Regularized Normal Equation yields following Regression\")\n",
    "plt.figure()\n",
    "plt.scatter(X_original[:,0], target)\n",
    "plt.plot(X_original[:,0], prediction(X, beta_1), color = 'red')\n",
    "plt.show()"
   ]
  },
  {
   "cell_type": "markdown",
   "metadata": {},
   "source": [
    "### Regularized Normal Equation with multiple Lambda $ \\lambda $ Values"
   ]
  },
  {
   "cell_type": "code",
   "execution_count": 915,
   "metadata": {
    "ExecuteTime": {
     "end_time": "2020-04-22T02:33:08.402429Z",
     "start_time": "2020-04-22T02:33:07.157173Z"
    }
   },
   "outputs": [
    {
     "name": "stdout",
     "output_type": "stream",
     "text": [
      "Our Regularized beta with Lambda value 0.01 is: \n",
      "[[1.23240801]\n",
      " [2.00807991]]\n",
      "Shape of returned predict array (20, 1)\n",
      "Regularized Normal Equation with Lambda value 0.01 yields following Regression\n"
     ]
    },
    {
     "data": {
      "image/png": "[encoded data removed]",
      "text/plain": [
       "<Figure size 432x288 with 1 Axes>"
      ]
     },
     "metadata": {},
     "output_type": "display_data"
    },
    {
     "name": "stdout",
     "output_type": "stream",
     "text": [
      "Our Regularized beta with Lambda value 0.1 is: \n",
      "[[1.18678599]\n",
      " [2.01432725]]\n",
      "Shape of returned predict array (20, 1)\n",
      "Regularized Normal Equation with Lambda value 0.1 yields following Regression\n"
     ]
    },
    {
     "data": {
      "image/png": "[encoded data removed]",
      "text/plain": [
       "<Figure size 432x288 with 1 Axes>"
      ]
     },
     "metadata": {},
     "output_type": "display_data"
    },
    {
     "name": "stdout",
     "output_type": "stream",
     "text": [
      "Our Regularized beta with Lambda value 1 is: \n",
      "[[0.78493727]\n",
      " [2.06935518]]\n",
      "Shape of returned predict array (20, 1)\n",
      "Regularized Normal Equation with Lambda value 1 yields following Regression\n"
     ]
    },
    {
     "data": {
      "image/png": "[encoded data removed]",
      "text/plain": [
       "<Figure size 432x288 with 1 Axes>"
      ]
     },
     "metadata": {},
     "output_type": "display_data"
    },
    {
     "name": "stdout",
     "output_type": "stream",
     "text": [
      "Our Regularized beta with Lambda value 10 is: \n",
      "[[-0.93486862]\n",
      " [ 2.30486013]]\n",
      "Shape of returned predict array (20, 1)\n",
      "Regularized Normal Equation with Lambda value 10 yields following Regression\n"
     ]
    },
    {
     "data": {
      "image/png": "[encoded data removed]",
      "text/plain": [
       "<Figure size 432x288 with 1 Axes>"
      ]
     },
     "metadata": {},
     "output_type": "display_data"
    }
   ],
   "source": [
    "def Regularized_Vectorized_closed_form(X, target,lambda0):\n",
    "#     lambda0 = 1\n",
    "    \n",
    "    target = np.mat(target)\n",
    "    left_matrix = np.linalg.inv(np.dot(X.T, X) + np.dot(lambda0,np.identity(target.shape[1])))\n",
    "    right_matrix = np.dot(X.T, target)\n",
    "    beta = np.dot(left_matrix,right_matrix)\n",
    "    print(\"Our Regularized beta with Lambda value {} is: \\n{}\".format(lambda0, beta))\n",
    "\n",
    "    return beta\n",
    "\n",
    "lambda0 = [0.01,0.1,1,10]\n",
    "for i in lambda0:\n",
    "    beta_2 = Regularized_Vectorized_closed_form(X, target,i)\n",
    "    print(\"Shape of returned predict array\",prediction(X, beta_2).shape)\n",
    "    print(\"Regularized Normal Equation with Lambda value {} yields following Regression\".format(i))\n",
    "    plt.figure()\n",
    "    plt.scatter(X_original[:,0], target)\n",
    "    plt.plot(X_original[:,0], prediction(X, beta_2), color = 'red')\n",
    "    plt.show()\n"
   ]
  },
  {
   "cell_type": "markdown",
   "metadata": {},
   "source": [
    "### Verification from Scikit Learn Model "
   ]
  },
  {
   "cell_type": "code",
   "execution_count": 916,
   "metadata": {
    "ExecuteTime": {
     "end_time": "2020-04-22T02:33:14.060055Z",
     "start_time": "2020-04-22T02:33:13.312628Z"
    }
   },
   "outputs": [
    {
     "name": "stdout",
     "output_type": "stream",
     "text": [
      "Our Fit Model \n",
      " Ridge(alpha=0.1, copy_X=True, fit_intercept=True, max_iter=None,\n",
      "      normalize=False, random_state=None, solver='auto', tol=0.001)\n",
      "Our Coefficients with (current) Bias value '0' are: \n",
      "[[0.         2.00628713]]\n",
      "predcit from scikit model:  [[5.26818018]]\n",
      "Following is the Scikit Normal Equation/Ridge Linear Regression with Bias value '0'\n"
     ]
    },
    {
     "data": {
      "image/png": "[encoded data removed]",
      "text/plain": [
       "<Figure size 432x288 with 1 Axes>"
      ]
     },
     "metadata": {},
     "output_type": "display_data"
    },
    {
     "name": "stdout",
     "output_type": "stream",
     "text": [
      "Our Fit Model \n",
      " Ridge(alpha=0.1, copy_X=True, fit_intercept=True, max_iter=None,\n",
      "      normalize=False, random_state=None, solver='auto', tol=0.001)\n",
      "Our Coefficients with (current) Bias value '0.5' are: \n",
      "[[0.5        2.50628713]]\n",
      "predcit from scikit model:  [[5.26818018]]\n",
      "Following is the Scikit Normal Equation/Ridge Linear Regression with Bias value '0.5'\n"
     ]
    },
    {
     "data": {
      "image/png": "[encoded data removed]",
      "text/plain": [
       "<Figure size 432x288 with 1 Axes>"
      ]
     },
     "metadata": {},
     "output_type": "display_data"
    },
    {
     "name": "stdout",
     "output_type": "stream",
     "text": [
      "Our Fit Model \n",
      " Ridge(alpha=0.1, copy_X=True, fit_intercept=True, max_iter=None,\n",
      "      normalize=False, random_state=None, solver='auto', tol=0.001)\n",
      "Our Coefficients with (current) Bias value '1' are: \n",
      "[[1.         3.00628713]]\n",
      "predcit from scikit model:  [[5.26818018]]\n",
      "Following is the Scikit Normal Equation/Ridge Linear Regression with Bias value '1'\n"
     ]
    },
    {
     "data": {
      "image/png": "[encoded data removed]",
      "text/plain": [
       "<Figure size 432x288 with 1 Axes>"
      ]
     },
     "metadata": {},
     "output_type": "display_data"
    }
   ],
   "source": [
    "from sklearn.linear_model import Ridge\n",
    "\n",
    "def Scikit_Ridge_Linear_Regression(X_original, X, target):\n",
    "    bias_list = [0,0.5, 1]\n",
    "    \n",
    "    for bias in bias_list:\n",
    "        # ==================================Building Model==============================================================\n",
    "        model = Ridge(alpha = 0.1)\n",
    "        fit = model.fit(X,target)\n",
    "        ridgeCoefs = model.coef_\n",
    "        predict = model.predict(ridgeCoefs)\n",
    "        y_hat = np.dot(X, ridgeCoefs.T)\n",
    "\n",
    "        print(\"Our Fit Model \\n\",fit)\n",
    "        print(\"Our Coefficients with (current) Bias value '{}' are: \\n{}\".format(bias, ridgeCoefs+bias))\n",
    "        print(\"predcit from scikit model: \",predict)\n",
    "        print(\"Following is the Scikit Normal Equation/Ridge Linear Regression with Bias value '{}'\".format(bias))\n",
    "\n",
    "        # ==================================Plot Graph==============================================================\n",
    "        plt.figure()\n",
    "        plt.scatter(X_original[:,0], target)\n",
    "        plt.plot(X_original[:,0], y_hat+bias, color = 'red')\n",
    "        plt.show()\n",
    "        \n",
    "Scikit_Ridge_Linear_Regression(X_original, X, target)"
   ]
  },
  {
   "cell_type": "markdown",
   "metadata": {},
   "source": [
    "## Questions 2.3 \n",
    "2.3. __Kernel Ridge regression__. Given the 'Normal Equations' solution to the regularized regression model, we now want to turn the regression model into a formulation over kernels. \n",
    "\n",
    "\n",
    "## __2.3.1. Start by showing that this solution can read as__ \n",
    "\n",
    "$$\\mathbf{\\beta} = \\mathbf{X}^T\\left(\\mathbf{K} + \\lambda\\mathbf{I}_N\\right)^{-1}\\mathbf{t}$$\n",
    "\n",
    "where $\\mathbf{K}$ is the kernel matrix defined from the scalar product of the prototypes, i.e. $\\mathbf{K}_{i,j} = \\kappa(\\mathbf{x}^{(i)}, \\mathbf{x}^{(j)}) = (\\mathbf{x}^{(i)})^T(\\mathbf{x}^{(j)})$. \n"
   ]
  },
  {
   "cell_type": "markdown",
   "metadata": {},
   "source": [
    "## Solution 2.3.1\n",
    "1. Substitute K into the Equation: \n",
    "$$\\mathbf{K} = \\mathbf{X}\\mathbf{X}^T$$"
   ]
  },
  {
   "cell_type": "markdown",
   "metadata": {},
   "source": [
    "## Extra Work: (Optional) Proof"
   ]
  },
  {
   "cell_type": "markdown",
   "metadata": {},
   "source": [
    "1. Our Normal Equation is: \n",
    "$$\n",
    "\\overrightarrow{\\beta} = (X^TX)^{-1}X^T\\overrightarrow{\\text{t}}\n",
    "$$\n",
    "\n",
    "2. Suppose $(X^TX)^{-1} $ exists, then let $ \\widehat{\\beta}_{ML}$ be:\n",
    "\n",
    "\n",
    "$$\n",
    "\\widehat{\\beta}_{ML} = (X^TX)^{-1}X^T\\overrightarrow{\\text{t}}\n",
    "$$\n",
    "$$\n",
    "\\therefore (X^TX)(X^TX)^{-1}(X^TX)^{-1}X^T\\overrightarrow{\\text{t}}\n",
    "$$\n",
    "$$\n",
    "\\therefore (X^TX)(X^TX)^{-2}X^T\\overrightarrow{\\text{t}}\n",
    "$$\n",
    "\n",
    "$$\n",
    "\\widehat{\\beta}_{ML} \\simeq X^T\\alpha\n",
    "$$\n",
    "where $\\alpha = X(X^TX)^{-2}X^T\\overrightarrow{\\text{t}}$\n",
    "3. Get __Gram Matrix__ if we want to predict the y values from X values:\n",
    "$$\n",
    " X\\widehat{\\beta}_{ML} = XX^T\\alpha = K\\alpha\n",
    "$$\n",
    "\n",
    "\n",
    "4. Let our Ridge Regularized Normal Equation be $\\widehat{\\beta}_{MAP}$: \n",
    "$$\n",
    "\\widehat{\\beta}_{MAP} = (X^TX + \\lambda I)^{-1}X^T\\overrightarrow{\\text{t}}\n",
    "$$\n",
    "$$\n",
    "(X^TX + \\lambda I)\\widehat{\\beta}_{MAP} = X^T\\overrightarrow{\\text{t}}\n",
    "$$\n",
    "$$\n",
    "X^TX\\widehat{\\beta}_{MAP} + \\lambda\\widehat{\\beta}_{MAP} = X^T\\overrightarrow{\\text{t}}\n",
    "$$\n",
    "\n",
    "$$\n",
    "\\lambda\\widehat{\\beta}_{MAP} = X^T\\left(\\overrightarrow{\\text{t}} - X\\widehat{\\beta}_{MAP}\\right)\n",
    "$$\n",
    "\n",
    "$$\n",
    "\\widehat{\\beta}_{MAP} = \\lambda^{-1} X^T\\left(\\overrightarrow{\\text{t}} - X\\widehat{\\beta}_{MAP}\\right)\n",
    "$$\n",
    "$$\n",
    "\\widehat{\\beta}_{MAP} = X^T\\alpha\n",
    "$$\n",
    "where $ \\alpha =\\lambda^{-1}\\left(\\overrightarrow{\\text{t}} - X\\widehat{\\beta}_{MAP}\\right) $\n",
    "\n",
    "5. Solve for $\\alpha$, use Gram Matrix equation and substitute the equation:\n",
    "$$\n",
    "\\lambda \\alpha = \\overrightarrow{\\text{t}} - X\\widehat{\\beta}_{MAP}\n",
    "$$\n",
    "$$\n",
    "\\lambda \\alpha = \\overrightarrow{\\text{t}} - XX^T\\alpha\n",
    "$$\n",
    "$$\n",
    " \\left(XX^T + \\lambda \\mathbf{I}_{N}\\right) \\alpha = \\overrightarrow{\\text{t}}\n",
    "$$\n",
    "$$\n",
    "\\alpha =  \\left(XX^T + \\lambda \\mathbf{I}_{N}\\right)^{-1}\\overrightarrow{\\text{t}}\n",
    "$$\n",
    "Substitute $XX^T $ for K:\n",
    "$$\n",
    "\\alpha = \\left(K + \\lambda \\mathbf{I}_{N}\\right)^{-1}\\overrightarrow{\\text{t}}\n",
    "$$\n",
    "\n",
    "6. Substitude $Equation$ $55$ into $Equation$ $50$\n",
    "$$\n",
    "\\beta = X^T\\left(K + \\lambda \\mathbf{I}_{N}\\right)^{-1}\\overrightarrow{\\text{t}}\n",
    "$$"
   ]
  },
  {
   "cell_type": "markdown",
   "metadata": {},
   "source": [
    "## Question __2.3.2.__ \n",
    "Given this, the classifier can read as $f(\\mathbf{x}) = \\mathbf{\\beta}^T\\mathbf{x} = \\sum_{i=1}^N \\alpha_i \\kappa(\\mathbf{x}, \\mathbf{x}_i)$. What are the $\\alpha$ in this case?"
   ]
  },
  {
   "cell_type": "markdown",
   "metadata": {
    "ExecuteTime": {
     "end_time": "2020-04-21T17:52:51.453139Z",
     "start_time": "2020-04-21T17:52:51.424197Z"
    }
   },
   "source": [
    "## Solution 2.3.2\n",
    "\n",
    "<div align=\"center\"> $\\alpha$ in this case are $weights$ </div>\n"
   ]
  },
  {
   "cell_type": "markdown",
   "metadata": {},
   "source": [
    "## Question __2.3.3.__ \n",
    "We will apply this idea to text data. Using kernels with text data is interesting because it is usually easier to compare documents than to find appropriate features to represent those documents.  The file 'headlines_train.txt' contains a few headlines, some of them being about finance, others being about weather forecasting. Use the first group of lines below to load those lines and their associated targets (1/0).  "
   ]
  },
  {
   "cell_type": "markdown",
   "metadata": {},
   "source": [
    "## Solution 2.3.3"
   ]
  },
  {
   "cell_type": "code",
   "execution_count": 917,
   "metadata": {
    "ExecuteTime": {
     "end_time": "2020-04-22T02:33:19.295498Z",
     "start_time": "2020-04-22T02:33:19.286830Z"
    }
   },
   "outputs": [
    {
     "name": "stdout",
     "output_type": "stream",
     "text": [
      "Example of Sentence: TEMPERATURES have soared this week, with sunny skies and clear days for much of the UK. However, this will soon change as the forecast makes for a much colder weekend.0             \n",
      "\n",
      "Examples of Target: [1.0, 1.0, 1.0, 1.0, 0.0, 0.0, 0.0, 0.0, 0.0, 0.0] \n"
     ]
    }
   ],
   "source": [
    "# Start by loading the file using the lines below \n",
    "import numpy as np\n",
    "\n",
    "def load_text_train_data():\n",
    "    f = open('headlines_train.txt', \"r\")\n",
    "    lines = f.readlines()\n",
    "    f.close()\n",
    "\n",
    "    sentences = ['Start']\n",
    "    target = [0]\n",
    "\n",
    "    for l in np.arange(len(lines)-2):\n",
    "        if l%2 == 0:\n",
    "            lines_tmp = lines[l]\n",
    "            lines_tmp = lines_tmp[:-1]\n",
    "            sentences.append(lines_tmp)\n",
    "            if lines_tmp[-1] == ' ':\n",
    "                target.append(float(lines_tmp[-2]))\n",
    "            else:\n",
    "                target.append(float(lines_tmp[-1]))\n",
    "\n",
    "    sentences = sentences[1:]\n",
    "    target = target[1:]\n",
    "    print(\"Example of Sentence: {} \\\n",
    "            \\n\\nExamples of Target: {} \".format(sentences[4], target[:10]))\n",
    "    return sentences,target \n",
    "\n",
    "sentences, target = load_text_train_data()"
   ]
  },
  {
   "cell_type": "markdown",
   "metadata": {},
   "source": [
    "## Question __2.3.4.__ \n",
    "Now use the lines below to define the kernel. The kernel is basically built by generating a TF-IDF vector for each sentence and comparing those sentences through a cosine similarity measure. the variable 'kernel' the kernel matrix, i.e. $\\kappa(i,j) = \\frac{\\phi_i^T\\phi_j}{\\|\\phi_i\\|\\|\\phi_j\\|}$ where the $\\phi_i$ encodes the tf-idf vectors. Use the lines below to compute the kernel matrix. "
   ]
  },
  {
   "cell_type": "markdown",
   "metadata": {},
   "source": [
    "## Solution 2.3.4"
   ]
  },
  {
   "cell_type": "code",
   "execution_count": 918,
   "metadata": {
    "ExecuteTime": {
     "end_time": "2020-04-22T02:33:22.622031Z",
     "start_time": "2020-04-22T02:33:22.361078Z"
    }
   },
   "outputs": [
    {
     "name": "stdout",
     "output_type": "stream",
     "text": [
      "Our Model \n",
      " TfidfVectorizer(analyzer='word', binary=False, decode_error='ignore',\n",
      "                dtype=<class 'numpy.float64'>, encoding='utf-8',\n",
      "                input='content', lowercase=True, max_df=1.0, max_features=100,\n",
      "                min_df=1, ngram_range=(1, 1), norm='l2', preprocessor=None,\n",
      "                smooth_idf=True, stop_words='english', strip_accents=None,\n",
      "                sublinear_tf=False, token_pattern='(?u)\\\\b\\\\w\\\\w+\\\\b',\n",
      "                tokenizer=None, use_idf=True, vocabulary=None)\n",
      "\n",
      "\n",
      "TF-IDF Shape: (64, 100)\n",
      "TF-IDF Example: \n",
      "  (0, 4)\t0.5886777990045652\n",
      "  (0, 45)\t0.5540008103949683\n",
      "  (0, 44)\t0.5886777990045652\n",
      "\n",
      "Feature Names: \n",
      " ['50s', '60s', 'act', 'additional', 'afternoon', 'ahead', 'areas', 'asian', 'associated', 'backstop', 'banks', 'beginning', 'best', 'bring', 'cash', 'cloud', 'come', 'conditions', 'coronavirus', 'crisis', 'day', 'days', 'dump', 'early', 'economic', 'expected', 'fall', 'fear', 'fed', 'federal', 'financial', 'flash', 'flooding', 'followed', 'forecast', 'forecasters', 'friday', 'funds', 'gauge', 'heavy', 'high', 'hit', 'house', 'investors', 'late', 'likely', 'market', 'markets', 'markets1', 'money', 'morning', 'municipal', 'national', 'new', 'night', 'package', 'pandemic', 'passed', 'plunge', 'possible', 'prime', 'puget', 'rain', 'rainfall', 'rains', 'representatives', 'reserve', 'said', 'say', 'service', 'severe', 'showers', 'shows', 'skies', 'sound', 'south', 'stock', 'stocks', 'storm', 'storms', 'street', 'strong', 'temperatures', 'term', 'threat', 'thunderstorm', 'thunderstorms', 'thursday', 'treasury', 'trillion', 'tuesday', 'turbulence', 'vix', 'wall', 'way', 'weather', 'week', 'weekend', 'wind', 'winds']\n",
      "\n",
      "\n",
      "Shape of Kernel Matrix (an array of shape (X,Y)): (64, 64)     \n",
      " \n",
      "A example of Kernel Matrix Value (15): \n",
      " [0.         0.         0.         0.         0.         0.\n",
      " 0.         0.         0.25138966 0.13817878 0.         0.06829762\n",
      " 0.06608462 0.         0.08675784 1.         0.252001   0.27728762\n",
      " 0.         0.         0.06457477 0.06745497 0.09723764 0.32477066\n",
      " 0.11848253 0.0510486  0.         0.39888888 0.06315905 0.29708278\n",
      " 0.05490185 0.21759867 0.0597897  0.08531799 0.47439759 0.05212403\n",
      " 0.         0.         0.         0.         0.         0.\n",
      " 0.         0.         0.         0.         0.         0.\n",
      " 0.         0.         0.         0.         0.         0.\n",
      " 0.         0.         0.         0.         0.         0.\n",
      " 0.         0.         0.         0.        ]\n"
     ]
    },
    {
     "data": {
      "image/png": "[encoded data removed]",
      "text/plain": [
       "<Figure size 432x288 with 1 Axes>"
      ]
     },
     "metadata": {},
     "output_type": "display_data"
    }
   ],
   "source": [
    "import numpy as np\n",
    "from sklearn.feature_extraction.text import TfidfVectorizer\n",
    "from sklearn.metrics.pairwise import cosine_similarity\n",
    "from sklearn.metrics.pairwise import pairwise_kernels\n",
    "import matplotlib.pyplot as plt\n",
    "\n",
    "\n",
    "model = TfidfVectorizer(max_features=100, stop_words='english',\n",
    "                                 decode_error='ignore')\n",
    "\n",
    "TF_IDF = model.fit_transform(sentences)\n",
    "feature_names = model.get_feature_names()\n",
    "kernel = cosine_similarity(TF_IDF)\n",
    "\n",
    "\n",
    "print(\"Our Model \\n {}\".format(model))\n",
    "print(\"\\n\")\n",
    "print(\"TF-IDF Shape: {}\".format(TF_IDF.shape))\n",
    "print(\"TF-IDF Example: \\n{}\".format(TF_IDF[5]))\n",
    "print(\"\\nFeature Names: \\n {}\".format(feature_names))\n",
    "print(\"\\n\")\n",
    "print(\"Shape of Kernel Matrix (an array of shape (X,Y)): {}\\\n",
    "     \\n \\nA example of Kernel Matrix Value (15): \\n {}\".format(kernel.shape, kernel[15]))\n",
    "\n",
    "plt.imshow(kernel)\n",
    "plt.show()"
   ]
  },
  {
   "cell_type": "code",
   "execution_count": 919,
   "metadata": {
    "ExecuteTime": {
     "end_time": "2020-04-22T02:33:25.836518Z",
     "start_time": "2020-04-22T02:33:25.830813Z"
    }
   },
   "outputs": [
    {
     "name": "stdout",
     "output_type": "stream",
     "text": [
      "Stop word List Example: \n",
      "frozenset({'where', 'whereby', 'who', 'bottom', 'co', 'after', 'wherever', 'being', 'made', 'into', 'nevertheless', 'thereby', 'almost', 'etc', 'be', 'their', 'sixty', 'seeming', 'own', 'it', 'full', 'here', 'front', 'someone', 'several', 'down', 'cry', 'inc', 'many', 'nor', 'side', 'four', 'now', 'himself', 'indeed', 'anywhere', 'themselves', 'anyone', 'thereafter', 'fill', 'its', 'put', 'nobody', 'per', 'such', 'seem', 'nowhere', 'for', 'are', 'myself', 'became', 'noone', 'three', 'eight', 'elsewhere', 'hence', 'amount', 'mill', 'through', 'has', 'will', 'our', 'among', 'back', 'thus', 'she', 'he', 'might', 'whereupon', 'hereafter', 'last', 'in', 'alone', 'interest', 'found', 'them', 'can', 'rather', 'beforehand', 'seemed', 'both', 'only', 'everywhere', 'must', 'then', 'twenty', 'within', 'which', 'again', 'whereafter', 'enough', 'very', 'by', 'take', 'less', 'go', 'call', 'anything', 'was', 'amongst', 'next', 'some', 'anyhow', 'whereas', 'how', 'or', 'most', 'though', 'de', 'i', 'herself', 'thereupon', 'because', 'against', 'former', 'fifty', 'first', 'up', 'than', 'never', 'either', 'during', 'serious', 'therefore', 'detail', 'at', 'beside', 'ever', 'six', 'until', 'forty', 'beyond', 'twelve', 'whither', 'seems', 'were', 'hasnt', 'hereupon', 'yourself', 'hundred', 'herein', 'whenever', 'each', 'however', 'between', 'whose', 'give', 'once', 'not', 'find', 'see', 'couldnt', 'nothing', 'much', 'above', 'that', 'bill', 'done', 'empty', 'otherwise', 'ie', 'already', 'another', 'somewhere', 'itself', 'but', 'third', 'thin', 'besides', 'over', 'thence', 'ours', 'ten', 'amoungst', 'with', 'via', 'else', 'your', 'would', 'if', 'cant', 'along', 'hers', 'every', 'out', 'part', 'something', 'cannot', 'before', 're', 'around', 'may', 'more', 'namely', 'yet', 'since', 'whether', 'yours', 'and', 'also', 'five', 'should', 'of', 'nine', 'yourselves', 'anyway', 'others', 'sometime', 'this', 'had', 'toward', 'becomes', 'to', 'further', 'us', 'afterwards', 'un', 'any', 'sincere', 'system', 'get', 'one', 'whoever', 'same', 'what', 'could', 'under', 'my', 'ourselves', 'ltd', 'on', 'describe', 'onto', 'his', 'no', 'often', 'even', 'latter', 'wherein', 'few', 'latterly', 'upon', 'without', 'they', 'somehow', 'everything', 'hereby', 'always', 'off', 'these', 'move', 'behind', 'when', 'please', 'is', 'too', 'neither', 'together', 'therein', 'an', 'we', 'her', 'all', 'eleven', 'so', 'top', 'due', 'been', 'become', 'name', 'those', 'whence', 'two', 'show', 'becoming', 'thru', 'across', 'why', 'thick', 'perhaps', 'fire', 'keep', 'eg', 'mostly', 'mine', 'whatever', 'although', 'formerly', 'about', 'least', 'throughout', 'none', 'towards', 'am', 'me', 'the', 'except', 'meanwhile', 'do', 'a', 'whom', 'you', 'con', 'moreover', 'while', 'everyone', 'him', 'still', 'well', 'whole', 'as', 'fifteen', 'below', 'have', 'sometimes', 'from', 'other', 'there'})\n",
      "\n"
     ]
    }
   ],
   "source": [
    "stop_word_list = model.get_stop_words()\n",
    "print(\"Stop word List Example: \\n{}\\n\".format(stop_word_list))"
   ]
  },
  {
   "cell_type": "markdown",
   "metadata": {},
   "source": [
    "## Question __2.3.4.__ \n",
    "Once you have the kernel matrix, compute the weights $\\alpha$ of the classifier $y(\\mathbf{x}) = \\sum_{i\\in \\mathcal{D}}\\alpha_i \\kappa(\\mathbf{x}, \\mathbf{x}_i)$. "
   ]
  },
  {
   "cell_type": "markdown",
   "metadata": {},
   "source": [
    "## Solution 2.3.4"
   ]
  },
  {
   "cell_type": "markdown",
   "metadata": {},
   "source": [
    "$$ \\mathbf{\\beta} = \\mathbf{X}^T\\left(\\mathbf{K} + \\lambda\\mathbf{I}_N\\right)^{-1}\\mathbf{t} $$\n",
    "$\\mathbf{K}_{i,j} = \\kappa(\\mathbf{x}^{(i)}, \\mathbf{x}^{(j)}) = (\\mathbf{x}^{(i)})^T(\\mathbf{x}^{(j)})$\n",
    "\n",
    "$ \\mathbf{K} = \\mathbf{X}\\mathbf{X}^T$"
   ]
  },
  {
   "cell_type": "code",
   "execution_count": 920,
   "metadata": {
    "ExecuteTime": {
     "end_time": "2020-04-22T02:33:30.126068Z",
     "start_time": "2020-04-22T02:33:30.119532Z"
    }
   },
   "outputs": [
    {
     "name": "stdout",
     "output_type": "stream",
     "text": [
      "Shape of weights:  (64,) \n",
      "\n"
     ]
    }
   ],
   "source": [
    "# compute the alpha weights\n",
    "def alpha_weights(X,kernel, target):\n",
    "    \n",
    "    lambda0 = 0.1 \n",
    "    K = np.dot(X,X.T)\n",
    "    \n",
    "    center = np.linalg.inv(kernel + lambda0*np.identity(X.shape[0]))\n",
    "    \n",
    "#     beta = X.T @ center @ target\n",
    "    beta = center @ target\n",
    "    \n",
    "    print(\"Shape of weights: \",beta.shape, \"\\n\")\n",
    "    return beta\n",
    "\n",
    "weights = alpha_weights(TF_IDF, kernel,target)"
   ]
  },
  {
   "cell_type": "markdown",
   "metadata": {},
   "source": [
    "## Question __2.3.5.__ \n",
    "Now that you have the weights, we want to apply the classifier to a few new headlines. Those headlines are stored in the file 'headlines_test.txt'. Use the lines below to load those sentences and compute their TF-IDF representation. the classifier $y(\\mathbf{x}) = \\sum_{i\\in \\mathcal{D}}\\alpha_i \\kappa(\\mathbf{x}, \\mathbf{x}_i)$ "
   ]
  },
  {
   "cell_type": "markdown",
   "metadata": {},
   "source": [
    "## Solution 2.3.5"
   ]
  },
  {
   "cell_type": "code",
   "execution_count": 921,
   "metadata": {
    "ExecuteTime": {
     "end_time": "2020-04-22T02:33:33.038288Z",
     "start_time": "2020-04-22T02:33:33.031548Z"
    }
   },
   "outputs": [
    {
     "name": "stdout",
     "output_type": "stream",
     "text": [
      "Example of Test Sentence: \n",
      "Money market mutual funds and exchange traded funds accounted for $286bn of inflows for the period\n",
      "\n"
     ]
    }
   ],
   "source": [
    "# Start by loading the file using the lines below \n",
    "import numpy as np\n",
    "def load_data_text_test():\n",
    "    f = open('headlines_test.txt', \"r\")\n",
    "    lines = f.readlines()\n",
    "    f.close()\n",
    "\n",
    "    sentences_test = ['Start']\n",
    "    for l in np.arange(len(lines)):\n",
    "\n",
    "        if l%2 == 0:\n",
    "            lines_tmp = lines[l]\n",
    "            lines_tmp = lines_tmp[:-1]\n",
    "            sentences_test.append(lines_tmp)\n",
    "\n",
    "\n",
    "    sentences_test = sentences_test[1:]\n",
    "\n",
    "    print(\"Example of Test Sentence: \\n{}\\n\".format(sentences_test[3]))\n",
    "    return sentences_test\n",
    "sentences_test = load_data_text_test()"
   ]
  },
  {
   "cell_type": "code",
   "execution_count": 922,
   "metadata": {
    "ExecuteTime": {
     "end_time": "2020-04-22T02:33:35.850874Z",
     "start_time": "2020-04-22T02:33:35.838311Z"
    }
   },
   "outputs": [
    {
     "name": "stdout",
     "output_type": "stream",
     "text": [
      "Our Model_test \n",
      " TfidfVectorizer(analyzer='word', binary=False, decode_error='ignore',\n",
      "                dtype=<class 'numpy.float64'>, encoding='utf-8',\n",
      "                input='content', lowercase=True, max_df=1.0, max_features=100,\n",
      "                min_df=1, ngram_range=(1, 1), norm='l2', preprocessor=None,\n",
      "                smooth_idf=True, stop_words='english', strip_accents=None,\n",
      "                sublinear_tf=False, token_pattern='(?u)\\\\b\\\\w\\\\w+\\\\b',\n",
      "                tokenizer=None, use_idf=True, vocabulary=None)\n",
      "\n",
      "\n",
      "TF-IDF_test Shape: (4, 100)\n",
      "TF-IDF_test Example: \n",
      "  (0, 86)\t0.5976365372261107\n",
      "  (0, 62)\t0.30548373934724476\n",
      "  (0, 45)\t0.5227334676700163\n",
      "  (0, 39)\t0.29272514048374804\n",
      "  (0, 36)\t0.43654549393305875\n",
      "\n",
      "\n",
      "Shape of Kernel_test Matrix (an array of shape (X,Y)): (4, 64)     \n",
      " \n",
      "A example of Kernel_test Matrix Value (2): \n",
      " [0.11856109 0.         0.11015458 0.         0.         0.28959476\n",
      " 0.         0.07688156 0.0686766  0.13647488 0.         0.14091918\n",
      " 0.06526972 0.25274064 0.64283057 0.08675784 0.14381919 0.15825049\n",
      " 0.22585187 0.20542024 0.13323777 0.21479452 0.20063141 0.14565543\n",
      " 0.2444662  0.10532909 0.24421569 0.1089716  0.1303167  0.13323777\n",
      " 0.23387677 0.12418547 0.31167683 0.44475285 0.18939264 0.43663059\n",
      " 0.         0.         0.         0.         0.         0.\n",
      " 0.         0.         0.         0.         0.         0.\n",
      " 0.         0.         0.         0.         0.         0.\n",
      " 0.         0.         0.         0.         0.         0.\n",
      " 0.         0.         0.         0.        ]\n",
      "\n",
      "Shape of test_F: (4, 100)\n"
     ]
    }
   ],
   "source": [
    "\n",
    "'''Compute Test_F and print Relevent Information'''\n",
    "test_F = np.hstack((tfidf_test.todense(), np.zeros((rows, 100-np.shape(tfidf_test.todense())[1]))))\n",
    "\n",
    "print(\"Our Model_test \\n {}\".format(model))\n",
    "print(\"\\n\")\n",
    "print(\"TF-IDF_test Shape: {}\".format(tfidf_test.shape))\n",
    "print(\"TF-IDF_test Example: \\n{}\".format(tfidf_test[2]))\n",
    "print(\"\\n\")\n",
    "print(\"Shape of Kernel_test Matrix (an array of shape (X,Y)): {}\\\n",
    "     \\n \\nA example of Kernel_test Matrix Value (2): \\n {}\".format(kernel_test.shape, kernel_test[2]))\n",
    "print(\"\\nShape of test_F: {}\".format(test_F.shape))\n"
   ]
  },
  {
   "cell_type": "markdown",
   "metadata": {},
   "source": [
    "## Question __2.3.6.__ \n",
    "Once you have the tf-idf representations stored in the matrix test_F (size 4 by 100 features) the value $\\kappa(\\mathbf{x}, \\mathbf{x}_i)$ that you need to get the final classifier $y(\\mathbf{x}) = \\sum_{i\\in \\mathcal{D}}\\alpha_i \\kappa(\\mathbf{x}, \\mathbf{x}_i)$ and hence the target of the new sentences, you need to compute the cosine similarity of the new \"test\" tf-idf vectors with the \"training\" tf-idf vectors which you computed earlier. each of those cosine similarities will give you an entry in $\\kappa(\\mathbf{x}, \\mathbf{x}_i)$ (here $\\mathbf{x}$ denotes any of the fixed test sentences). once you have those similarities, compute the target from your $\\alpha$ values as $t(\\mathbf{x}) = \\sum_{i\\in \\text{train}} \\alpha_i\\kappa(\\mathbf{x}, \\mathbf{x}_i)$. print those targets below. \n",
    "## Solution 2.3.6"
   ]
  },
  {
   "cell_type": "code",
   "execution_count": 923,
   "metadata": {
    "ExecuteTime": {
     "end_time": "2020-04-22T02:33:40.915681Z",
     "start_time": "2020-04-22T02:33:40.901946Z"
    }
   },
   "outputs": [
    {
     "name": "stdout",
     "output_type": "stream",
     "text": [
      "Shape of Kernel for Test Documents: (4, 64)\n",
      "\n",
      "These are non-binary Target values [-0.06407084  0.84859565  0.00165005  0.6700912 ] before converting them \n",
      "into binary numbers, 0's and 1's \n",
      "\n",
      "\tFinal Targets for Test Documents are [0, 1, 0, 1]; each value for each Document (sentence).\n",
      "\n",
      "\u001b[1m\t\tIn our case, 0 = Weather/Climate | 1 = Finance/Buisness\u001b[0m\n",
      "\n",
      "Our Document (Sentence) is: \n",
      "Threat of severe thunderstorms and heavy rain will return to the South early week, as another low pressure system tracks across the region.. \n",
      "\tand its target is 0 which is Climate in our case\n",
      "\n",
      "Our Document (Sentence) is: \n",
      "Investors put a record amount of cash into money market funds in the week. \n",
      "\tand its target is 1 which is Finance in our case\n",
      "\n",
      "Our Document (Sentence) is: \n",
      "Heavy snow or rain and thunderstorms with hail are likely over Jammu & Kashmir and Ladakh on Friday. \n",
      "\tand its target is 0 which is Climate in our case\n",
      "\n",
      "Our Document (Sentence) is: \n",
      "Money market mutual funds and exchange traded funds accounted for $286bn of inflows for the period. \n",
      "\tand its target is 1 which is Finance in our case\n"
     ]
    }
   ],
   "source": [
    "\n",
    "tfidf_test = model.transform(sentences_test)\n",
    "'''Kernel Test Documents'''\n",
    "kernel_test = cosine_similarity(test_F,TF_IDF)\n",
    "\n",
    "'''Non-binary Target Values'''\n",
    "final_target = np.dot(weights,kernel_test.T)\n",
    "\n",
    "target_test_final = []\n",
    "for tar in final_target:\n",
    "    if tar >= 0.5:\n",
    "        tar = 1\n",
    "        target_test_final.append(tar)\n",
    "        \n",
    "    else: \n",
    "        tar = 0\n",
    "        target_test_final.append(tar)\n",
    "        \n",
    "print(\"Shape of Kernel for Test Documents: {}\\n\".format(kernel_test.shape))\n",
    "print(\"These are non-binary Target values {} before converting them \\ninto binary numbers, 0's and 1's \\n\".format(final_target))\n",
    "\n",
    "print(\"\\tFinal Targets for Test Documents are {}; each value for each Document (sentence).\\n\".format(target_test_final))\n",
    "print(\"\\033[1m\"+\"\\t\\tIn our case, 0 = Weather/Climate | 1 = Finance/Buisness\"+\"\\033[0m\")\n",
    "\n",
    "identity_label = [\"Climate\", \"Finance\",\"Climate\", \"Finance\"]\n",
    "for tense, label, identity in zip(sentences_test,target_test_final,identity_label):\n",
    "    print(\"\\nOur Document (Sentence) is: \\n{}. \\n\\tand\\\n",
    " its target is {} which is {} in our case\".format(tense, label,identity))\n"
   ]
  },
  {
   "cell_type": "markdown",
   "metadata": {},
   "source": [
    "### Please reach out if anything is unclear\n",
    "## PDF of this file is attached\n",
    "# END OF CODE"
   ]
  }
 ],
 "metadata": {
  "kernelspec": {
   "display_name": "Python 3",
   "language": "python",
   "name": "python3"
  },
  "language_info": {
   "codemirror_mode": {
    "name": "ipython",
    "version": 3
   },
   "file_extension": ".py",
   "mimetype": "text/x-python",
   "name": "python",
   "nbconvert_exporter": "python",
   "pygments_lexer": "ipython3",
   "version": "3.7.4"
  },
  "latex_envs": {
   "LaTeX_envs_menu_present": true,
   "autoclose": false,
   "autocomplete": true,
   "bibliofile": "biblio.bib",
   "cite_by": "apalike",
   "current_citInitial": 1,
   "eqLabelWithNumbers": true,
   "eqNumInitial": 1,
   "hotkeys": {
    "equation": "Ctrl-E",
    "itemize": "Ctrl-I"
   },
   "labels_anchors": false,
   "latex_user_defs": false,
   "report_style_numbering": false,
   "user_envs_cfg": false
  }
 },
 "nbformat": 4,
 "nbformat_minor": 2
}
