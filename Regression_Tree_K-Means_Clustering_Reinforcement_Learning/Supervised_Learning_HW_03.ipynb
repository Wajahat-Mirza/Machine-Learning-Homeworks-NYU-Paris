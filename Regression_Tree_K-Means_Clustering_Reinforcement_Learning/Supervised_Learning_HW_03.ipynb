{
 "cells": [
  {
   "cell_type": "markdown",
   "metadata": {},
   "source": [
    "## CSCI-UA 9473 Final Assignment\n",
    "\n",
    "# Muhammad Wajahat Mirza"
   ]
  },
  {
   "cell_type": "markdown",
   "metadata": {},
   "source": [
    "In this last assignment, you will get to work on each of the learning frameworks that we introduced throughout the course. The assignement is organized in Three main parts.\n",
    "\n",
    "- Supervised Learning\n",
    "- Unsupervised Learning\n",
    "- Reinforcement Learning \n",
    "\n",
    "The Total (final) grade will be computed according to the following rule \n",
    "\n",
    "\n",
    "\n",
    "__if__ Mean(Assignment1,Assignment2,Assignment3)< Assignment4 \n",
    "\n",
    "    \n",
    "    Total grade = 0.25*Mean(Assignment1+Assignment2+Assignment3) + 0.75*Assignment4\n",
    "    \n",
    "__else if__ Mean(Assignment1,Assignment2,Assignment3)> Assignment4 \n",
    "\n",
    "    \n",
    "    Total grade = 0.75*Mean(Assignment1+Assignment2+Assignment3) + 0.25*Assignment4\n",
    "    \n",
    "    "
   ]
  },
  {
   "cell_type": "markdown",
   "metadata": {},
   "source": [
    "### Part I. Supervised Learning (25pts)"
   ]
  },
  {
   "cell_type": "markdown",
   "metadata": {},
   "source": [
    "#### Exercise I.1.1 Regression tree (5pts)\n",
    "\n",
    "Tree based methods are simple methods that can be used in both regression and classification. The idea is to split the space into regions and then approximate the data by taking the mean of the targets from each region. The approach starts by splitting the space into two regions $R_1$ and $R_2$. Each of the two regions is then itself split into two more regions, $R_{11}$, $R_{12}$ such that $R_{11}\\cup R_{12} = R_{1}$ and $R_{21}$, $R_{22}$ such that $R_{21}\\cup R_{22} = R_{2}$. By proceeding like this, we end up with a model of the form\n",
    "\n",
    "$$f(x) = \\sum_{m=1}^M c_m I(x\\in R_m)$$\n",
    "\n",
    "where $I(x\\in R_m)$ is a function that takes the value $1$ when $x$ belongs to the subregion $R_m$ and $0$ otherwise. \n",
    "\n",
    "if we minimize the sum of squares, one can show that the optimal value for the coefficients $c_m$ is the average of the targets from region $R_m$, i.e. \n",
    "\n",
    "$$\\hat{c}_m = \\frac{1}{N_m}\\sum_{x_i\\in R_m} t_i$$\n",
    "\n",
    "Now finding the optimal region separation is more tricky. For this reason, the algorithm usually relies on some greedy procedure. \n",
    "\n",
    "For a splitting value $s$, Let $R_1(j,s)$ and $R_2(j,s)$ denote the regions we want to get (with respect to the coordinate/feature $j$), i.e. $R_1(j,s) = \\left\\{\\mathbf{x}|x_j\\leq s\\right\\} $ and $R_2(j,s) = \\left\\{\\mathbf{x}|x_j>s\\right\\}$.\n",
    "\n",
    "In order to find the optimal value $s$, we solve the following problem\n",
    "\n",
    "$$\\min_{(j,s)} \\left[\\min_{c_1} \\sum_{\\mathbf{x}_i\\in R_1(j,s)} (t_i - c_1)^2 + \\min_{c_2} \\sum_{\\mathbf{x}_i\\in R_2(s,j)} (t_i - c_2)^2\\right]\\quad (*)$$\n",
    "\n",
    "As explained before, we can take $c_1$ and $c_2$ to be the averages of the targets from each region. To determine the split, for convenience, we can take it to happen at one of the points from the training set, $\\mathbf{s} = \\mathbf{x}_i$ for some $i\\in \\mathcal{D}$. From this computing the optimal splitting for the criterion (*) becomes easier as we are left with computing the value of this criterion for $s = \\mathbf{x}_i$ given by any of the points from the training set. And return the value that achieves the minimum.  \n",
    "\n",
    "Consider the dataset below. Compute the Regression tree for this dataset. You can stop when you reach a certain node size (take it to be $2$ for example)\n",
    "\n",
    "\n"
   ]
  },
  {
   "cell_type": "markdown",
   "metadata": {},
   "source": [
    "# Solution"
   ]
  },
  {
   "cell_type": "code",
   "execution_count": 84,
   "metadata": {
    "ExecuteTime": {
     "end_time": "2020-05-26T06:34:10.253807Z",
     "start_time": "2020-05-26T06:34:10.016930Z"
    }
   },
   "outputs": [
    {
     "data": {
      "image/png": "[encoded data removed]",
      "text/plain": [
       "<Figure size 432x288 with 1 Axes>"
      ]
     },
     "metadata": {
      "needs_background": "light"
     },
     "output_type": "display_data"
    }
   ],
   "source": [
    "from scipy.io import loadmat\n",
    "from IPython.display import Image\n",
    "import numpy as np\n",
    "Points1 = loadmat('Points1_ExTree.mat')\n",
    "Points2 = loadmat('Points2_ExTree.mat')\n",
    "Points3 = loadmat('Points3_ExTree.mat')\n",
    "Points4 = loadmat('Points4_ExTree.mat')\n",
    "\n",
    "\n",
    "Points1 = Points1['Points1_ExTree']\n",
    "Points2 = Points2['Points2_ExTree']\n",
    "Points3 = Points3['Points3_ExTree']\n",
    "Points4 = Points4['Points4_ExTree']\n",
    "\n",
    "\n",
    "import matplotlib.pyplot as plt\n",
    "plt.scatter(Points1[:,0], Points1[:,1])\n",
    "plt.scatter(Points2[:,0], Points2[:,1])\n",
    "plt.scatter(Points3[:,0], Points3[:,1])\n",
    "plt.scatter(Points4[:,0], Points4[:,1])\n",
    "plt.show()\n",
    "\n",
    "\n",
    "target_1 = np.ones(np.shape(Points1)[0])+np.random.normal(0, 0.2, np.shape(Points1)[0])\n",
    "target_2 = 2*np.ones(np.shape(Points1)[0])+np.random.normal(0, 0.2, np.shape(Points1)[0])\n",
    "target_3 = 5*np.ones(np.shape(Points1)[0])+np.random.normal(0, 0.2, np.shape(Points1)[0])\n",
    "target_4 = -3*np.ones(np.shape(Points1)[0])+np.random.normal(0, 0.2, np.shape(Points1)[0])\n",
    "\n"
   ]
  },
  {
   "cell_type": "code",
   "execution_count": 32,
   "metadata": {
    "ExecuteTime": {
     "end_time": "2020-05-26T05:55:22.971907Z",
     "start_time": "2020-05-26T05:55:22.966537Z"
    }
   },
   "outputs": [
    {
     "name": "stdout",
     "output_type": "stream",
     "text": [
      "[-3.06078566 -3.00348953 -2.84973993 -3.27311945 -2.944711   -3.15814466] \n",
      " [4.85193184 4.99106153 4.93594135 5.0334893  5.00419679 4.67227466] \n",
      " [1.9477522  1.65020958 2.03152608 2.09412059 2.21778807 2.0539235 ] \n",
      " [0.79640191 1.17655752 0.63067232 0.61260826 1.14049284 0.9689941 ]\n"
     ]
    }
   ],
   "source": [
    "print(target_4,\"\\n\",target_3,\"\\n\",target_2,\"\\n\",target_1)"
   ]
  },
  {
   "cell_type": "markdown",
   "metadata": {},
   "source": [
    "## Solution Making the Regression Tree"
   ]
  },
  {
   "cell_type": "markdown",
   "metadata": {},
   "source": [
    "## Function to Calculate Error Value"
   ]
  },
  {
   "cell_type": "code",
   "execution_count": 33,
   "metadata": {
    "ExecuteTime": {
     "end_time": "2020-05-26T05:58:19.817338Z",
     "start_time": "2020-05-26T05:58:19.809070Z"
    }
   },
   "outputs": [],
   "source": [
    "def error(data):\n",
    "    value = 0\n",
    "    for val in data:\n",
    "        value = (val - np.mean(data))\n",
    "        value += value**2\n",
    "    return value"
   ]
  },
  {
   "cell_type": "markdown",
   "metadata": {},
   "source": [
    "## Gives Left and Right Nodes of the Tree"
   ]
  },
  {
   "cell_type": "code",
   "execution_count": 34,
   "metadata": {
    "ExecuteTime": {
     "end_time": "2020-05-26T06:00:32.864736Z",
     "start_time": "2020-05-26T06:00:32.855793Z"
    }
   },
   "outputs": [],
   "source": [
    "def left_right(data, X, val):\n",
    "    \n",
    "    left = data[np.nonzero(data[:,X] <= val)[0],: ]\n",
    "    right = data[np.nonzero(data[:,X] > val)[0],: ]\n",
    "    \n",
    "    return left, right"
   ]
  },
  {
   "cell_type": "markdown",
   "metadata": {},
   "source": [
    "## Breaking Data to Best Split"
   ]
  },
  {
   "cell_type": "code",
   "execution_count": 35,
   "metadata": {
    "ExecuteTime": {
     "end_time": "2020-05-26T06:15:20.457876Z",
     "start_time": "2020-05-26T06:15:20.444902Z"
    }
   },
   "outputs": [],
   "source": [
    "def data_break(data):\n",
    "    f = 0\n",
    "    val = 0\n",
    "    low = 1\n",
    "    \n",
    "    for X in np.arange(2):\n",
    "        for value in data[:,X]:\n",
    "            left, right = left_right(data, X, value)\n",
    "            err = error(left[:,2]) + error(right[:,2])\n",
    "            \n",
    "            if err < low:\n",
    "                f = X\n",
    "                val = value\n",
    "                low = err\n",
    "    \n",
    "    return f, val"
   ]
  },
  {
   "cell_type": "markdown",
   "metadata": {},
   "source": [
    "## Making the Tree"
   ]
  },
  {
   "cell_type": "code",
   "execution_count": 73,
   "metadata": {
    "ExecuteTime": {
     "end_time": "2020-05-26T06:30:19.308957Z",
     "start_time": "2020-05-26T06:30:19.301099Z"
    }
   },
   "outputs": [],
   "source": [
    "def Tree(data):\n",
    "    tree = {}\n",
    "    if(np.shape(data)[0] <= 2):\n",
    "        return data\n",
    "    \n",
    "    f, val = data_break(data)\n",
    "    tree[\"Feature\"] = f\n",
    "    tree[\"Val\"] = val\n",
    "    \n",
    "    left, right = left_right(data, f, val)\n",
    "    tree[\"Left\"] = Tree(left)\n",
    "    tree[\"Right\"] = Tree(right)\n",
    "    \n",
    "    return tree\n",
    "    "
   ]
  },
  {
   "cell_type": "code",
   "execution_count": 74,
   "metadata": {
    "ExecuteTime": {
     "end_time": "2020-05-26T06:30:19.661273Z",
     "start_time": "2020-05-26T06:30:19.655226Z"
    }
   },
   "outputs": [
    {
     "name": "stdout",
     "output_type": "stream",
     "text": [
      "(6, 2) (6,)\n"
     ]
    },
    {
     "data": {
      "text/plain": [
       "<function numpy.reshape(a, newshape, order='C')>"
      ]
     },
     "execution_count": 74,
     "metadata": {},
     "output_type": "execute_result"
    }
   ],
   "source": [
    "print(Points1.shape, target_1.shape)\n",
    "np.reshape"
   ]
  },
  {
   "cell_type": "code",
   "execution_count": 75,
   "metadata": {
    "ExecuteTime": {
     "end_time": "2020-05-26T06:30:20.239968Z",
     "start_time": "2020-05-26T06:30:20.231786Z"
    }
   },
   "outputs": [
    {
     "name": "stdout",
     "output_type": "stream",
     "text": [
      "Data is: \n",
      "[[0.12845622 0.66350365 0.79640191]\n",
      " [0.18836406 0.85328467 1.17655752]\n",
      " [0.41186636 0.81824818 0.63067232]\n",
      " [0.25748848 0.71021898 0.61260826]\n",
      " [0.32430876 0.54087591 1.14049284]\n",
      " [0.38191244 0.66058394 0.9689941 ]]\n",
      "\n",
      "\n",
      "Tree for Sub-data Point 1 and Target 1 is: \n",
      "\n",
      "{'Feature': 1, 'Val': 0.6605839416058396, 'Left': array([[0.32430876, 0.54087591, 1.14049284],\n",
      "       [0.38191244, 0.66058394, 0.9689941 ]]), 'Right': {'Feature': 1, 'Val': 0.7102189781021898, 'Left': array([[0.12845622, 0.66350365, 0.79640191],\n",
      "       [0.25748848, 0.71021898, 0.61260826]]), 'Right': array([[0.18836406, 0.85328467, 1.17655752],\n",
      "       [0.41186636, 0.81824818, 0.63067232]])}}\n",
      "\n"
     ]
    }
   ],
   "source": [
    "data = np.hstack((Points1, np.reshape(target_1, (6,1))))\n",
    "print(\"Data is: \\n{}\\n\\n\".format(data))\n",
    "print(\"Tree for Sub-data Point 1 and Target 1 is: \\n\\n{}\\n\".format(Tree(data)))"
   ]
  },
  {
   "cell_type": "markdown",
   "metadata": {},
   "source": [
    "#### Exercise I.1.2. Weakest link (5pts)\n",
    "\n",
    "Once we have built a sufficiently deep tree, we are left with determining whether one cannot reduce the depth of this tree (i.e. how coarse the model can be while still achieving sufficient accuracy). A (too) fine model will obviously lead to overfitting. For any tree, we define the set of leaf nodes (i.e. final set of regions) as $M$. We will use this parameter to encode the complexity of the tree. \n",
    "\n",
    "We can define the error that we make with a particular tree by considering the error on each region and summing those error terms across each region. If we let $R_m$ to denote the (average) error induced by region $R_m$, \n",
    "\n",
    "$$Q_m(T) = \\frac{1}{N_m} \\sum_{x_i\\in R_m} (t_i - \\hat{c}_m)^2$$\n",
    "\n",
    "To account for the complexity of the tree, one can also extend this cost into a loss $\\ell(T)$ which penalize complex trees (with a large number of leaf nodes $M$) as\n",
    "\n",
    "$$\\ell(T) = \\sum_{m=1}^M N_m Q_m(T) + \\alpha M$$\n",
    "\n",
    "We can then look for the optimal tree for any particular value of $\\alpha$. \n",
    "\n",
    "The search for the optimal $\\alpha$ and the associated tree is usually done through a procedure known as _weakest link prunning_ which works as follows \n",
    "\n",
    "For any node other than the leaf nodes, we can study how much of an improvement one can get by deleting the subtree located below the node. To do this, we proceed as follows. For any given subtree, we can define the costs $\\tilde{R}(t) = Q(t) + \\alpha$ and $R(T_t) = Q(T_t) + \\alpha|T_t|$. The first one is the cost of the node $t$ (that is the contribution if we removed the whole subtree below $t$) and the second one is the contribution of the term if we were to keep all the leaf of the subtree. For each node in $T_0$, we can look for the $\\alpha$ at which $R(T_t)>R(t)$. In other words, we look for the value $\\alpha$ such that \n",
    "\n",
    "$$Q(t) + \\alpha < Q(T_t) + \\alpha|T_t|$$\n",
    "\n",
    "This is equivalent to looking for the  $\\alpha$ such that $\\alpha>\\frac{Q(t)-Q(T_t)}{|T_t|-t}$. We can do this for every node $t$. The _weakest link_ $t'$ is then the connection for which the $\\alpha(t')$ is the smallest. If there are multiple nodes achieving the same minimum we remove all the sub-branches associated to those nodes. We define the next subtree by removing the sub-branches for _Weakest link_ $t'$. Let us denote that subtree as $T'$. We then repeat the procedure on $T'$, looking for the nodes with smallest $\\alpha$. The procedure generates a sequence of subtrees $T, T', T''$ with associated values $\\alpha_0, \\alpha_1, \\ldots$. \n",
    "\n",
    "Implement _weakest link prunning_ below. "
   ]
  },
  {
   "cell_type": "code",
   "execution_count": 4,
   "metadata": {
    "ExecuteTime": {
     "end_time": "2020-05-13T00:07:16.450116Z",
     "start_time": "2020-05-13T00:07:16.446893Z"
    }
   },
   "outputs": [],
   "source": [
    "import numpy as np\n",
    "\n",
    "'''Could NOT solve'''\n"
   ]
  },
  {
   "cell_type": "markdown",
   "metadata": {},
   "source": [
    "#### Exercise I.1.3. Cross validation (5pts)\n",
    "\n",
    "Given the sequence of subtrees $T_0,T_1, T_2,\\ldots$ and its accompanying sequence of weights $\\alpha_0,\\alpha_1,\\ldots$, one can show that the sequence contains the optimal $\\alpha^*$. To find this $\\alpha^*$, one can use $k$-fold cross validation. \n",
    "\n",
    "Divide the dataset into $K$ bins of size $N/K$. For each of those bins, we will use one bin as our validation/test set and the remaining $K-1$ bins as our training set. \n",
    "\n",
    "1- Using the training set, compute the tree for each of the values of $\\alpha$ obtained above. You don't need to optimize anything as the value on a region is defined as the average of the targets in this region and the number of levels can be set by only retaining those subtrees for which $R_\\alpha(t)>R_{\\alpha}(T_t)$\n",
    "\n",
    "2-Once you have computed all the subtrees, evaluate the prediction error for those subtrees on the set consisting of the remaining $K$ points. The prediction error is just the average target ($c_m$) from the region in which the new points is located minus the true target of this point.\n",
    "\n",
    "And compute the average error as \n",
    "\n",
    "$$E(\\alpha) = \\frac{1}{N}\\sum_{i=1}^N (\\text{prediction}_{T_k(\\alpha)}(\\mathbf{x}_i) - t_i)^2$$\n",
    "\n",
    "where $N$ is the total number of points in the dataset and $\\text{prediction}_{T_k}$ is the prediction obtained on the tree $T_k(\\alpha)$ learned on the set of $N - K$ points to which $\\mathbf{x}_i$ did not belong (i.e. learned without $\\mathbf{x}_i$)\n",
    "\n",
    "\n",
    "Select the $\\alpha$ which gives the smallest error.\n",
    "\n",
    "Take $k$ between $2$ and $4$ and find the optimal $\\alpha$. "
   ]
  },
  {
   "cell_type": "code",
   "execution_count": 5,
   "metadata": {
    "ExecuteTime": {
     "end_time": "2020-05-13T00:07:22.200104Z",
     "start_time": "2020-05-13T00:07:22.197558Z"
    }
   },
   "outputs": [],
   "source": [
    "# put your code here\n",
    "\n",
    "'''Could Not Solve'''"
   ]
  },
  {
   "cell_type": "markdown",
   "metadata": {
    "collapsed": true
   },
   "source": [
    "#### Exercise I.2. Bias-Variance (10pts)\n",
    "\n",
    "In this exercise, we will study the decomposition of the prediction error into the bias and variance contribution for a simple regression model. For a given learning model, the prediction error can read as\n",
    "\n",
    "$$\\mathbb{E}\\left\\{(f(\\mathbf{x},\\theta)) - t(\\mathbf{x}))^2\\right\\}$$\n",
    "\n",
    "After some calculation, this expression can reduce to\n",
    "\n",
    "$$\\mathbb{E}_D\\left\\{(f_D(\\mathbf{x},\\theta)) - t(\\mathbf{x}))^2\\right\\} = \\left(\\mathbb{E}\\left\\{f_d(\\mathbf{x}, \\theta)\\right\\} - t(\\mathbf{x})\\right)^2 + \\mathbb{E}_D\\left\\{\\left(f_D(\\mathbf{x}; \\theta) - \\mathbb{E}_D\\left\\{f_D(\\mathbf{x}, \\theta)\\right\\}\\right)^2\\right\\}$$\n",
    "\n",
    "In this expression, the first term represents the squared bias (that is how much the choice of the family of models we pick differs is able to capture of the measurements we have on average). In the second term, you can recognize the expression of the variance. This second term captures how much the models vary within a particular family of models when we change the subset $D$ on which we learn the models. \n",
    "\n",
    "\n",
    "In this exercise, we will illustrate this decomposition. for a simple regression model on noisy degree $3$ datasets with model of degrees from $0$ to $5$\n",
    "\n",
    "Consider the noisy dataset below. For the sake of the exercise, we will not change the dataset each time when computing the average, but rather just generate new points by changing the noise. "
   ]
  },
  {
   "cell_type": "code",
   "execution_count": 76,
   "metadata": {
    "ExecuteTime": {
     "end_time": "2020-05-26T06:30:51.466965Z",
     "start_time": "2020-05-26T06:30:51.196274Z"
    }
   },
   "outputs": [
    {
     "data": {
      "image/png": "[encoded data removed]",
      "text/plain": [
       "<Figure size 432x288 with 1 Axes>"
      ]
     },
     "metadata": {
      "needs_background": "light"
     },
     "output_type": "display_data"
    }
   ],
   "source": [
    "import numpy as np\n",
    "import matplotlib.pyplot as plt\n",
    "\n",
    "x = np.linspace(-1,1,10)\n",
    "y = x**3 + x**2 + 2*x + 1\n",
    "\n",
    "numTest = 400\n",
    "\n",
    "ynoisy = y +np.random.normal(0,.6,len(x))\n",
    "\n",
    "plt.scatter(x, ynoisy)\n",
    "plt.plot(x, y)\n",
    "plt.show()"
   ]
  },
  {
   "cell_type": "markdown",
   "metadata": {},
   "source": [
    "To represent the three terms (bias, variance and Mean Squared Error) code the following steps \n",
    "\n",
    "__1.__ We will write two nested loops. The first one on the maximum degree of the regression model. The second one on the number of experiments. For each experiments we will generate new points as we did above but with a different noise vector. That is re-use a line of the form ynoisy = y +np.random.normal(0,.6,len(x)) for each XP   \n",
    "\n",
    "\n",
    "__2.__ In each experiment, for each maximum degree of the regression model (0,1,..5), generate the polynomial features up to this degree and learn the regression model on the noisy points with the LinearRegression function from scikit (just use the plain simple synthax : LinearRegression(), no need for any argument and fit the model to the noisy points)\n",
    "\n",
    "\n",
    "__3.__ For each experiment keep track of the models you learn by using the points xprediction below and computing the prediction of the model at those points. Store those predictions in a matrix of size num_MaxDegree x numXP\n",
    "\n",
    "\n",
    "__4.__ Compute each of the three terms (bias, variance and Mean squared error = Bias + variance) by using the expressions given above. \n",
    "\n",
    "\n",
    "__5.__ plot the results"
   ]
  },
  {
   "cell_type": "code",
   "execution_count": 83,
   "metadata": {
    "ExecuteTime": {
     "end_time": "2020-05-26T06:33:22.352935Z",
     "start_time": "2020-05-26T06:33:20.692652Z"
    }
   },
   "outputs": [
    {
     "data": {
      "image/png": "[encoded data removed]",
      "text/plain": [
       "<IPython.core.display.Image object>"
      ]
     },
     "execution_count": 83,
     "metadata": {
      "image/png": {
       "height": "300",
       "width": "500"
      }
     },
     "output_type": "execute_result"
    }
   ],
   "source": [
    "import numpy as np\n",
    "import matplotlib.pyplot as plt\n",
    "\n",
    "x = np.linspace(-1,1,10)\n",
    "y = x**3 + x**2 + 2*x + 1\n",
    "\n",
    "maxDegree = 5\n",
    "numTest = 400\n",
    "\n",
    "from sklearn.linear_model import LinearRegression\n",
    "\n",
    "\n",
    "xprediction = np.linspace(-1,1,100)\n",
    "                \n",
    "    \n",
    "averagePrediction = np.zeros((len(xprediction),maxDegree))  \n",
    "true = np.zeros((len(xprediction),maxDegree))  \n",
    "variance = np.zeros((len(xprediction),maxDegree))  \n",
    "bias = np.zeros((len(xprediction),maxDegree))  \n",
    "\n",
    "    \n",
    "for dmax in np.arange(0,maxDegree):\n",
    "\n",
    "    ynoisy = np.zeros((len(x),numTest))\n",
    "    predictionTesti = np.zeros((len(xprediction),numTest))\n",
    "\n",
    "    clf = LinearRegression()\n",
    "\n",
    "    for testi in np.arange(0,numTest):\n",
    "\n",
    "        ynoisy[:,testi] = y +np.random.normal(0,.6,len(x))\n",
    "        \n",
    "        '''put your code here. Generate the polynomial features up to degree dmax and fit the clf model'''\n",
    "        total_degree = np.arange(0,dmax+1)+1\n",
    "     \n",
    "        X = np.power(x.reshape(-1, 1), total_degree)\n",
    "        \n",
    "        clf.fit(X, ynoisy)\n",
    "        \n",
    "        xnew = np.linspace(-1,1,len(xprediction))\n",
    "        X_pred = np.power(xnew.reshape(-1,1),total_degree )\n",
    "        target_predicted = clf.predict(X_pred)\n",
    "        \n",
    "        predictionTesti[:,testi] = target_predicted[:,testi] # fill in the matrix with the predictions from each model\n",
    "        \n",
    "    avgerage = predictionTesti.mean(axis =1)\n",
    "    avgerage = avgerage.reshape(-1,)\n",
    "    averagePrediction[:,dmax] = avgerage # Compute the average prediction across the XPs\n",
    "    \n",
    "    \n",
    "    center_Pred = predictionTesti - np.expand_dims(averagePrediction[:,dmax],axis=1)\n",
    "    varriance_avg = center_Pred.mean(axis=1)    \n",
    "    variance[:,dmax] = varriance_avg # Compute the variance by averaging over the XP (see expression above)\n",
    "    \n",
    "    clf = LinearRegression()\n",
    "    X = np.power(x.reshape(-1,1),total_degree)\n",
    "    clf.fit(X,y)\n",
    "    \n",
    "    xnew = np.linspace(-1,1,len(xprediction))\n",
    "    X_pred = np.power(xnew.reshape(-1,1), total_degree)\n",
    "    tru = clf.predict(X_pred)\n",
    "    true[:,dmax] =  tru # compute the prediction from the noiselss model to get the targets of the points in xprediction\n",
    "    \n",
    "    avgtru = true.mean(axis=1)\n",
    "    bias[:,dmax] = avgtru # Compute the bias by averaging over the XP (see expression above)\n",
    "\n",
    "'''plot the result using the lines below'''        \n",
    "\n",
    "plt.semilogy(np.arange(0,maxDegree), np.mean(bias,axis=0), label='bias')\n",
    "plt.semilogy(np.arange(0,maxDegree), np.mean(variance,axis=0), label = 'variance')\n",
    "plt.semilogy(np.arange(0,maxDegree), np.mean(bias,axis=0).reshape(-1,1) + np.mean(variance,axis=0).reshape(-1,1), label = 'MSE')\n",
    "\n",
    "plt.legend() \n",
    "\n",
    "plt.show"
   ]
  },
  {
   "cell_type": "markdown",
   "metadata": {},
   "source": [
    "## End of Code for Supervised Section"
   ]
  }
 ],
 "metadata": {
  "kernelspec": {
   "display_name": "Python 3",
   "language": "python",
   "name": "python3"
  },
  "language_info": {
   "codemirror_mode": {
    "name": "ipython",
    "version": 3
   },
   "file_extension": ".py",
   "mimetype": "text/x-python",
   "name": "python",
   "nbconvert_exporter": "python",
   "pygments_lexer": "ipython3",
   "version": "3.7.4"
  },
  "latex_envs": {
   "LaTeX_envs_menu_present": true,
   "autoclose": false,
   "autocomplete": true,
   "bibliofile": "biblio.bib",
   "cite_by": "apalike",
   "current_citInitial": 1,
   "eqLabelWithNumbers": true,
   "eqNumInitial": 1,
   "hotkeys": {
    "equation": "Ctrl-E",
    "itemize": "Ctrl-I"
   },
   "labels_anchors": false,
   "latex_user_defs": false,
   "report_style_numbering": false,
   "user_envs_cfg": false
  }
 },
 "nbformat": 4,
 "nbformat_minor": 2
}
