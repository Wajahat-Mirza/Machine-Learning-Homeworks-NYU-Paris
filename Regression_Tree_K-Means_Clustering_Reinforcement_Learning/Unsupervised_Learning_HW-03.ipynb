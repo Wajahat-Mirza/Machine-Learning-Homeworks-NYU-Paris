{
 "cells": [
  {
   "cell_type": "markdown",
   "metadata": {},
   "source": [
    "## CSCI-UA 9473 Final Assignment\n",
    "\n",
    "## Muhammad Wajahat Mirza"
   ]
  },
  {
   "cell_type": "markdown",
   "metadata": {
    "collapsed": true
   },
   "source": [
    "### Part II. Unsupervised Learning (20pts)"
   ]
  },
  {
   "cell_type": "markdown",
   "metadata": {
    "collapsed": true
   },
   "source": [
    "### Exercise II.1.  Clustering and latent representation\n",
    "\n",
    "The lines below can be used to load and display (low resolution) images of digits from 0 to 9. The labels associated to each image are stored in the vector $y$. From this vector, only retain the images representing $4$ and $3$. We will temporarily forget about the labels for now and learn a 2D representation of the images through ISOMAP. "
   ]
  },
  {
   "cell_type": "markdown",
   "metadata": {},
   "source": [
    "### Import Libraries"
   ]
  },
  {
   "cell_type": "code",
   "execution_count": 221,
   "metadata": {
    "ExecuteTime": {
     "end_time": "2020-05-26T05:36:40.902511Z",
     "start_time": "2020-05-26T05:36:40.898556Z"
    }
   },
   "outputs": [],
   "source": [
    "from __future__ import division \n",
    "from sklearn import datasets\n",
    "import matplotlib.pyplot as plt\n",
    "import numpy as np\n",
    "from sklearn.metrics import pairwise_distances\n",
    "from sklearn.metrics import pairwise_distances_argmin\n",
    "from copy import copy, deepcopy\n",
    "from numpy import linalg as LA\n",
    "from sklearn.manifold import MDS\n",
    "from scipy import linalg"
   ]
  },
  {
   "cell_type": "code",
   "execution_count": 225,
   "metadata": {
    "ExecuteTime": {
     "end_time": "2020-05-26T05:37:15.663005Z",
     "start_time": "2020-05-26T05:37:15.426715Z"
    }
   },
   "outputs": [
    {
     "data": {
      "image/png": "[encoded data removed]",
      "text/plain": [
       "<Figure size 432x288 with 1 Axes>"
      ]
     },
     "metadata": {},
     "output_type": "display_data"
    }
   ],
   "source": [
    "digits = datasets.load_digits(n_class=10)\n",
    "\n",
    "X = digits.data\n",
    "y = digits.target\n",
    "\n",
    "plt.figure()\n",
    "plt.imshow(np.reshape(X[0,:], (8,8)),cmap='gray',alpha=1) \n",
    "plt.show() "
   ]
  },
  {
   "cell_type": "markdown",
   "metadata": {},
   "source": [
    "# Question II.1.1 Building the graph (5pts)\n",
    "\n",
    "We will start by building the graph representing the data. For this, we will follow the steps below \n",
    "\n",
    "\n",
    "__1.__ Center the dataset as $\\mathbf{x}_i \\leftarrow \\mathbf{x}_i - \\mathbb{E}_i\\mathbf{x}_i$\n",
    "\n",
    "__2.__ Compute the matrix of pairwise distances between the centered images. You can do this either by hand, noting that $D(\\mathbf{x}_i, \\mathbf{x}_j) = \\|\\mathbf{x}_i\\|^2 + \\|\\mathbf{x}_j\\|^2 - 2\\langle \\mathbf{x}_i, \\mathbf{x}_j\\rangle$ or using a call to the 'pairwise_distances' function from scikit learn. \n",
    "\n",
    "__3.__ Once you have the distance matrix, obtain the matrix of scalar products by squaring the distances and applying double centering\n",
    "\n",
    "$$\\mathbf{S} = -\\frac{1}{2}(\\mathbf{I} - \\frac{1}{n}\\mathbf{1}\\mathbf{1}^T)\\mathbf{D}^2(\\mathbf{I} - \\frac{1}{n}\\mathbf{1}\\mathbf{1}^T)$$\n",
    "\n",
    "where $\\mathbf{1} = \\left[1,1,\\ldots,1\\right]$ is a vector of all ones and $\\mathbf{I}$ is the indentity matrix.\n",
    "\n",
    "__4.__ Compute the graph representation. The graph $\\mathcal{G} = (\\mathcal{V}, \\mathcal{E})$ si defined on a set of vertices $\\mathcal{V}$ and a set of edges between those vertices $\\mathcal{E}$. The set of vertices corresponds to the set of images in the original dataset. The set of edges will be defined according to the $K$-rule as explained below.\n",
    "\n",
    "We will represent the graph through its adjacency matrix $A$ where $A_{ij} = 1$ if we draw an edge between vertex $i$ and vertex $j$. To build this adjacency matrix, we will add an edge between image $\\mathbf{x}_i$ and image $\\mathbf{x}_j$ whenever $\\mathbf{x}_j$ is among the $K$ nearest neighbors of $\\mathbf{x}_i$. \n",
    "\n",
    "\n"
   ]
  },
  {
   "cell_type": "markdown",
   "metadata": {},
   "source": [
    "# Solution\n",
    "### Create List of 3's and 4's"
   ]
  },
  {
   "cell_type": "code",
   "execution_count": 226,
   "metadata": {
    "ExecuteTime": {
     "end_time": "2020-05-26T05:37:19.278211Z",
     "start_time": "2020-05-26T05:37:19.261248Z"
    }
   },
   "outputs": [
    {
     "name": "stdout",
     "output_type": "stream",
     "text": [
      "Num of Samples: 1797  \n",
      "Total features: 64\n",
      "\n",
      "Target list: \n",
      "[3. 3. 3. 3. 3. 3. 3. 3. 3. 3. 3. 3. 3. 3. 3. 3. 3. 3. 3. 3. 3. 3. 3. 3.\n",
      " 3. 3. 3. 3. 3. 3. 3. 3. 3. 3. 3. 3. 3. 3. 3. 3. 3. 3. 3. 3. 3. 3. 3. 3.\n",
      " 3. 3. 3. 3. 3. 3. 3. 3. 3. 3. 3. 3. 3. 3. 3. 3. 3. 3. 3. 3. 3. 3. 3. 3.\n",
      " 3. 3. 3. 3. 3. 3. 3. 3. 3. 3. 3. 3. 3. 3. 3. 3. 3. 3. 3. 3. 3. 3. 3. 3.\n",
      " 3. 3. 3. 3. 3. 3. 3. 3. 3. 3. 3. 3. 3. 3. 3. 3. 3. 3. 3. 3. 3. 3. 3. 3.\n",
      " 3. 3. 3. 3. 3. 3. 3. 3. 3. 3. 3. 3. 3. 3. 3. 3. 3. 3. 3. 3. 3. 3. 3. 3.\n",
      " 3. 3. 3. 3. 3. 3. 3. 3. 3. 3. 3. 3. 3. 3. 3. 3. 3. 3. 3. 3. 3. 3. 3. 3.\n",
      " 3. 3. 3. 3. 3. 3. 3. 3. 3. 3. 3. 3. 3. 3. 3. 4. 4. 4. 4. 4. 4. 4. 4. 4.\n",
      " 4. 4. 4. 4. 4. 4. 4. 4. 4. 4. 4. 4. 4. 4. 4. 4. 4. 4. 4. 4. 4. 4. 4. 4.\n",
      " 4. 4. 4. 4. 4. 4. 4. 4. 4. 4. 4. 4. 4. 4. 4. 4. 4. 4. 4. 4. 4. 4. 4. 4.\n",
      " 4. 4. 4. 4. 4. 4. 4. 4. 4. 4. 4. 4. 4. 4. 4. 4. 4. 4. 4. 4. 4. 4. 4. 4.\n",
      " 4. 4. 4. 4. 4. 4. 4. 4. 4. 4. 4. 4. 4. 4. 4. 4. 4. 4. 4. 4. 4. 4. 4. 4.\n",
      " 4. 4. 4. 4. 4. 4. 4. 4. 4. 4. 4. 4. 4. 4. 4. 4. 4. 4. 4. 4. 4. 4. 4. 4.\n",
      " 4. 4. 4. 4. 4. 4. 4. 4. 4. 4. 4. 4. 4. 4. 4. 4. 4. 4. 4. 4. 4. 4. 4. 4.\n",
      " 4. 4. 4. 4. 4. 4. 4. 4. 4. 4. 4. 4. 4. 4. 4. 4. 4. 4. 4. 4. 4. 4. 4. 4.\n",
      " 4. 4. 4. 4.]\n"
     ]
    }
   ],
   "source": [
    "n_samples, n_features = X.shape\n",
    "\n",
    "\n",
    "lst_3 = []\n",
    "lst_4 = []\n",
    "\n",
    "for id, value in enumerate(y):\n",
    "    if value == 3:\n",
    "        lst_3.append(X[id])\n",
    "    elif value == 4:\n",
    "        lst_4.append(X[id])\n",
    "\n",
    "lst_3 = np.array(lst_3)\n",
    "lst_4 = np.array(lst_4)\n",
    "\n",
    "num_concat = np.concatenate((lst_3, lst_4))\n",
    "targets = np.concatenate((3*np.ones(lst_3.shape[0]), 4*np.ones(lst_4.shape[0])))\n",
    "\n",
    "print(\"Num of Samples: {}  \\nTotal features: {}\\n\".format(n_samples, n_features))\n",
    "print(\"Target list: \\n{}\".format(targets))"
   ]
  },
  {
   "cell_type": "code",
   "execution_count": 227,
   "metadata": {
    "ExecuteTime": {
     "end_time": "2020-05-26T05:37:21.077797Z",
     "start_time": "2020-05-26T05:37:21.072763Z"
    }
   },
   "outputs": [
    {
     "name": "stdout",
     "output_type": "stream",
     "text": [
      "\n",
      "Center of X: \n",
      "[[-4.82443338 -4.82443338  2.17556662 ...  4.17556662 -4.82443338\n",
      "  -4.82443338]\n",
      " [-4.82443338 -2.82443338  4.17556662 ...  6.17556662 -4.82443338\n",
      "  -4.82443338]\n",
      " [-4.82443338 -3.82443338  3.17556662 ... -2.82443338 -4.82443338\n",
      "  -4.82443338]\n",
      " ...\n",
      " [-4.82443338 -4.82443338 -4.82443338 ...  2.17556662 -4.82443338\n",
      "  -4.82443338]\n",
      " [-4.82443338 -4.82443338 -4.82443338 ...  4.17556662 -4.82443338\n",
      "  -4.82443338]\n",
      " [-4.82443338 -4.82443338 -4.82443338 ... -0.82443338 -4.82443338\n",
      "  -4.82443338]]\n",
      " \n",
      "Mean of X is: 7.320151810715317e-16\n"
     ]
    }
   ],
   "source": [
    "X_mean = num_concat - np.mean(num_concat)\n",
    "print(\"\\nCenter of X: \\n{}\\n \\nMean of X is: {}\".format(X_mean, X_mean.mean()))"
   ]
  },
  {
   "cell_type": "markdown",
   "metadata": {},
   "source": [
    "## Computing S using: \n",
    "$$\\mathbf{S} = -\\frac{1}{2}(\\mathbf{I} - \\frac{1}{n}\\mathbf{1}\\mathbf{1}^T)\\mathbf{D}^2(\\mathbf{I} - \\frac{1}{n}\\mathbf{1}\\mathbf{1}^T)$$"
   ]
  },
  {
   "cell_type": "code",
   "execution_count": 228,
   "metadata": {
    "ExecuteTime": {
     "end_time": "2020-05-26T05:37:23.192810Z",
     "start_time": "2020-05-26T05:37:23.176368Z"
    }
   },
   "outputs": [
    {
     "name": "stdout",
     "output_type": "stream",
     "text": [
      "Shape of S: (364, 364)\n"
     ]
    }
   ],
   "source": [
    "def center(X):\n",
    "    dist_mat = pairwise_distances(X_mean)\n",
    "    dist_squ = np.square(dist_mat)\n",
    "    \n",
    "    instance = np.shape(dist_squ)[0]\n",
    "    '''Ones on the diagonal and zeros elsewhere'''\n",
    "    I = np.eye(instance)\n",
    "    E = np.ones((instance, 1))\n",
    "        \n",
    "        \n",
    "#     S = np.dot((I - (1/instance)*np.dot(E, E.T)), dist_squ)\n",
    "#     S = np.dot(S, (I - (1/instance)*np.dot(E, E.T)))\n",
    "#     S = (-1/2)*S\n",
    "    \n",
    "    S_first_term = np.dot((I - (1/instance)*np.dot(E, E.T)), dist_squ)\n",
    "    S_second_term = (I - (1/instance)*np.dot(E, E.T))\n",
    "    S = (-1/2)*np.dot(S_first_term, S_second_term)\n",
    "    \n",
    "    return S\n",
    "S = center(X_mean)\n",
    "print(\"Shape of S: {}\".format(S.shape))\n"
   ]
  },
  {
   "cell_type": "markdown",
   "metadata": {},
   "source": [
    "### Nearest Neighbour"
   ]
  },
  {
   "cell_type": "code",
   "execution_count": 229,
   "metadata": {
    "ExecuteTime": {
     "end_time": "2020-05-26T05:37:25.749204Z",
     "start_time": "2020-05-26T05:37:25.734322Z"
    }
   },
   "outputs": [
    {
     "name": "stdout",
     "output_type": "stream",
     "text": [
      "Shape of D is: (364, 364)\n",
      "\n",
      "K Neighbor Matrix: \n",
      "[[ 26. 152. 156.  49.  28.]\n",
      " [ 35. 168.   7. 179.  31.]\n",
      " [ 25. 124.  15.  24.  19.]\n",
      " ...\n",
      " [362. 272. 358. 316. 308.]\n",
      " [300. 266. 361. 358. 363.]\n",
      " [306. 270. 263. 362. 305.]]\n"
     ]
    }
   ],
   "source": [
    "def near_neighbor(k, X_mean):\n",
    "    k_mat = np.zeros((len(X_mean), k))\n",
    "    D = pairwise_distances(X_mean.astype(np.float64))\n",
    "    for val in range(len(X_mean)):\n",
    "        k_mat[val] = D[val,:].argsort()[1:k+1]\n",
    "    \n",
    "    print(\"Shape of D is: {}\\n\\nK Neighbor Matrix: \\n{}\".format(D.shape,k_mat))\n",
    "    \n",
    "    return k_mat, D\n",
    "k = 5\n",
    "k_mat, D = near_neighbor(k, X_mean)"
   ]
  },
  {
   "cell_type": "markdown",
   "metadata": {},
   "source": [
    "### Creating Adjaceny Matrix (Graph)"
   ]
  },
  {
   "cell_type": "code",
   "execution_count": 230,
   "metadata": {
    "ExecuteTime": {
     "end_time": "2020-05-26T05:37:28.737776Z",
     "start_time": "2020-05-26T05:37:28.107771Z"
    },
    "scrolled": true
   },
   "outputs": [
    {
     "name": "stdout",
     "output_type": "stream",
     "text": [
      "A Matrix is: \n",
      "\n",
      "[[  0. 999. 999. ... 999. 999. 999.]\n",
      " [999.   0. 999. ... 999. 999. 999.]\n",
      " [999. 999.   0. ... 999. 999. 999.]\n",
      " ...\n",
      " [999. 999. 999. ...   0.   1. 999.]\n",
      " [999. 999. 999. ...   1.   0.   1.]\n",
      " [999. 999. 999. ... 999.   1.   0.]]\n",
      "\n"
     ]
    }
   ],
   "source": [
    "def mat_adjacency(K, S, D):\n",
    "    A = np.zeros(shape = D.shape)\n",
    "    for val in range(S.shape[0]):\n",
    "        for val2 in range(S.shape[1]):\n",
    "            if val == val2:\n",
    "                continue\n",
    "            elif val2 in K[val]:\n",
    "                A[val][val2] = 1\n",
    "            else:\n",
    "                A[val][val2] = 999\n",
    "                \n",
    "    print(\"A Matrix is: \\n\\n{}\\n\".format(A))\n",
    "    return A\n",
    "\n",
    "S_mat = center(X_mean)\n",
    "A = mat_adjacency(k_mat, S_mat, D) "
   ]
  },
  {
   "cell_type": "markdown",
   "metadata": {},
   "source": [
    "# Question II.1.2 Computing the geodesic distances (5pts)\n",
    "\n",
    "__1.__ Once we have the graph representation of the data, we need to compute the shortest path between any two vertices in this graph (shortest geodesic distance between any two images). To do that, connect the vertices that were not connected by the K nearest neighbors approach, with an edge of sufficiently large weight (To avoid having to take huge values, you might want to normalize the distances (resp scalar product) for example by normalizing by the norm of the matrix). You should then have an adjacency matrix $\\mathbf{A}$ with $0$ on the diagonal and such that $A_{ij} = 1$ if the two images are connected and $A_{ij} = \\inf$ or some large number if they are not.\n",
    "\n",
    "\n",
    "__2.__ Let us denote the updated adjacency matrix as $\\tilde{\\mathbf{A}}$. From this matrix, we will now compute the shortest geodesic distance. That can be done through the Floyd-Warshall algorithm as indicated below.\n"
   ]
  },
  {
   "cell_type": "markdown",
   "metadata": {
    "ExecuteTime": {
     "end_time": "2020-05-13T00:09:09.269149Z",
     "start_time": "2020-05-13T00:09:09.265685Z"
    }
   },
   "source": [
    "### code the Floyd Warshall algorithm as follows\n",
    "         for k = 1 to n\n",
    " \n",
    "             for i =1 to n\n",
    "     \n",
    "                 for j = 1 to n\n",
    "         \n",
    "\n",
    "$$\\tilde{A}_{ij}\\leftarrow\\min(A_{ij}, A_{ik + A_{kj}})$$\n",
    "\n",
    "## Solution"
   ]
  },
  {
   "cell_type": "code",
   "execution_count": 231,
   "metadata": {
    "ExecuteTime": {
     "end_time": "2020-05-26T05:37:32.863403Z",
     "start_time": "2020-05-26T05:37:32.857647Z"
    }
   },
   "outputs": [],
   "source": [
    "def Floyd_Warshall(A, N):\n",
    "    d = deepcopy(A)\n",
    "    \n",
    "    for k in range(N):\n",
    "        for j in range(N):\n",
    "            for i in range(N):\n",
    "                d[i][j] = min(d[i][j], d[i][k]+ d[k][j])\n",
    "\n",
    "    return d"
   ]
  },
  {
   "cell_type": "code",
   "execution_count": 232,
   "metadata": {
    "ExecuteTime": {
     "end_time": "2020-05-26T05:38:50.744527Z",
     "start_time": "2020-05-26T05:37:36.146485Z"
    },
    "run_control": {
     "marked": false
    }
   },
   "outputs": [],
   "source": [
    "N = A.shape[0]\n",
    "d = Floyd_Warshall(A, N)"
   ]
  },
  {
   "cell_type": "code",
   "execution_count": 233,
   "metadata": {
    "ExecuteTime": {
     "end_time": "2020-05-26T05:42:29.272309Z",
     "start_time": "2020-05-26T05:42:29.263701Z"
    }
   },
   "outputs": [
    {
     "name": "stdout",
     "output_type": "stream",
     "text": [
      "Shape of d: (364, 364)\n",
      "d[0] is: \n",
      "[  0.   5.   9.   9.   8.   8.   8.   6.   8.   7.   7.   7.  11. 999.\n",
      "   7.   9.   5.   7.   8.   9.   7.   7.   7.   6.   8.  10.   1.   5.\n",
      "   1.   5.   4.   5.   4.   4.   4.   4.   3.   4.   2.   5.  12.   3.\n",
      "   6.   3.   4.   3.   4.   2.   2.   1. 999. 999. 999. 999. 999. 999.\n",
      " 999. 999. 999. 999. 999. 999. 999. 999. 999. 999.   5.   7.   6. 999.\n",
      "   6.   6.   5.   4.   6.   6.   6.   6.   5.   5.   2.   3.   4.   5.\n",
      "   6.  11.  10.   5.   2.   4.   6.   7.   3.   5.   3.   4.   2.   6.\n",
      "   4.   6.   5.   4.   5.   3.   6.   3.   3.   4.   5.   6.   6.   6.\n",
      "   5.   2.   2. 999.   3. 999.   5.   7.   4.  10.   5.   6.  10.   6.\n",
      "   6.   6.   5.   6.   7. 999.   5.   4.   4.   6.   7.   6.   5.   3.\n",
      "   6. 999.   6.   4.   2.   2.   2.   4.   3.   3.   3.   3.   1.   3.\n",
      "   5.   4.   1.   7.  11.   7.  10.   9.  10.  11.   9.   7.   7. 999.\n",
      "   6.   6.   6.   8.   8.  10.   9.  10. 999.   9.   9.   6. 999.   7.\n",
      "   8. 999. 999. 999. 999. 999. 999. 999. 999. 999. 999. 999. 999. 999.\n",
      " 999. 999. 999. 999. 999. 999. 999. 999. 999. 999. 999. 999. 999. 999.\n",
      " 999. 999. 999. 999. 999. 999. 999. 999. 999. 999. 999. 999. 999. 999.\n",
      " 999. 999. 999. 999. 999. 999. 999. 999. 999. 999. 999. 999. 999. 999.\n",
      " 999. 999. 999. 999. 999. 999. 999. 999. 999. 999. 999. 999. 999. 999.\n",
      " 999. 999. 999. 999. 999. 999. 999. 999. 999. 999. 999. 999. 999. 999.\n",
      " 999. 999. 999. 999. 999. 999. 999. 999. 999. 999. 999. 999. 999. 999.\n",
      " 999. 999. 999. 999. 999. 999. 999. 999. 999. 999. 999. 999. 999. 999.\n",
      " 999. 999. 999. 999. 999. 999. 999. 999. 999. 999. 999. 999. 999. 999.\n",
      " 999. 999. 999. 999. 999. 999. 999. 999. 999. 999. 999. 999. 999. 999.\n",
      " 999. 999. 999. 999. 999. 999. 999. 999. 999. 999. 999. 999. 999. 999.\n",
      " 999. 999. 999. 999. 999. 999. 999. 999. 999. 999. 999. 999. 999. 999.\n",
      " 999. 999. 999. 999. 999. 999. 999. 999. 999. 999. 999. 999. 999. 999.]\n",
      "\n"
     ]
    }
   ],
   "source": [
    "print(\"Shape of d: {}\\nd[0] is: \\n{}\\n\".format(d.shape, d[0]))"
   ]
  },
  {
   "cell_type": "markdown",
   "metadata": {},
   "source": [
    "# Question II.1.3 Low dimensional projection (2pts)\n",
    "\n",
    "To conclude, from the matrix of geodesic distances, compute the low dimensional representation. Do this by\n",
    "\n",
    "1. First getting the singular value decomposition of the geodesic distance matrix as $\\mathbf{S}_\\mathcal{G} = \\mathbf{U}\\mathbf{\\Lambda}\\mathbf{U}^T$. Define the projection as $\\mathbf{I_{P\\times N}}\\mathbf{\\Lambda}^{1/2}\\mathbf{U}^T$ with $P=2$ (that is retain the first two rows of the matrix $\\mathbf{\\Lambda}^{1/2}\\mathbf{U}^T$).\n",
    "\n",
    "2. Represent each image $\\mathbf{x}_i$ from the $2$ tuple encoded in the $i^{th}$ column of $\\mathbf{I}_{2\\times N}\\mathbf{\\Lambda}^{1/2}\\mathbf{U}^T$. Display the result below.\n"
   ]
  },
  {
   "cell_type": "markdown",
   "metadata": {},
   "source": [
    "##### Email Question Correction\n",
    "There is a mistake in Assignment 4, Question II.1.3. You have to compute the eigenvalue decomposition (U Lambda U^T) of the scalar product matrix S obtained from the square of the geodesic distance matrix (S can be obtained from D^2 through double centering) and not from the geodesic distance matrix itself. In other words, from the Floyd Warshall algorithm, you get the graph (geodesic) distance matrix. But then, as you did in Q. II.1.1, you need to square the matrix of distances and then get the scalar product matrix from D^2 by using double centering, i.e. \n",
    "S_G = -1/2 (I - (1/n)11^T)D^2_G(I - (1/n)11^T)\n",
    "\n",
    "Once you have S_G you can get the low dimensional representation by computing the eigenvalue decomposition and retaining the first two rows from Lambda^(1/2)U^T\n",
    "\n",
    "if you have done the computations for D, doing it for S is straightforward though"
   ]
  },
  {
   "cell_type": "markdown",
   "metadata": {},
   "source": [
    "# Solution"
   ]
  },
  {
   "cell_type": "code",
   "execution_count": 236,
   "metadata": {
    "ExecuteTime": {
     "end_time": "2020-05-26T05:43:11.655382Z",
     "start_time": "2020-05-26T05:43:11.314509Z"
    }
   },
   "outputs": [
    {
     "data": {
      "image/png": "[encoded data removed]",
      "text/plain": [
       "<Figure size 432x288 with 1 Axes>"
      ]
     },
     "metadata": {},
     "output_type": "display_data"
    }
   ],
   "source": [
    "def low_dimension(d):\n",
    "    w, v = LA.eig(d)\n",
    "    \n",
    "    S = center(d)\n",
    "    S_gra = np.dot(np.sqrt(v), S.T)\n",
    "    I = np.identity(364)\n",
    "\n",
    "    f = np.dot(I, S_gra)\n",
    "    x = f[0].real\n",
    "    y = f[1].real\n",
    "\n",
    "    U_U = []\n",
    "    for i in range(x.shape[0]):\n",
    "        c = np.array([x[i], y[i]])\n",
    "        U_U.append(c)\n",
    "    U_U = np.asarray(U_U)\n",
    "    \n",
    "    plt.rcParams['figure.facecolor'] = 'white'\n",
    "    plt.rcParams['axes.facecolor'] = '#FDEDEC'\n",
    "    plt.scatter(U_U[:183, 0], U_U[:183, 1], s = 20, marker = 'x', cmap = \"cool\", alpha = 0.8)\n",
    "    plt.scatter(U_U[183:, 0], U_U[183:, 1], s = 20, marker = 'x', cmap = \"cool\", alpha = 0.8)\n",
    "    \n",
    "    return U_U\n",
    "\n",
    "U_U = low_dimension(d)"
   ]
  },
  {
   "cell_type": "code",
   "execution_count": 237,
   "metadata": {
    "ExecuteTime": {
     "end_time": "2020-05-26T05:43:12.753042Z",
     "start_time": "2020-05-26T05:43:12.748296Z"
    },
    "scrolled": true
   },
   "outputs": [
    {
     "name": "stdout",
     "output_type": "stream",
     "text": [
      "\n",
      "Some Values returned by Low_dimensionality Function:\n",
      " \n",
      "[[2763.28257595 3383.23244047]\n",
      " [2690.52585643 3742.19691114]\n",
      " [1350.47522381 1908.47488182]\n",
      " [2887.57878181 3670.26484252]\n",
      " [2074.10360441 3008.95500345]\n",
      " [2655.6194525  3522.07205434]\n",
      " [2458.47743728 3587.46326024]\n",
      " [1993.88572106 3264.35353114]\n",
      " [1296.44252406 1927.06822682]\n",
      " [2080.35101207 3038.75731307]]\n",
      "\n"
     ]
    }
   ],
   "source": [
    " print(\"\\nSome Values returned by Low_dimensionality Function:\\n \\n{}\\n\".format(U_U[:10]))"
   ]
  },
  {
   "cell_type": "markdown",
   "metadata": {},
   "source": [
    "### Exercise II.2. (K-means)"
   ]
  },
  {
   "cell_type": "markdown",
   "metadata": {},
   "source": [
    "# Question II.2.1 (8pts)\n",
    "\n",
    "Now that we have a two dimensional representation for the images. We will use a clustering algorithm to learn how to distinguish between the two digits. \n",
    "\n",
    "\n",
    "__1.__ Start by splitting the dataset into a training and a validation set (let us take $90\\%$ training and $10\\%$ validation). \n",
    "\n",
    "__2.__ Initialize the $K$-means algorithm with $2$ centroids located at random positions\n",
    "\n",
    "__3.__ Assign each point to its nearest centroid as \n",
    "\n",
    "$$\\mathcal{C}(\\mathbf{x}_i) \\leftarrow \\underset{k}{\\operatorname{argmin}}  \\|\\mathbf{x}_i - \\mathbf{c}_{k}\\|^2$$\n",
    "\n",
    "__4.__ Update the centroids as \n",
    "\n",
    "$$\\mathbf{c}_k \\leftarrow \\frac{1}{N_k}\\sum_{\\ell\\in \\mathcal{C}_k}\\mathbf{x}_\\ell,\\quad k=1,2.$$\n",
    "\n",
    "__5.__ Make sure to properly treat empty clusters. If you end up with an empty cluster, restart the iterations by splitting the single cluter you have into two sub-clusters and define your new centroids as the centers of mass of those clusters. \n"
   ]
  },
  {
   "cell_type": "markdown",
   "metadata": {},
   "source": [
    "# Solution \n",
    "\n",
    "                    Use this Equation\n",
    "$$\\mathbf{c}_k \\leftarrow \\frac{1}{N_k}\\sum_{\\ell\\in \\mathcal{C}_k}\\mathbf{x}_\\ell,\\quad k=1,2.$$"
   ]
  },
  {
   "cell_type": "code",
   "execution_count": 238,
   "metadata": {
    "ExecuteTime": {
     "end_time": "2020-05-26T05:43:17.317951Z",
     "start_time": "2020-05-26T05:43:17.003468Z"
    }
   },
   "outputs": [
    {
     "name": "stdout",
     "output_type": "stream",
     "text": [
      "Labels are: \n",
      "\n",
      "[1 1 0 1 1 0 1 1 0 0 1 1 0 1 1 1 1 0 0 1 1 1 0 1 0 0 0 1 0 0 0 0 1 0 1 1 0\n",
      " 0 1 0 1 0 1 0 0 0 1 0 0 0 1 0 1 1 1 1 1 0 1 0 1 0 1 0 1 0 0 1 0 1 0 1 0 1\n",
      " 1 1 0 1 0 0 1 1 1 0 0 0 1 1 1 0 0 1 0 0 0 0 1 1 0 0 1 0 1 1 1 0 1 1 0 1 0\n",
      " 0 1 0 0 0 0 1 0 0 0 1 1 1 1 1 0 0 1 0 1 0 1 0 1 0 0 1 0 0 1 1 1 1 0 1 0 0\n",
      " 0 1 1 0 1 1 1 1 1 1 1 1 1 0 1 0 1 1 0 1 0 0 0 1 1 1 1 1 1 0 0 0 1 0 1 1 0\n",
      " 0 1 1 0 0 1 0 0 0 1 0 1 1 0 1 1 0 0 1 1 1 0 0 1 0 0 0 1 0 1 0 0 1 1 1 0 1\n",
      " 0 0 0 0 0 1 0 1 1 1 1 1 1 1 0 1 1 1 1 0 1 0 0 1 1 1 0 0 0 0 1 1 1 0 1 1 0\n",
      " 1 0 1 0 0 0 0 0 0 0 0 1 1 0 0 0 0 0 1 1 1 0 1 0 1 0 0 0 0 1 0 0 1 1 0 1 0\n",
      " 0 1 1 1 1 0 0 1 0 1 1 0 1 1 1 0 0 1 0 0 0 1 0 0 1 1 0 0 1 0 0 1]\n",
      "\n",
      " Centeriods of the two clusters are: \n",
      " [[-2497.61171634 -3295.30656757]\n",
      " [ 2400.59008626  3146.60710101]]\n",
      "\n",
      "\n",
      "Visual Representation of two clusters\n"
     ]
    },
    {
     "data": {
      "image/png": "[encoded data removed]",
      "text/plain": [
       "<Figure size 432x288 with 1 Axes>"
      ]
     },
     "metadata": {},
     "output_type": "display_data"
    }
   ],
   "source": [
    "def K_means(X):\n",
    "    \n",
    "    np.random.shuffle(X)\n",
    "    '''Using 90% for test and 10% for validate'''\n",
    "    id_break = round(0.9*X.shape[0])\n",
    "\n",
    "    train = deepcopy(X[:id_break])\n",
    "    test = deepcopy(X[id_break:])\n",
    "    K, instance, count = 2, train.shape[0], train.shape[1]\n",
    "    \n",
    "    ''' Mean, STD and Centeriods'''\n",
    "    mean = np.mean(train, axis = 0)\n",
    "    std = np.std(train, axis = 0)\n",
    "    center = np.random.randn(K,count)*std + mean\n",
    "    \n",
    "    '''Previous and New current centers'''\n",
    "    center_prev = np.zeros(center.shape) \n",
    "    center_curr = deepcopy(center) \n",
    "    \n",
    "    '''Clusters'''\n",
    "    clusters = np.zeros(instance)\n",
    "    distances = np.zeros((instance,K))\n",
    "    err = np.linalg.norm(center_curr - center_prev)\n",
    "    \n",
    "    '''Updating until Error = 0'''\n",
    "    while err != 0:\n",
    "        for i in range(K):\n",
    "            distances[:,i] = np.linalg.norm(train - center_curr[i], axis=1)\n",
    "        clusters = np.argmin(distances, axis = 1) \n",
    "        center_prev = deepcopy(center_curr)\n",
    "\n",
    "        for i in range(K):\n",
    "            center_curr[i] = np.mean(train[clusters == i], axis=0) \n",
    "        err = np.linalg.norm(center_curr - center_prev)\n",
    "\n",
    "    labels = pairwise_distances_argmin(train, center_curr)\n",
    "\n",
    "    print(\"Labels are: \\n\\n{}\\n\\n Centeriods of the two clusters are: \\n {}\".format(labels,center_curr))\n",
    "    print(\"\\n\\nVisual Representation of two clusters\")\n",
    "    \n",
    "    plt.rcParams['figure.facecolor'] = 'white'\n",
    "    plt.rcParams['axes.facecolor'] = '#FDEDEC'\n",
    "    plt.scatter(train[:, 0], train[:, 1], c = labels, s = 20, marker = 'x', cmap = \"cool\", alpha = 0.8)\n",
    "    \n",
    "    return train, test, labels, err, center_curr\n",
    "train, test, labels, error, center = K_means(U_U)"
   ]
  },
  {
   "cell_type": "markdown",
   "metadata": {},
   "source": [
    "## Testing on Validation"
   ]
  },
  {
   "cell_type": "code",
   "execution_count": 239,
   "metadata": {
    "ExecuteTime": {
     "end_time": "2020-05-26T05:43:20.932150Z",
     "start_time": "2020-05-26T05:43:20.690815Z"
    }
   },
   "outputs": [
    {
     "name": "stdout",
     "output_type": "stream",
     "text": [
      "\n",
      "Visual Representation of Clusters on Validation Dataset\n"
     ]
    },
    {
     "data": {
      "text/plain": [
       "<matplotlib.collections.PathCollection at 0x1397abb10>"
      ]
     },
     "execution_count": 239,
     "metadata": {},
     "output_type": "execute_result"
    },
    {
     "data": {
      "image/png": "[encoded data removed]",
      "text/plain": [
       "<Figure size 432x288 with 1 Axes>"
      ]
     },
     "metadata": {},
     "output_type": "display_data"
    }
   ],
   "source": [
    "new_label = pairwise_distances_argmin(test, center)\n",
    "print(\"\\nVisual Representation of Clusters on Validation Dataset\")\n",
    "plt.scatter(test[:, 0], test[:, 1], c = new_label, s = 20, marker = 'x', cmap = \"cool\", alpha = 0.8)"
   ]
  },
  {
   "cell_type": "markdown",
   "metadata": {},
   "source": [
    "# End of Code For UnSupervised Section"
   ]
  }
 ],
 "metadata": {
  "kernelspec": {
   "display_name": "Python 3",
   "language": "python",
   "name": "python3"
  },
  "language_info": {
   "codemirror_mode": {
    "name": "ipython",
    "version": 3
   },
   "file_extension": ".py",
   "mimetype": "text/x-python",
   "name": "python",
   "nbconvert_exporter": "python",
   "pygments_lexer": "ipython3",
   "version": "3.7.4"
  },
  "latex_envs": {
   "LaTeX_envs_menu_present": true,
   "autoclose": false,
   "autocomplete": true,
   "bibliofile": "biblio.bib",
   "cite_by": "apalike",
   "current_citInitial": 1,
   "eqLabelWithNumbers": true,
   "eqNumInitial": 1,
   "hotkeys": {
    "equation": "Ctrl-E",
    "itemize": "Ctrl-I"
   },
   "labels_anchors": false,
   "latex_user_defs": false,
   "report_style_numbering": false,
   "user_envs_cfg": false
  }
 },
 "nbformat": 4,
 "nbformat_minor": 2
}
